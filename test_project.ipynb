{
  "nbformat": 4,
  "nbformat_minor": 0,
  "metadata": {
    "colab": {
      "name": "test_project.ipynb",
      "provenance": [],
      "collapsed_sections": [],
      "toc_visible": true,
      "mount_file_id": "1RZAw5XPdlvEGB9JpKSwaLIpkYLtJ9jCM",
      "authorship_tag": "ABX9TyO2Yz4NMeLGOrKDtzhG5/jp",
      "include_colab_link": true
    },
    "kernelspec": {
      "name": "python3",
      "display_name": "Python 3"
    }
  },
  "cells": [
    {
      "cell_type": "markdown",
      "metadata": {
        "id": "view-in-github",
        "colab_type": "text"
      },
      "source": [
        "<a href=\"https://colab.research.google.com/github/nachiketaraina/ndvi_using_gee/blob/master/test_project.ipynb\" target=\"_parent\"><img src=\"https://colab.research.google.com/assets/colab-badge.svg\" alt=\"Open In Colab\"/></a>"
      ]
    },
    {
      "cell_type": "code",
      "metadata": {
        "id": "UuwXLGdBeTuC",
        "colab_type": "code",
        "colab": {
          "base_uri": "https://localhost:8080/",
          "height": 1000
        },
        "outputId": "27388577-7c89-43b0-d7f9-444ad1dfdbf8"
      },
      "source": [
        "!pip install ipygee #ipygee is a tool helpful in map"
      ],
      "execution_count": 69,
      "outputs": [
        {
          "output_type": "stream",
          "text": [
            "Collecting ipygee\n",
            "  Downloading https://files.pythonhosted.org/packages/39/14/1584652e820697ebcd0a0b9efdc5d9975639a32120200f4a9841b3c77277/ipygee-0.0.14.tar.gz\n",
            "Collecting ipyleaflet>=0.10.2\n",
            "\u001b[?25l  Downloading https://files.pythonhosted.org/packages/7d/09/6f2a89769d1fca97231ce11c63f7b7cc2971eed4f751c6c148f25b478725/ipyleaflet-0.12.3-py2.py3-none-any.whl (2.8MB)\n",
            "\u001b[K     |████████████████████████████████| 2.8MB 10.2MB/s \n",
            "\u001b[?25hCollecting pygal\n",
            "\u001b[?25l  Downloading https://files.pythonhosted.org/packages/5f/b7/201c9254ac0d2b8ffa3bb2d528d23a4130876d9ba90bc28e99633f323f17/pygal-2.4.0-py2.py3-none-any.whl (127kB)\n",
            "\u001b[K     |████████████████████████████████| 133kB 57.9MB/s \n",
            "\u001b[?25hRequirement already satisfied: pandas in /usr/local/lib/python3.6/dist-packages (from ipygee) (0.25.3)\n",
            "Collecting geetools\n",
            "\u001b[?25l  Downloading https://files.pythonhosted.org/packages/9e/01/5fa97297cd790820539e56958d364385b882f7be19986f3a4bb7f9be43e5/geetools-0.4.15.tar.gz (76kB)\n",
            "\u001b[K     |████████████████████████████████| 81kB 12.3MB/s \n",
            "\u001b[?25hCollecting traittypes<3,>=0.2.1\n",
            "  Downloading https://files.pythonhosted.org/packages/9c/d1/8d5bd662703cc1764d986f6908a608777305946fa634d34c470cd4a1e729/traittypes-0.2.1-py2.py3-none-any.whl\n",
            "Collecting branca<0.4,>=0.3.1\n",
            "  Downloading https://files.pythonhosted.org/packages/63/36/1c93318e9653f4e414a2e0c3b98fc898b4970e939afeedeee6075dd3b703/branca-0.3.1-py3-none-any.whl\n",
            "Requirement already satisfied: xarray>=0.10 in /usr/local/lib/python3.6/dist-packages (from ipyleaflet>=0.10.2->ipygee) (0.15.0)\n",
            "Requirement already satisfied: ipywidgets<8,>=7.5.0 in /usr/local/lib/python3.6/dist-packages (from ipyleaflet>=0.10.2->ipygee) (7.5.1)\n",
            "Requirement already satisfied: python-dateutil>=2.6.1 in /usr/local/lib/python3.6/dist-packages (from pandas->ipygee) (2.8.1)\n",
            "Requirement already satisfied: pytz>=2017.2 in /usr/local/lib/python3.6/dist-packages (from pandas->ipygee) (2018.9)\n",
            "Requirement already satisfied: numpy>=1.13.3 in /usr/local/lib/python3.6/dist-packages (from pandas->ipygee) (1.18.1)\n",
            "Requirement already satisfied: requests in /usr/local/lib/python3.6/dist-packages (from geetools->ipygee) (2.21.0)\n",
            "Requirement already satisfied: Pillow in /usr/local/lib/python3.6/dist-packages (from geetools->ipygee) (7.0.0)\n",
            "Collecting pyshp\n",
            "\u001b[?25l  Downloading https://files.pythonhosted.org/packages/27/16/3bf15aa864fb77845fab8007eda22c2bd67bd6c1fd13496df452c8c43621/pyshp-2.1.0.tar.gz (215kB)\n",
            "\u001b[K     |████████████████████████████████| 225kB 49.9MB/s \n",
            "\u001b[?25hRequirement already satisfied: traitlets>=4.2.2 in /usr/local/lib/python3.6/dist-packages (from traittypes<3,>=0.2.1->ipyleaflet>=0.10.2->ipygee) (4.3.3)\n",
            "Requirement already satisfied: jinja2 in /usr/local/lib/python3.6/dist-packages (from branca<0.4,>=0.3.1->ipyleaflet>=0.10.2->ipygee) (2.11.1)\n",
            "Requirement already satisfied: six in /usr/local/lib/python3.6/dist-packages (from branca<0.4,>=0.3.1->ipyleaflet>=0.10.2->ipygee) (1.12.0)\n",
            "Requirement already satisfied: ipykernel>=4.5.1 in /usr/local/lib/python3.6/dist-packages (from ipywidgets<8,>=7.5.0->ipyleaflet>=0.10.2->ipygee) (4.6.1)\n",
            "Requirement already satisfied: ipython>=4.0.0; python_version >= \"3.3\" in /usr/local/lib/python3.6/dist-packages (from ipywidgets<8,>=7.5.0->ipyleaflet>=0.10.2->ipygee) (5.5.0)\n",
            "Requirement already satisfied: widgetsnbextension~=3.5.0 in /usr/local/lib/python3.6/dist-packages (from ipywidgets<8,>=7.5.0->ipyleaflet>=0.10.2->ipygee) (3.5.1)\n",
            "Requirement already satisfied: nbformat>=4.2.0 in /usr/local/lib/python3.6/dist-packages (from ipywidgets<8,>=7.5.0->ipyleaflet>=0.10.2->ipygee) (5.0.4)\n",
            "Requirement already satisfied: urllib3<1.25,>=1.21.1 in /usr/local/lib/python3.6/dist-packages (from requests->geetools->ipygee) (1.24.3)\n",
            "Requirement already satisfied: chardet<3.1.0,>=3.0.2 in /usr/local/lib/python3.6/dist-packages (from requests->geetools->ipygee) (3.0.4)\n",
            "Requirement already satisfied: certifi>=2017.4.17 in /usr/local/lib/python3.6/dist-packages (from requests->geetools->ipygee) (2019.11.28)\n",
            "Requirement already satisfied: idna<2.9,>=2.5 in /usr/local/lib/python3.6/dist-packages (from requests->geetools->ipygee) (2.8)\n",
            "Requirement already satisfied: decorator in /usr/local/lib/python3.6/dist-packages (from traitlets>=4.2.2->traittypes<3,>=0.2.1->ipyleaflet>=0.10.2->ipygee) (4.4.2)\n",
            "Requirement already satisfied: ipython-genutils in /usr/local/lib/python3.6/dist-packages (from traitlets>=4.2.2->traittypes<3,>=0.2.1->ipyleaflet>=0.10.2->ipygee) (0.2.0)\n",
            "Requirement already satisfied: MarkupSafe>=0.23 in /usr/local/lib/python3.6/dist-packages (from jinja2->branca<0.4,>=0.3.1->ipyleaflet>=0.10.2->ipygee) (1.1.1)\n",
            "Requirement already satisfied: tornado>=4.0 in /usr/local/lib/python3.6/dist-packages (from ipykernel>=4.5.1->ipywidgets<8,>=7.5.0->ipyleaflet>=0.10.2->ipygee) (4.5.3)\n",
            "Requirement already satisfied: jupyter-client in /usr/local/lib/python3.6/dist-packages (from ipykernel>=4.5.1->ipywidgets<8,>=7.5.0->ipyleaflet>=0.10.2->ipygee) (5.3.4)\n",
            "Requirement already satisfied: pygments in /usr/local/lib/python3.6/dist-packages (from ipython>=4.0.0; python_version >= \"3.3\"->ipywidgets<8,>=7.5.0->ipyleaflet>=0.10.2->ipygee) (2.1.3)\n",
            "Requirement already satisfied: simplegeneric>0.8 in /usr/local/lib/python3.6/dist-packages (from ipython>=4.0.0; python_version >= \"3.3\"->ipywidgets<8,>=7.5.0->ipyleaflet>=0.10.2->ipygee) (0.8.1)\n",
            "Requirement already satisfied: pickleshare in /usr/local/lib/python3.6/dist-packages (from ipython>=4.0.0; python_version >= \"3.3\"->ipywidgets<8,>=7.5.0->ipyleaflet>=0.10.2->ipygee) (0.7.5)\n",
            "Requirement already satisfied: pexpect; sys_platform != \"win32\" in /usr/local/lib/python3.6/dist-packages (from ipython>=4.0.0; python_version >= \"3.3\"->ipywidgets<8,>=7.5.0->ipyleaflet>=0.10.2->ipygee) (4.8.0)\n",
            "Requirement already satisfied: prompt-toolkit<2.0.0,>=1.0.4 in /usr/local/lib/python3.6/dist-packages (from ipython>=4.0.0; python_version >= \"3.3\"->ipywidgets<8,>=7.5.0->ipyleaflet>=0.10.2->ipygee) (1.0.18)\n",
            "Requirement already satisfied: setuptools>=18.5 in /usr/local/lib/python3.6/dist-packages (from ipython>=4.0.0; python_version >= \"3.3\"->ipywidgets<8,>=7.5.0->ipyleaflet>=0.10.2->ipygee) (45.2.0)\n",
            "Requirement already satisfied: notebook>=4.4.1 in /usr/local/lib/python3.6/dist-packages (from widgetsnbextension~=3.5.0->ipywidgets<8,>=7.5.0->ipyleaflet>=0.10.2->ipygee) (5.2.2)\n",
            "Requirement already satisfied: jupyter-core in /usr/local/lib/python3.6/dist-packages (from nbformat>=4.2.0->ipywidgets<8,>=7.5.0->ipyleaflet>=0.10.2->ipygee) (4.6.3)\n",
            "Requirement already satisfied: jsonschema!=2.5.0,>=2.4 in /usr/local/lib/python3.6/dist-packages (from nbformat>=4.2.0->ipywidgets<8,>=7.5.0->ipyleaflet>=0.10.2->ipygee) (2.6.0)\n",
            "Requirement already satisfied: pyzmq>=13 in /usr/local/lib/python3.6/dist-packages (from jupyter-client->ipykernel>=4.5.1->ipywidgets<8,>=7.5.0->ipyleaflet>=0.10.2->ipygee) (17.0.0)\n",
            "Requirement already satisfied: ptyprocess>=0.5 in /usr/local/lib/python3.6/dist-packages (from pexpect; sys_platform != \"win32\"->ipython>=4.0.0; python_version >= \"3.3\"->ipywidgets<8,>=7.5.0->ipyleaflet>=0.10.2->ipygee) (0.6.0)\n",
            "Requirement already satisfied: wcwidth in /usr/local/lib/python3.6/dist-packages (from prompt-toolkit<2.0.0,>=1.0.4->ipython>=4.0.0; python_version >= \"3.3\"->ipywidgets<8,>=7.5.0->ipyleaflet>=0.10.2->ipygee) (0.1.8)\n",
            "Requirement already satisfied: terminado>=0.3.3; sys_platform != \"win32\" in /usr/local/lib/python3.6/dist-packages (from notebook>=4.4.1->widgetsnbextension~=3.5.0->ipywidgets<8,>=7.5.0->ipyleaflet>=0.10.2->ipygee) (0.8.3)\n",
            "Requirement already satisfied: nbconvert in /usr/local/lib/python3.6/dist-packages (from notebook>=4.4.1->widgetsnbextension~=3.5.0->ipywidgets<8,>=7.5.0->ipyleaflet>=0.10.2->ipygee) (5.6.1)\n",
            "Requirement already satisfied: testpath in /usr/local/lib/python3.6/dist-packages (from nbconvert->notebook>=4.4.1->widgetsnbextension~=3.5.0->ipywidgets<8,>=7.5.0->ipyleaflet>=0.10.2->ipygee) (0.4.4)\n",
            "Requirement already satisfied: mistune<2,>=0.8.1 in /usr/local/lib/python3.6/dist-packages (from nbconvert->notebook>=4.4.1->widgetsnbextension~=3.5.0->ipywidgets<8,>=7.5.0->ipyleaflet>=0.10.2->ipygee) (0.8.4)\n",
            "Requirement already satisfied: bleach in /usr/local/lib/python3.6/dist-packages (from nbconvert->notebook>=4.4.1->widgetsnbextension~=3.5.0->ipywidgets<8,>=7.5.0->ipyleaflet>=0.10.2->ipygee) (3.1.1)\n",
            "Requirement already satisfied: pandocfilters>=1.4.1 in /usr/local/lib/python3.6/dist-packages (from nbconvert->notebook>=4.4.1->widgetsnbextension~=3.5.0->ipywidgets<8,>=7.5.0->ipyleaflet>=0.10.2->ipygee) (1.4.2)\n",
            "Requirement already satisfied: defusedxml in /usr/local/lib/python3.6/dist-packages (from nbconvert->notebook>=4.4.1->widgetsnbextension~=3.5.0->ipywidgets<8,>=7.5.0->ipyleaflet>=0.10.2->ipygee) (0.6.0)\n",
            "Requirement already satisfied: entrypoints>=0.2.2 in /usr/local/lib/python3.6/dist-packages (from nbconvert->notebook>=4.4.1->widgetsnbextension~=3.5.0->ipywidgets<8,>=7.5.0->ipyleaflet>=0.10.2->ipygee) (0.3)\n",
            "Requirement already satisfied: webencodings in /usr/local/lib/python3.6/dist-packages (from bleach->nbconvert->notebook>=4.4.1->widgetsnbextension~=3.5.0->ipywidgets<8,>=7.5.0->ipyleaflet>=0.10.2->ipygee) (0.5.1)\n",
            "Building wheels for collected packages: ipygee, geetools, pyshp\n",
            "  Building wheel for ipygee (setup.py) ... \u001b[?25l\u001b[?25hdone\n",
            "  Created wheel for ipygee: filename=ipygee-0.0.14-cp36-none-any.whl size=39897 sha256=35c5db988aff954e90601460b6a473a1b11dee43302cd102074dc2cd48e8a2df\n",
            "  Stored in directory: /root/.cache/pip/wheels/57/f1/a2/ce9509a072ede592c0c9239ba66a1e9bb8af37bab3ca72fabc\n",
            "  Building wheel for geetools (setup.py) ... \u001b[?25l\u001b[?25hdone\n",
            "  Created wheel for geetools: filename=geetools-0.4.15-cp36-none-any.whl size=98234 sha256=9d91c96e087643513d4e4e0e0aa023bb476cc4c8440785a12f375e5f86650b1c\n",
            "  Stored in directory: /root/.cache/pip/wheels/a9/29/4b/8b23d7a814fd5b03acab81a0a721c4dc0d782fed28760b636a\n",
            "  Building wheel for pyshp (setup.py) ... \u001b[?25l\u001b[?25hdone\n",
            "  Created wheel for pyshp: filename=pyshp-2.1.0-cp36-none-any.whl size=32609 sha256=5f086cd3f66fe9a82dc0ff67f3e927d5ae3b817d0f3defd0b9448780624de82b\n",
            "  Stored in directory: /root/.cache/pip/wheels/a6/0c/de/321b5192ad416b328975a2f0385f72c64db4656501eba7cc1a\n",
            "Successfully built ipygee geetools pyshp\n",
            "\u001b[31mERROR: datascience 0.10.6 has requirement folium==0.2.1, but you'll have folium 0.8.3 which is incompatible.\u001b[0m\n",
            "Installing collected packages: traittypes, branca, ipyleaflet, pygal, pyshp, geetools, ipygee\n",
            "  Found existing installation: branca 0.4.0\n",
            "    Uninstalling branca-0.4.0:\n",
            "      Successfully uninstalled branca-0.4.0\n",
            "Successfully installed branca-0.3.1 geetools-0.4.15 ipygee-0.0.14 ipyleaflet-0.12.3 pygal-2.4.0 pyshp-2.1.0 traittypes-0.2.1\n"
          ],
          "name": "stdout"
        },
        {
          "output_type": "display_data",
          "data": {
            "application/vnd.colab-display-data+json": {
              "pip_warning": {
                "packages": [
                  "branca"
                ]
              }
            }
          },
          "metadata": {
            "tags": []
          }
        }
      ]
    },
    {
      "cell_type": "code",
      "metadata": {
        "id": "KXCLqAVGZsBZ",
        "colab_type": "code",
        "colab": {}
      },
      "source": [
        "import ee\n",
        "import time\n",
        "from ipygee import *\n",
        "#import  // ui ui has not been made available in python development enviroment as of yet\n",
        "from IPython.display import Image\n",
        "import folium\n",
        "#adding ee_layer to folium to display maps\n",
        "def add_ee_layer(self, ee_image_object, vis_params, name):\n",
        "  map_id_dict = ee.Image(ee_image_object).getMapId(vis_params)\n",
        "  folium.raster_layers.TileLayer(\n",
        "    tiles = map_id_dict['tile_fetcher'].url_format,\n",
        "    attr = 'Map Data &copy; <a href=\"https://earthengine.google.com/\">Google Earth Engine</a>',\n",
        "    name = name,\n",
        "    overlay = True,\n",
        "    control = True\n",
        "  ).add_to(self)\n",
        "\n",
        "folium.Map.add_ee_layer = add_ee_layer\n",
        "\n"
      ],
      "execution_count": 0,
      "outputs": []
    },
    {
      "cell_type": "code",
      "metadata": {
        "id": "IQnzb5c0Z3eZ",
        "colab_type": "code",
        "outputId": "a5a37c48-c34d-464a-cc6b-4e9844f0bd97",
        "colab": {
          "base_uri": "https://localhost:8080/",
          "height": 241
        }
      },
      "source": [
        "!earthengine authenticate"
      ],
      "execution_count": 3,
      "outputs": [
        {
          "output_type": "stream",
          "text": [
            "Running command using Cloud API.  Set --no-use_cloud_api to go back to using the API\n",
            "\n",
            "/usr/local/lib/python3.6/dist-packages/IPython/utils/traitlets.py:5: UserWarning: IPython.utils.traitlets has moved to a top-level traitlets package.\n",
            "  warn(\"IPython.utils.traitlets has moved to a top-level traitlets package.\")\n",
            "To authorize access needed by Earth Engine, open the following URL in a web browser and follow the instructions. If the web browser does not start automatically, please manually browse the URL below.\n",
            "\n",
            "    https://accounts.google.com/o/oauth2/auth?client_id=517222506229-vsmmajv00ul0bs7p89v5m89qs8eb9359.apps.googleusercontent.com&scope=https%3A%2F%2Fwww.googleapis.com%2Fauth%2Fearthengine+https%3A%2F%2Fwww.googleapis.com%2Fauth%2Fdevstorage.full_control&redirect_uri=urn%3Aietf%3Awg%3Aoauth%3A2.0%3Aoob&response_type=code&code_challenge=mkjCSVh9BBKW5NCMY3dFxzjvBjP249bXOGMmMLl2J4w&code_challenge_method=S256\n",
            "\n",
            "The authorization workflow will generate a code, which you should paste in the box below. \n",
            "Enter verification code: 4/xgHF_0qexG6ZJQgRwlyf5LITK-K6BBqvm0kWo2H8M6FcQvVq3TQ74hQ\n",
            "\n",
            "Successfully saved authorization token.\n"
          ],
          "name": "stdout"
        }
      ]
    },
    {
      "cell_type": "code",
      "metadata": {
        "id": "L2rDhAmGs0N1",
        "colab_type": "code",
        "outputId": "a02e5f07-996f-4f0c-e90f-f189b526741d",
        "colab": {
          "base_uri": "https://localhost:8080/",
          "height": 54
        }
      },
      "source": [
        "from google.colab import drive\n",
        "drive.mount('/content/drive')"
      ],
      "execution_count": 0,
      "outputs": [
        {
          "output_type": "stream",
          "text": [
            "Drive already mounted at /content/drive; to attempt to forcibly remount, call drive.mount(\"/content/drive\", force_remount=True).\n"
          ],
          "name": "stdout"
        }
      ]
    },
    {
      "cell_type": "code",
      "metadata": {
        "id": "DWDyzDUotFfw",
        "colab_type": "code",
        "colab": {}
      },
      "source": [
        "\n",
        "from google.colab import auth\n",
        "auth.authenticate_user()"
      ],
      "execution_count": 0,
      "outputs": []
    },
    {
      "cell_type": "code",
      "metadata": {
        "id": "lAYjPMnVRl7H",
        "colab_type": "code",
        "colab": {}
      },
      "source": [
        "a1 = ee.Feature(ee.Geometry.Point(13.8463669499,52.9008472902),{'label':'a1'})#selecting a random region\n",
        "a2 = ee.Feature(ee.Geometry.Point(13.778028117,52.951728864),{'label ':'a1'})"
      ],
      "execution_count": 0,
      "outputs": []
    },
    {
      "cell_type": "code",
      "metadata": {
        "id": "pIzt8YVVSBHf",
        "colab_type": "code",
        "colab": {}
      },
      "source": [
        "cord = ee.FeatureCollection([a1,a2]) #making a feature collection"
      ],
      "execution_count": 0,
      "outputs": []
    },
    {
      "cell_type": "code",
      "metadata": {
        "id": "um5DfzU0ZuRy",
        "colab_type": "code",
        "colab": {}
      },
      "source": [
        "ee.Initialize() "
      ],
      "execution_count": 0,
      "outputs": []
    },
    {
      "cell_type": "code",
      "metadata": {
        "id": "WLxYMeb6Tsok",
        "colab_type": "code",
        "colab": {}
      },
      "source": [
        "#function for computing nvdi from red\n",
        "def NDVI(image):\n",
        "  ndvi =image.normalizedDifference(['B4','B3']).rename('NDVI')\n",
        "  return image.addBands(ndvi)\n"
      ],
      "execution_count": 0,
      "outputs": []
    },
    {
      "cell_type": "code",
      "metadata": {
        "id": "T8tnV9SjTty1",
        "colab_type": "code",
        "colab": {}
      },
      "source": [
        "#function for computing nvdi from red and near infrared bands\n",
        "\n",
        "def addNDVI2(image):\n",
        "  ndvi = image.normalizedDifference(['B5','B4']).rename('NDVI2')\n",
        "  return image.addBands(ndvi);\n"
      ],
      "execution_count": 0,
      "outputs": []
    },
    {
      "cell_type": "code",
      "metadata": {
        "id": "ro_eL77DLw_R",
        "colab_type": "code",
        "colab": {}
      },
      "source": [
        "def addFmask(image):\n",
        "  datamask = image.select('fmask')\n",
        "  cloudMask = datamask.neq(1)and(datamask.neq(2))and(datamask.neq(3))and(datamask.neq(4))\n",
        "  return image.updateMask(cloudMask)"
      ],
      "execution_count": 0,
      "outputs": []
    },
    {
      "cell_type": "code",
      "metadata": {
        "id": "y7zcdn-l7vUi",
        "colab_type": "code",
        "colab": {}
      },
      "source": [
        "image_collection = ee.ImageCollection(\"LANDSAT/LC08/C01/T1_SR\")# ('Quearing imageset for landsat-8 images')"
      ],
      "execution_count": 0,
      "outputs": []
    },
    {
      "cell_type": "code",
      "metadata": {
        "id": "XrKYUgfu-kdd",
        "colab_type": "code",
        "colab": {}
      },
      "source": [
        "time_series = image_collection.filterDate('2016-01-01','2018-12-30') #time_series over 2 years "
      ],
      "execution_count": 0,
      "outputs": []
    },
    {
      "cell_type": "code",
      "metadata": {
        "id": "s97Sraeq22zJ",
        "colab_type": "code",
        "colab": {}
      },
      "source": [
        " #selecting netherland as random location\n",
        "pathrow=time_series.filterBounds(cord)"
      ],
      "execution_count": 0,
      "outputs": []
    },
    {
      "cell_type": "code",
      "metadata": {
        "id": "FvcZF96I3O52",
        "colab_type": "code",
        "colab": {}
      },
      "source": [
        "clouds = pathrow.filter(ee.Filter.lt('CLOUD_COVER', 5))   #selecting images having less cloud cover than 5 percent"
      ],
      "execution_count": 0,
      "outputs": []
    },
    {
      "cell_type": "code",
      "metadata": {
        "id": "S8LBK_JU3VaC",
        "colab_type": "code",
        "outputId": "ca285f04-cd23-49fb-badf-81fdf740e1a4",
        "colab": {
          "base_uri": "https://localhost:8080/",
          "height": 51
        }
      },
      "source": [
        "count = clouds.size()\n",
        "print('Count: ', str(count.getInfo())+'\\n')#size of collection of images"
      ],
      "execution_count": 12,
      "outputs": [
        {
          "output_type": "stream",
          "text": [
            "Count:  18\n",
            "\n"
          ],
          "name": "stdout"
        }
      ]
    },
    {
      "cell_type": "code",
      "metadata": {
        "id": "LXTZVFqOSXdi",
        "colab_type": "code",
        "colab": {}
      },
      "source": [
        "bands = clouds.select(['B4','B5'])"
      ],
      "execution_count": 0,
      "outputs": []
    },
    {
      "cell_type": "code",
      "metadata": {
        "id": "Us4dDmZXS6fw",
        "colab_type": "code",
        "colab": {}
      },
      "source": [
        "resultant_ndvi = bands.map(addNDVI2)"
      ],
      "execution_count": 0,
      "outputs": []
    },
    {
      "cell_type": "code",
      "metadata": {
        "id": "IiEgCsutrNZX",
        "colab_type": "code",
        "colab": {}
      },
      "source": [
        "# custom export function as gee does not provide so\n",
        "collectionList = resultant_ndvi.toList(resultant_ndvi.size())\n",
        "collectionSize = collectionList.size().getInfo()\n",
        "for i in range(collectionSize):\n",
        "    ee.batch.Export.image.toDrive(\n",
        "        image = ee.Image(collectionList.get(i)), \n",
        "        fileNamePrefix = 'foo' + str(i + 1), \n",
        "        dimensions = '128x128').start()"
      ],
      "execution_count": 0,
      "outputs": []
    },
    {
      "cell_type": "markdown",
      "metadata": {
        "id": "yUlO_opEskaf",
        "colab_type": "text"
      },
      "source": [
        "Below is some research work that i am looking on internet to find support for python api that is not exclusively supported"
      ]
    },
    {
      "cell_type": "code",
      "metadata": {
        "id": "UXbl7mO3slzA",
        "colab_type": "code",
        "colab": {}
      },
      "source": [
        "\n"
      ],
      "execution_count": 0,
      "outputs": []
    },
    {
      "cell_type": "code",
      "metadata": {
        "id": "UyMd7JIKah76",
        "colab_type": "code",
        "colab": {
          "base_uri": "https://localhost:8080/",
          "height": 1000
        },
        "outputId": "26435167-b88e-4f5b-c9f3-9efc7b2f2355"
      },
      "source": [
        "composite = resultant_ndvi.qualityMosaic('NDVI').clip(cord);\n",
        "print(composite);\n",
        "\n",
        "ndviPalette = ['FFFFFF', 'CE7E45', 'DF923D', 'F1B555', 'FCD163', '99B718',\n",
        "               '74A901', '66A000', '529400', '3E8601', '207401', '056201',\n",
        "               '004C00', '023B01', '012E01', '011D01', '011301'];\n",
        "Map.addLayer(composite.select('NDVI'),\n",
        "            {min:0, max: 1,' palette': ndviPalette});"
      ],
      "execution_count": 30,
      "outputs": [
        {
          "output_type": "stream",
          "text": [
            "ee.Image({\n",
            "  \"type\": \"Invocation\",\n",
            "  \"arguments\": {\n",
            "    \"input\": {\n",
            "      \"type\": \"Invocation\",\n",
            "      \"arguments\": {\n",
            "        \"collection\": {\n",
            "          \"type\": \"Invocation\",\n",
            "          \"arguments\": {\n",
            "            \"collection\": {\n",
            "              \"type\": \"Invocation\",\n",
            "              \"arguments\": {\n",
            "                \"collection\": {\n",
            "                  \"type\": \"Invocation\",\n",
            "                  \"arguments\": {\n",
            "                    \"collection\": {\n",
            "                      \"type\": \"Invocation\",\n",
            "                      \"arguments\": {\n",
            "                        \"collection\": {\n",
            "                          \"type\": \"Invocation\",\n",
            "                          \"arguments\": {\n",
            "                            \"collection\": {\n",
            "                              \"type\": \"Invocation\",\n",
            "                              \"arguments\": {\n",
            "                                \"collection\": {\n",
            "                                  \"type\": \"Invocation\",\n",
            "                                  \"arguments\": {\n",
            "                                    \"id\": \"LANDSAT/LC08/C01/T1_SR\"\n",
            "                                  },\n",
            "                                  \"functionName\": \"ImageCollection.load\"\n",
            "                                },\n",
            "                                \"filter\": {\n",
            "                                  \"type\": \"Invocation\",\n",
            "                                  \"arguments\": {\n",
            "                                    \"rightField\": \"system:time_start\",\n",
            "                                    \"leftValue\": {\n",
            "                                      \"type\": \"Invocation\",\n",
            "                                      \"arguments\": {\n",
            "                                        \"start\": \"2016-01-01\",\n",
            "                                        \"end\": \"2018-12-30\"\n",
            "                                      },\n",
            "                                      \"functionName\": \"DateRange\"\n",
            "                                    }\n",
            "                                  },\n",
            "                                  \"functionName\": \"Filter.dateRangeContains\"\n",
            "                                }\n",
            "                              },\n",
            "                              \"functionName\": \"Collection.filter\"\n",
            "                            },\n",
            "                            \"filter\": {\n",
            "                              \"type\": \"Invocation\",\n",
            "                              \"arguments\": {\n",
            "                                \"leftField\": \".all\",\n",
            "                                \"rightValue\": {\n",
            "                                  \"type\": \"Invocation\",\n",
            "                                  \"arguments\": {\n",
            "                                    \"geometry\": {\n",
            "                                      \"type\": \"Invocation\",\n",
            "                                      \"arguments\": {\n",
            "                                        \"collection\": {\n",
            "                                          \"type\": \"Invocation\",\n",
            "                                          \"arguments\": {\n",
            "                                            \"features\": [\n",
            "                                              {\n",
            "                                                \"type\": \"Invocation\",\n",
            "                                                \"arguments\": {\n",
            "                                                  \"geometry\": {\n",
            "                                                    \"type\": \"Point\",\n",
            "                                                    \"coordinates\": [\n",
            "                                                      13.8463669499,\n",
            "                                                      52.9008472902\n",
            "                                                    ]\n",
            "                                                  },\n",
            "                                                  \"metadata\": {\n",
            "                                                    \"type\": \"Dictionary\",\n",
            "                                                    \"value\": {\n",
            "                                                      \"label\": \"a1\"\n",
            "                                                    }\n",
            "                                                  }\n",
            "                                                },\n",
            "                                                \"functionName\": \"Feature\"\n",
            "                                              },\n",
            "                                              {\n",
            "                                                \"type\": \"Invocation\",\n",
            "                                                \"arguments\": {\n",
            "                                                  \"geometry\": {\n",
            "                                                    \"type\": \"Point\",\n",
            "                                                    \"coordinates\": [\n",
            "                                                      13.778028117,\n",
            "                                                      52.951728864\n",
            "                                                    ]\n",
            "                                                  },\n",
            "                                                  \"metadata\": {\n",
            "                                                    \"type\": \"Dictionary\",\n",
            "                                                    \"value\": {\n",
            "                                                      \"label \": \"a1\"\n",
            "                                                    }\n",
            "                                                  }\n",
            "                                                },\n",
            "                                                \"functionName\": \"Feature\"\n",
            "                                              }\n",
            "                                            ]\n",
            "                                          },\n",
            "                                          \"functionName\": \"Collection\"\n",
            "                                        }\n",
            "                                      },\n",
            "                                      \"functionName\": \"Collection.geometry\"\n",
            "                                    }\n",
            "                                  },\n",
            "                                  \"functionName\": \"Feature\"\n",
            "                                }\n",
            "                              },\n",
            "                              \"functionName\": \"Filter.intersects\"\n",
            "                            }\n",
            "                          },\n",
            "                          \"functionName\": \"Collection.filter\"\n",
            "                        },\n",
            "                        \"filter\": {\n",
            "                          \"type\": \"Invocation\",\n",
            "                          \"arguments\": {\n",
            "                            \"leftField\": \"CLOUD_COVER\",\n",
            "                            \"rightValue\": 5\n",
            "                          },\n",
            "                          \"functionName\": \"Filter.lessThan\"\n",
            "                        }\n",
            "                      },\n",
            "                      \"functionName\": \"Collection.filter\"\n",
            "                    },\n",
            "                    \"baseAlgorithm\": {\n",
            "                      \"type\": \"Function\",\n",
            "                      \"argumentNames\": [\n",
            "                        \"_MAPPING_VAR_0_0\"\n",
            "                      ],\n",
            "                      \"body\": {\n",
            "                        \"type\": \"Invocation\",\n",
            "                        \"arguments\": {\n",
            "                          \"input\": {\n",
            "                            \"type\": \"ArgumentRef\",\n",
            "                            \"value\": \"_MAPPING_VAR_0_0\"\n",
            "                          },\n",
            "                          \"bandSelectors\": [\n",
            "                            \"B4\",\n",
            "                            \"B5\"\n",
            "                          ]\n",
            "                        },\n",
            "                        \"functionName\": \"Image.select\"\n",
            "                      }\n",
            "                    }\n",
            "                  },\n",
            "                  \"functionName\": \"Collection.map\"\n",
            "                },\n",
            "                \"baseAlgorithm\": {\n",
            "                  \"type\": \"Function\",\n",
            "                  \"argumentNames\": [\n",
            "                    \"_MAPPING_VAR_0_0\"\n",
            "                  ],\n",
            "                  \"body\": {\n",
            "                    \"type\": \"Invocation\",\n",
            "                    \"arguments\": {\n",
            "                      \"image\": {\n",
            "                        \"type\": \"ArgumentRef\",\n",
            "                        \"value\": \"_MAPPING_VAR_0_0\"\n",
            "                      },\n",
            "                      \"mask\": {\n",
            "                        \"type\": \"Invocation\",\n",
            "                        \"arguments\": {\n",
            "                          \"image1\": {\n",
            "                            \"type\": \"Invocation\",\n",
            "                            \"arguments\": {\n",
            "                              \"input\": {\n",
            "                                \"type\": \"ArgumentRef\",\n",
            "                                \"value\": \"_MAPPING_VAR_0_0\"\n",
            "                              },\n",
            "                              \"bandSelectors\": [\n",
            "                                \"fmask\"\n",
            "                              ]\n",
            "                            },\n",
            "                            \"functionName\": \"Image.select\"\n",
            "                          },\n",
            "                          \"image2\": {\n",
            "                            \"type\": \"Invocation\",\n",
            "                            \"arguments\": {\n",
            "                              \"value\": 4\n",
            "                            },\n",
            "                            \"functionName\": \"Image.constant\"\n",
            "                          }\n",
            "                        },\n",
            "                        \"functionName\": \"Image.neq\"\n",
            "                      }\n",
            "                    },\n",
            "                    \"functionName\": \"Image.updateMask\"\n",
            "                  }\n",
            "                }\n",
            "              },\n",
            "              \"functionName\": \"Collection.map\"\n",
            "            },\n",
            "            \"baseAlgorithm\": {\n",
            "              \"type\": \"Function\",\n",
            "              \"argumentNames\": [\n",
            "                \"_MAPPING_VAR_0_0\"\n",
            "              ],\n",
            "              \"body\": {\n",
            "                \"type\": \"Invocation\",\n",
            "                \"arguments\": {\n",
            "                  \"dstImg\": {\n",
            "                    \"type\": \"ArgumentRef\",\n",
            "                    \"value\": \"_MAPPING_VAR_0_0\"\n",
            "                  },\n",
            "                  \"srcImg\": {\n",
            "                    \"type\": \"Invocation\",\n",
            "                    \"arguments\": {\n",
            "                      \"input\": {\n",
            "                        \"type\": \"Invocation\",\n",
            "                        \"arguments\": {\n",
            "                          \"input\": {\n",
            "                            \"type\": \"ArgumentRef\",\n",
            "                            \"value\": \"_MAPPING_VAR_0_0\"\n",
            "                          },\n",
            "                          \"bandNames\": [\n",
            "                            \"B5\",\n",
            "                            \"B4\"\n",
            "                          ]\n",
            "                        },\n",
            "                        \"functionName\": \"Image.normalizedDifference\"\n",
            "                      },\n",
            "                      \"names\": [\n",
            "                        \"NDVI2\"\n",
            "                      ]\n",
            "                    },\n",
            "                    \"functionName\": \"Image.rename\"\n",
            "                  }\n",
            "                },\n",
            "                \"functionName\": \"Image.addBands\"\n",
            "              }\n",
            "            }\n",
            "          },\n",
            "          \"functionName\": \"Collection.map\"\n",
            "        },\n",
            "        \"qualityBand\": \"NDVI\"\n",
            "      },\n",
            "      \"functionName\": \"ImageCollection.qualityMosaic\"\n",
            "    },\n",
            "    \"geometry\": {\n",
            "      \"type\": \"Invocation\",\n",
            "      \"arguments\": {\n",
            "        \"features\": [\n",
            "          {\n",
            "            \"type\": \"Invocation\",\n",
            "            \"arguments\": {\n",
            "              \"geometry\": {\n",
            "                \"type\": \"Point\",\n",
            "                \"coordinates\": [\n",
            "                  13.8463669499,\n",
            "                  52.9008472902\n",
            "                ]\n",
            "              },\n",
            "              \"metadata\": {\n",
            "                \"type\": \"Dictionary\",\n",
            "                \"value\": {\n",
            "                  \"label\": \"a1\"\n",
            "                }\n",
            "              }\n",
            "            },\n",
            "            \"functionName\": \"Feature\"\n",
            "          },\n",
            "          {\n",
            "            \"type\": \"Invocation\",\n",
            "            \"arguments\": {\n",
            "              \"geometry\": {\n",
            "                \"type\": \"Point\",\n",
            "                \"coordinates\": [\n",
            "                  13.778028117,\n",
            "                  52.951728864\n",
            "                ]\n",
            "              },\n",
            "              \"metadata\": {\n",
            "                \"type\": \"Dictionary\",\n",
            "                \"value\": {\n",
            "                  \"label \": \"a1\"\n",
            "                }\n",
            "              }\n",
            "            },\n",
            "            \"functionName\": \"Feature\"\n",
            "          }\n",
            "        ]\n",
            "      },\n",
            "      \"functionName\": \"Collection\"\n",
            "    }\n",
            "  },\n",
            "  \"functionName\": \"Image.clip\"\n",
            "})\n"
          ],
          "name": "stdout"
        },
        {
          "output_type": "error",
          "ename": "EEException",
          "evalue": "ignored",
          "traceback": [
            "\u001b[0;31m---------------------------------------------------------------------------\u001b[0m",
            "\u001b[0;31mHttpError\u001b[0m                                 Traceback (most recent call last)",
            "\u001b[0;32m/usr/local/lib/python3.6/dist-packages/ee/data.py\u001b[0m in \u001b[0;36m_execute_cloud_call\u001b[0;34m(call, num_retries)\u001b[0m\n\u001b[1;32m    337\u001b[0m   \u001b[0;32mtry\u001b[0m\u001b[0;34m:\u001b[0m\u001b[0;34m\u001b[0m\u001b[0;34m\u001b[0m\u001b[0m\n\u001b[0;32m--> 338\u001b[0;31m     \u001b[0;32mreturn\u001b[0m \u001b[0mcall\u001b[0m\u001b[0;34m.\u001b[0m\u001b[0mexecute\u001b[0m\u001b[0;34m(\u001b[0m\u001b[0mnum_retries\u001b[0m\u001b[0;34m=\u001b[0m\u001b[0mnum_retries\u001b[0m\u001b[0;34m)\u001b[0m\u001b[0;34m\u001b[0m\u001b[0;34m\u001b[0m\u001b[0m\n\u001b[0m\u001b[1;32m    339\u001b[0m   \u001b[0;32mexcept\u001b[0m \u001b[0mapiclient\u001b[0m\u001b[0;34m.\u001b[0m\u001b[0merrors\u001b[0m\u001b[0;34m.\u001b[0m\u001b[0mHttpError\u001b[0m \u001b[0;32mas\u001b[0m \u001b[0me\u001b[0m\u001b[0;34m:\u001b[0m\u001b[0;34m\u001b[0m\u001b[0;34m\u001b[0m\u001b[0m\n",
            "\u001b[0;32m/usr/local/lib/python3.6/dist-packages/googleapiclient/_helpers.py\u001b[0m in \u001b[0;36mpositional_wrapper\u001b[0;34m(*args, **kwargs)\u001b[0m\n\u001b[1;32m    129\u001b[0m                     \u001b[0mlogger\u001b[0m\u001b[0;34m.\u001b[0m\u001b[0mwarning\u001b[0m\u001b[0;34m(\u001b[0m\u001b[0mmessage\u001b[0m\u001b[0;34m)\u001b[0m\u001b[0;34m\u001b[0m\u001b[0;34m\u001b[0m\u001b[0m\n\u001b[0;32m--> 130\u001b[0;31m             \u001b[0;32mreturn\u001b[0m \u001b[0mwrapped\u001b[0m\u001b[0;34m(\u001b[0m\u001b[0;34m*\u001b[0m\u001b[0margs\u001b[0m\u001b[0;34m,\u001b[0m \u001b[0;34m**\u001b[0m\u001b[0mkwargs\u001b[0m\u001b[0;34m)\u001b[0m\u001b[0;34m\u001b[0m\u001b[0;34m\u001b[0m\u001b[0m\n\u001b[0m\u001b[1;32m    131\u001b[0m         \u001b[0;32mreturn\u001b[0m \u001b[0mpositional_wrapper\u001b[0m\u001b[0;34m\u001b[0m\u001b[0;34m\u001b[0m\u001b[0m\n",
            "\u001b[0;32m/usr/local/lib/python3.6/dist-packages/googleapiclient/http.py\u001b[0m in \u001b[0;36mexecute\u001b[0;34m(self, http, num_retries)\u001b[0m\n\u001b[1;32m    855\u001b[0m     \u001b[0;32mif\u001b[0m \u001b[0mresp\u001b[0m\u001b[0;34m.\u001b[0m\u001b[0mstatus\u001b[0m \u001b[0;34m>=\u001b[0m \u001b[0;36m300\u001b[0m\u001b[0;34m:\u001b[0m\u001b[0;34m\u001b[0m\u001b[0;34m\u001b[0m\u001b[0m\n\u001b[0;32m--> 856\u001b[0;31m       \u001b[0;32mraise\u001b[0m \u001b[0mHttpError\u001b[0m\u001b[0;34m(\u001b[0m\u001b[0mresp\u001b[0m\u001b[0;34m,\u001b[0m \u001b[0mcontent\u001b[0m\u001b[0;34m,\u001b[0m \u001b[0muri\u001b[0m\u001b[0;34m=\u001b[0m\u001b[0mself\u001b[0m\u001b[0;34m.\u001b[0m\u001b[0muri\u001b[0m\u001b[0;34m)\u001b[0m\u001b[0;34m\u001b[0m\u001b[0;34m\u001b[0m\u001b[0m\n\u001b[0m\u001b[1;32m    857\u001b[0m     \u001b[0;32mreturn\u001b[0m \u001b[0mself\u001b[0m\u001b[0;34m.\u001b[0m\u001b[0mpostproc\u001b[0m\u001b[0;34m(\u001b[0m\u001b[0mresp\u001b[0m\u001b[0;34m,\u001b[0m \u001b[0mcontent\u001b[0m\u001b[0;34m)\u001b[0m\u001b[0;34m\u001b[0m\u001b[0;34m\u001b[0m\u001b[0m\n",
            "\u001b[0;31mHttpError\u001b[0m: <HttpError 400 when requesting https://earthengine.googleapis.com/v1alpha/projects/earthengine-legacy/value:compute?prettyPrint=false&alt=json returned \"ImageCollection.qualityMosaic: Error in map(ID=LC08_192023_20160217):\nImage.select: Pattern 'fmask' did not match any bands.\">",
            "\nDuring handling of the above exception, another exception occurred:\n",
            "\u001b[0;31mEEException\u001b[0m                               Traceback (most recent call last)",
            "\u001b[0;32m<ipython-input-30-817f34aabe3c>\u001b[0m in \u001b[0;36m<module>\u001b[0;34m()\u001b[0m\n\u001b[1;32m      6\u001b[0m                '004C00', '023B01', '012E01', '011D01', '011301'];\n\u001b[1;32m      7\u001b[0m Map.addLayer(composite.select('NDVI'),\n\u001b[0;32m----> 8\u001b[0;31m             {min:0, max: 1,' palette': ndviPalette});\n\u001b[0m",
            "\u001b[0;32m/usr/local/lib/python3.6/dist-packages/ipygee/map.py\u001b[0m in \u001b[0;36maddLayer\u001b[0;34m(self, eeObject, visParams, name, show, opacity, replace, **kwargs)\u001b[0m\n\u001b[1;32m    537\u001b[0m             EELayer = self.addImage(eeObject, visParams=visParams,\n\u001b[1;32m    538\u001b[0m                                     \u001b[0mname\u001b[0m\u001b[0;34m=\u001b[0m\u001b[0mimage_name\u001b[0m\u001b[0;34m,\u001b[0m \u001b[0mshow\u001b[0m\u001b[0;34m=\u001b[0m\u001b[0mshow\u001b[0m\u001b[0;34m,\u001b[0m\u001b[0;34m\u001b[0m\u001b[0;34m\u001b[0m\u001b[0m\n\u001b[0;32m--> 539\u001b[0;31m                                     opacity=opacity, replace=replace)\n\u001b[0m\u001b[1;32m    540\u001b[0m \u001b[0;34m\u001b[0m\u001b[0m\n\u001b[1;32m    541\u001b[0m             \u001b[0mself\u001b[0m\u001b[0;34m.\u001b[0m\u001b[0m_add_EELayer\u001b[0m\u001b[0;34m(\u001b[0m\u001b[0mimage_name\u001b[0m\u001b[0;34m,\u001b[0m \u001b[0mEELayer\u001b[0m\u001b[0;34m)\u001b[0m\u001b[0;34m\u001b[0m\u001b[0;34m\u001b[0m\u001b[0m\n",
            "\u001b[0;32m/usr/local/lib/python3.6/dist-packages/ipygee/map.py\u001b[0m in \u001b[0;36maddImage\u001b[0;34m(self, image, visParams, name, show, opacity, replace)\u001b[0m\n\u001b[1;32m    298\u001b[0m         \u001b[0;32melse\u001b[0m\u001b[0;34m:\u001b[0m\u001b[0;34m\u001b[0m\u001b[0;34m\u001b[0m\u001b[0m\n\u001b[1;32m    299\u001b[0m             \u001b[0;31m# Get URL, attribution & vis params\u001b[0m\u001b[0;34m\u001b[0m\u001b[0;34m\u001b[0m\u001b[0;34m\u001b[0m\u001b[0m\n\u001b[0;32m--> 300\u001b[0;31m             \u001b[0mparams\u001b[0m \u001b[0;34m=\u001b[0m \u001b[0mgetImageTile\u001b[0m\u001b[0;34m(\u001b[0m\u001b[0mimage\u001b[0m\u001b[0;34m,\u001b[0m \u001b[0mvisParams\u001b[0m\u001b[0;34m,\u001b[0m \u001b[0mshow\u001b[0m\u001b[0;34m,\u001b[0m \u001b[0mopacity\u001b[0m\u001b[0;34m)\u001b[0m\u001b[0;34m\u001b[0m\u001b[0;34m\u001b[0m\u001b[0m\n\u001b[0m\u001b[1;32m    301\u001b[0m \u001b[0;34m\u001b[0m\u001b[0m\n\u001b[1;32m    302\u001b[0m         layer = ipyleaflet.TileLayer(url=params['url'],\n",
            "\u001b[0;32m/usr/local/lib/python3.6/dist-packages/ipygee/maptools.py\u001b[0m in \u001b[0;36mgetImageTile\u001b[0;34m(image, visParams, show, opacity, overlay)\u001b[0m\n\u001b[1;32m    163\u001b[0m             \u001b[0mbands\u001b[0m \u001b[0;34m=\u001b[0m \u001b[0;34m[\u001b[0m\u001b[0mbandnames\u001b[0m\u001b[0;34m[\u001b[0m\u001b[0;36m0\u001b[0m\u001b[0;34m]\u001b[0m\u001b[0;34m,\u001b[0m \u001b[0mbandnames\u001b[0m\u001b[0;34m[\u001b[0m\u001b[0;36m1\u001b[0m\u001b[0;34m]\u001b[0m\u001b[0;34m,\u001b[0m \u001b[0mbandnames\u001b[0m\u001b[0;34m[\u001b[0m\u001b[0;36m2\u001b[0m\u001b[0;34m]\u001b[0m\u001b[0;34m]\u001b[0m\u001b[0;34m\u001b[0m\u001b[0;34m\u001b[0m\u001b[0m\n\u001b[1;32m    164\u001b[0m         \u001b[0;32mreturn\u001b[0m \u001b[0mbands\u001b[0m\u001b[0;34m\u001b[0m\u001b[0;34m\u001b[0m\u001b[0m\n\u001b[0;32m--> 165\u001b[0;31m     \u001b[0mbands\u001b[0m \u001b[0;34m=\u001b[0m \u001b[0mparams\u001b[0m\u001b[0;34m.\u001b[0m\u001b[0mget\u001b[0m\u001b[0;34m(\u001b[0m\u001b[0;34m'bands'\u001b[0m\u001b[0;34m)\u001b[0m \u001b[0;32mif\u001b[0m \u001b[0;34m'bands'\u001b[0m \u001b[0;32min\u001b[0m \u001b[0mparams\u001b[0m \u001b[0;32melse\u001b[0m \u001b[0mdefault_bands\u001b[0m\u001b[0;34m(\u001b[0m\u001b[0mimage\u001b[0m\u001b[0;34m)\u001b[0m\u001b[0;34m\u001b[0m\u001b[0;34m\u001b[0m\u001b[0m\n\u001b[0m\u001b[1;32m    166\u001b[0m \u001b[0;34m\u001b[0m\u001b[0m\n\u001b[1;32m    167\u001b[0m     \u001b[0;31m# if the passed bands is a string formatted like required by GEE, get the\u001b[0m\u001b[0;34m\u001b[0m\u001b[0;34m\u001b[0m\u001b[0;34m\u001b[0m\u001b[0m\n",
            "\u001b[0;32m/usr/local/lib/python3.6/dist-packages/ipygee/maptools.py\u001b[0m in \u001b[0;36mdefault_bands\u001b[0;34m(image)\u001b[0m\n\u001b[1;32m    157\u001b[0m     \u001b[0;31m# BANDS #############\u001b[0m\u001b[0;34m\u001b[0m\u001b[0;34m\u001b[0m\u001b[0;34m\u001b[0m\u001b[0m\n\u001b[1;32m    158\u001b[0m     \u001b[0;32mdef\u001b[0m \u001b[0mdefault_bands\u001b[0m\u001b[0;34m(\u001b[0m\u001b[0mimage\u001b[0m\u001b[0;34m)\u001b[0m\u001b[0;34m:\u001b[0m\u001b[0;34m\u001b[0m\u001b[0;34m\u001b[0m\u001b[0m\n\u001b[0;32m--> 159\u001b[0;31m         \u001b[0mbandnames\u001b[0m \u001b[0;34m=\u001b[0m \u001b[0mimage\u001b[0m\u001b[0;34m.\u001b[0m\u001b[0mbandNames\u001b[0m\u001b[0;34m(\u001b[0m\u001b[0;34m)\u001b[0m\u001b[0;34m.\u001b[0m\u001b[0mgetInfo\u001b[0m\u001b[0;34m(\u001b[0m\u001b[0;34m)\u001b[0m\u001b[0;34m\u001b[0m\u001b[0;34m\u001b[0m\u001b[0m\n\u001b[0m\u001b[1;32m    160\u001b[0m         \u001b[0;32mif\u001b[0m \u001b[0mlen\u001b[0m\u001b[0;34m(\u001b[0m\u001b[0mbandnames\u001b[0m\u001b[0;34m)\u001b[0m \u001b[0;34m<\u001b[0m \u001b[0;36m3\u001b[0m\u001b[0;34m:\u001b[0m\u001b[0;34m\u001b[0m\u001b[0;34m\u001b[0m\u001b[0m\n\u001b[1;32m    161\u001b[0m             \u001b[0mbands\u001b[0m \u001b[0;34m=\u001b[0m \u001b[0;34m[\u001b[0m\u001b[0mbandnames\u001b[0m\u001b[0;34m[\u001b[0m\u001b[0;36m0\u001b[0m\u001b[0;34m]\u001b[0m\u001b[0;34m]\u001b[0m\u001b[0;34m\u001b[0m\u001b[0;34m\u001b[0m\u001b[0m\n",
            "\u001b[0;32m/usr/local/lib/python3.6/dist-packages/ee/computedobject.py\u001b[0m in \u001b[0;36mgetInfo\u001b[0;34m(self)\u001b[0m\n\u001b[1;32m     93\u001b[0m       \u001b[0mThe\u001b[0m \u001b[0mobject\u001b[0m \u001b[0mcan\u001b[0m \u001b[0mevaluate\u001b[0m \u001b[0mto\u001b[0m \u001b[0manything\u001b[0m\u001b[0;34m.\u001b[0m\u001b[0;34m\u001b[0m\u001b[0;34m\u001b[0m\u001b[0m\n\u001b[1;32m     94\u001b[0m     \"\"\"\n\u001b[0;32m---> 95\u001b[0;31m     \u001b[0;32mreturn\u001b[0m \u001b[0mdata\u001b[0m\u001b[0;34m.\u001b[0m\u001b[0mcomputeValue\u001b[0m\u001b[0;34m(\u001b[0m\u001b[0mself\u001b[0m\u001b[0;34m)\u001b[0m\u001b[0;34m\u001b[0m\u001b[0;34m\u001b[0m\u001b[0m\n\u001b[0m\u001b[1;32m     96\u001b[0m \u001b[0;34m\u001b[0m\u001b[0m\n\u001b[1;32m     97\u001b[0m   \u001b[0;32mdef\u001b[0m \u001b[0mencode\u001b[0m\u001b[0;34m(\u001b[0m\u001b[0mself\u001b[0m\u001b[0;34m,\u001b[0m \u001b[0mencoder\u001b[0m\u001b[0;34m)\u001b[0m\u001b[0;34m:\u001b[0m\u001b[0;34m\u001b[0m\u001b[0;34m\u001b[0m\u001b[0m\n",
            "\u001b[0;32m/usr/local/lib/python3.6/dist-packages/ee/data.py\u001b[0m in \u001b[0;36mcomputeValue\u001b[0;34m(obj)\u001b[0m\n\u001b[1;32m    715\u001b[0m         \u001b[0mbody\u001b[0m\u001b[0;34m=\u001b[0m\u001b[0;34m{\u001b[0m\u001b[0;34m'expression'\u001b[0m\u001b[0;34m:\u001b[0m \u001b[0mserializer\u001b[0m\u001b[0;34m.\u001b[0m\u001b[0mencode\u001b[0m\u001b[0;34m(\u001b[0m\u001b[0mobj\u001b[0m\u001b[0;34m,\u001b[0m \u001b[0mfor_cloud_api\u001b[0m\u001b[0;34m=\u001b[0m\u001b[0;32mTrue\u001b[0m\u001b[0;34m)\u001b[0m\u001b[0;34m}\u001b[0m\u001b[0;34m,\u001b[0m\u001b[0;34m\u001b[0m\u001b[0;34m\u001b[0m\u001b[0m\n\u001b[1;32m    716\u001b[0m         \u001b[0mproject\u001b[0m\u001b[0;34m=\u001b[0m\u001b[0m_get_projects_path\u001b[0m\u001b[0;34m(\u001b[0m\u001b[0;34m)\u001b[0m\u001b[0;34m,\u001b[0m\u001b[0;34m\u001b[0m\u001b[0;34m\u001b[0m\u001b[0m\n\u001b[0;32m--> 717\u001b[0;31m         prettyPrint=False))['result']\n\u001b[0m\u001b[1;32m    718\u001b[0m   \u001b[0;32mreturn\u001b[0m \u001b[0msend_\u001b[0m\u001b[0;34m(\u001b[0m\u001b[0;34m'/value'\u001b[0m\u001b[0;34m,\u001b[0m \u001b[0;34m(\u001b[0m\u001b[0;34m{\u001b[0m\u001b[0;34m'json'\u001b[0m\u001b[0;34m:\u001b[0m \u001b[0mobj\u001b[0m\u001b[0;34m.\u001b[0m\u001b[0mserialize\u001b[0m\u001b[0;34m(\u001b[0m\u001b[0;34m)\u001b[0m\u001b[0;34m,\u001b[0m \u001b[0;34m'json_format'\u001b[0m\u001b[0;34m:\u001b[0m \u001b[0;34m'v2'\u001b[0m\u001b[0;34m}\u001b[0m\u001b[0;34m)\u001b[0m\u001b[0;34m)\u001b[0m\u001b[0;34m\u001b[0m\u001b[0;34m\u001b[0m\u001b[0m\n\u001b[1;32m    719\u001b[0m \u001b[0;34m\u001b[0m\u001b[0m\n",
            "\u001b[0;32m/usr/local/lib/python3.6/dist-packages/ee/data.py\u001b[0m in \u001b[0;36m_execute_cloud_call\u001b[0;34m(call, num_retries)\u001b[0m\n\u001b[1;32m    338\u001b[0m     \u001b[0;32mreturn\u001b[0m \u001b[0mcall\u001b[0m\u001b[0;34m.\u001b[0m\u001b[0mexecute\u001b[0m\u001b[0;34m(\u001b[0m\u001b[0mnum_retries\u001b[0m\u001b[0;34m=\u001b[0m\u001b[0mnum_retries\u001b[0m\u001b[0;34m)\u001b[0m\u001b[0;34m\u001b[0m\u001b[0;34m\u001b[0m\u001b[0m\n\u001b[1;32m    339\u001b[0m   \u001b[0;32mexcept\u001b[0m \u001b[0mapiclient\u001b[0m\u001b[0;34m.\u001b[0m\u001b[0merrors\u001b[0m\u001b[0;34m.\u001b[0m\u001b[0mHttpError\u001b[0m \u001b[0;32mas\u001b[0m \u001b[0me\u001b[0m\u001b[0;34m:\u001b[0m\u001b[0;34m\u001b[0m\u001b[0;34m\u001b[0m\u001b[0m\n\u001b[0;32m--> 340\u001b[0;31m     \u001b[0;32mraise\u001b[0m \u001b[0m_translate_cloud_exception\u001b[0m\u001b[0;34m(\u001b[0m\u001b[0me\u001b[0m\u001b[0;34m)\u001b[0m\u001b[0;34m\u001b[0m\u001b[0;34m\u001b[0m\u001b[0m\n\u001b[0m\u001b[1;32m    341\u001b[0m \u001b[0;34m\u001b[0m\u001b[0m\n\u001b[1;32m    342\u001b[0m \u001b[0;34m\u001b[0m\u001b[0m\n",
            "\u001b[0;31mEEException\u001b[0m: ImageCollection.qualityMosaic: Error in map(ID=LC08_192023_20160217):\nImage.select: Pattern 'fmask' did not match any bands."
          ]
        }
      ]
    },
    {
      "cell_type": "code",
      "metadata": {
        "id": "tF7mXyVgnPzB",
        "colab_type": "code",
        "outputId": "ecc54fc6-9cfb-4881-da6e-451a7e437816",
        "colab": {
          "base_uri": "https://localhost:8080/",
          "height": 277
        }
      },
      "source": [
        "\n",
        "dem = ee.Image('USGS/SRTMGL1_003')\n",
        "\n",
        "Image(url = clouds.median().updateMask(clouds.median())\n",
        "  .getThumbUrl({'min': 0, 'max': 2000, 'dimensions': 512,\n",
        "             }))"
      ],
      "execution_count": 16,
      "outputs": [
        {
          "output_type": "execute_result",
          "data": {
            "text/html": [
              "<img src=\"https://earthengine.googleapis.com/v1alpha/projects/earthengine-legacy/thumbnails/81de61b4541e17c82120f991f8109259-6bdda4e351f3f919e0fc7b27f3d58e4b:getPixels\"/>"
            ],
            "text/plain": [
              "<IPython.core.display.Image object>"
            ]
          },
          "metadata": {
            "tags": []
          },
          "execution_count": 16
        }
      ]
    },
    {
      "cell_type": "code",
      "metadata": {
        "id": "aDvzO_7oESkj",
        "colab_type": "code",
        "outputId": "1553f696-69fb-4bce-a564-a5d8fd781c5b",
        "colab": {
          "base_uri": "https://localhost:8080/",
          "height": 583
        }
      },
      "source": [
        "import google\n",
        "\n",
        "ndviParams = {min: -1, max: 1}\n",
        "my_map = folium.Map(location = [52,5],height=500,zoom_start  = 3)\n",
        "my_map.add_ee_layer(im.updateMask(im), ndviParams, 'DEM')\n",
        "\n",
        "# Add a layer control panel to the map.\n",
        "my_map.add_child(folium.LayerControl())\n",
        "\n",
        "# Display the map.\n",
        "display(my_map)"
      ],
      "execution_count": 0,
      "outputs": [
        {
          "output_type": "display_data",
          "data": {
            "text/html": [
              "<div style=\"width:100%;\"><div style=\"position:relative;width:100%;height:0;padding-bottom:60%;\"><iframe src=\"about:blank\" style=\"position:absolute;width:100%;height:100%;left:0;top:0;border:none !important;\" data-html=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 onload=\"this.contentDocument.open();this.contentDocument.write(atob(this.getAttribute('data-html')));this.contentDocument.close();\" allowfullscreen webkitallowfullscreen mozallowfullscreen></iframe></div></div>"
            ],
            "text/plain": [
              "<folium.folium.Map at 0x7f9fdc3a9b38>"
            ]
          },
          "metadata": {
            "tags": []
          }
        }
      ]
    },
    {
      "cell_type": "code",
      "metadata": {
        "id": "nZWMqBzwxfpk",
        "colab_type": "code",
        "colab": {}
      },
      "source": [
        "folium.Map.add_ee_layer()"
      ],
      "execution_count": 0,
      "outputs": []
    },
    {
      "cell_type": "code",
      "metadata": {
        "id": "nVKYNCJnxuYh",
        "colab_type": "code",
        "outputId": "c8989f9b-3c53-4d49-9b2d-1f7381723d36",
        "colab": {
          "base_uri": "https://localhost:8080/",
          "height": 51
        }
      },
      "source": [
        "pip install paver"
      ],
      "execution_count": 0,
      "outputs": [
        {
          "output_type": "stream",
          "text": [
            "Requirement already satisfied: paver in /usr/local/lib/python3.6/dist-packages (1.3.4)\n",
            "Requirement already satisfied: six in /usr/local/lib/python3.6/dist-packages (from paver) (1.12.0)\n"
          ],
          "name": "stdout"
        }
      ]
    },
    {
      "cell_type": "code",
      "metadata": {
        "id": "MaNHZ3Ffs2D4",
        "colab_type": "code",
        "outputId": "ebf4b90d-0c54-483f-d0f7-d46ad0eb193a",
        "colab": {
          "base_uri": "https://localhost:8080/",
          "height": 34
        }
      },
      "source": [
        "!paver.tasks.help\n"
      ],
      "execution_count": 0,
      "outputs": [
        {
          "output_type": "stream",
          "text": [
            "/bin/bash: paver.tasks.help: command not found\n"
          ],
          "name": "stdout"
        }
      ]
    },
    {
      "cell_type": "markdown",
      "metadata": {
        "id": "ut2K_AY2hPRS",
        "colab_type": "text"
      },
      "source": [
        ""
      ]
    },
    {
      "cell_type": "code",
      "metadata": {
        "id": "lPmdxIOoIrMI",
        "colab_type": "code",
        "colab": {}
      },
      "source": [
        "image_list = clouds.toList(clouds.size())"
      ],
      "execution_count": 0,
      "outputs": []
    },
    {
      "cell_type": "code",
      "metadata": {
        "id": "IN31I6bNRM1y",
        "colab_type": "code",
        "colab": {}
      },
      "source": [
        ""
      ],
      "execution_count": 0,
      "outputs": []
    },
    {
      "cell_type": "markdown",
      "metadata": {
        "id": "_FrJBMouZwC5",
        "colab_type": "text"
      },
      "source": [
        ""
      ]
    },
    {
      "cell_type": "code",
      "metadata": {
        "id": "NkVnaE0RhmAz",
        "colab_type": "code",
        "outputId": "e25ecb77-12b7-4149-99b2-e9cb0b66204f",
        "colab": {
          "base_uri": "https://localhost:8080/",
          "height": 68
        }
      },
      "source": [
        "while out.active():\n",
        "  print('Polling for task (id: {}).'.format(out.id))\n",
        "  time.sleep(5)"
      ],
      "execution_count": 0,
      "outputs": [
        {
          "output_type": "stream",
          "text": [
            "Polling for task (id: WUYX4K6V5GVUBGR43R4KNH2V).\n",
            "Polling for task (id: WUYX4K6V5GVUBGR43R4KNH2V).\n",
            "Polling for task (id: WUYX4K6V5GVUBGR43R4KNH2V).\n"
          ],
          "name": "stdout"
        }
      ]
    },
    {
      "cell_type": "code",
      "metadata": {
        "id": "jtuH0ibHaUkT",
        "colab_type": "code",
        "colab": {}
      },
      "source": [
        "out.start()"
      ],
      "execution_count": 0,
      "outputs": []
    },
    {
      "cell_type": "code",
      "metadata": {
        "id": "oKnCeTLe59_F",
        "colab_type": "code",
        "colab": {}
      },
      "source": [
        "geometry = ee.Geometry.Rectangle([116.2621, 39.8412, 116.4849, 40.01236])"
      ],
      "execution_count": 0,
      "outputs": []
    },
    {
      "cell_type": "code",
      "metadata": {
        "id": "cP3gfZu37LrV",
        "colab_type": "code",
        "colab": {}
      },
      "source": [
        "out  = ee.batch.Export.image.toDrive(clouds,folder = 'aa')"
      ],
      "execution_count": 0,
      "outputs": []
    },
    {
      "cell_type": "code",
      "metadata": {
        "id": "o3c7AcmEe6-g",
        "colab_type": "code",
        "colab": {}
      },
      "source": [
        "out = ee.batch.Export.image.toDrive(image = band_image,folder = 'aa',maxPixels=3784216672400,region=roi)"
      ],
      "execution_count": 0,
      "outputs": []
    },
    {
      "cell_type": "code",
      "metadata": {
        "id": "Ya-Z1bE0e8e2",
        "colab_type": "code",
        "outputId": "5d516028-18f5-44de-b812-8b325b39749e",
        "colab": {
          "base_uri": "https://localhost:8080/",
          "height": 190
        }
      },
      "source": [
        "out.status()"
      ],
      "execution_count": 0,
      "outputs": [
        {
          "output_type": "execute_result",
          "data": {
            "text/plain": [
              "{'creation_timestamp_ms': 1584543777937,\n",
              " 'description': 'myExportImageTask',\n",
              " 'destination_uris': ['https://drive.google.com/#folders/1gIa7nL2cHDdVM4jZeM0vcrHhrNCVSMUF'],\n",
              " 'id': 'EV2NC43UHOCKMJ7U42HTCKQA',\n",
              " 'name': 'projects/earthengine-legacy/operations/EV2NC43UHOCKMJ7U42HTCKQA',\n",
              " 'start_timestamp_ms': 1584543787901,\n",
              " 'state': 'COMPLETED',\n",
              " 'task_type': 'EXPORT_IMAGE',\n",
              " 'update_timestamp_ms': 1584544379693}"
            ]
          },
          "metadata": {
            "tags": []
          },
          "execution_count": 340
        }
      ]
    },
    {
      "cell_type": "code",
      "metadata": {
        "id": "tXc0gZ-20CZZ",
        "colab_type": "code",
        "colab": {}
      },
      "source": [
        "im = clouds.first()"
      ],
      "execution_count": 0,
      "outputs": []
    },
    {
      "cell_type": "code",
      "metadata": {
        "id": "PPYSqbDI-810",
        "colab_type": "code",
        "colab": {}
      },
      "source": [
        "roi=ee.Feature(clouds.first()).geometry().bounds().getInfo()['coordinates']"
      ],
      "execution_count": 0,
      "outputs": []
    },
    {
      "cell_type": "code",
      "metadata": {
        "id": "GlwCnW-V_Quq",
        "colab_type": "code",
        "outputId": "db2574a9-3f8f-41eb-f8fd-d183e0a9ed1e",
        "colab": {
          "base_uri": "https://localhost:8080/",
          "height": 326
        }
      },
      "source": [
        "m = folium.Map(clouds,zoom_start=15)"
      ],
      "execution_count": 0,
      "outputs": [
        {
          "output_type": "error",
          "ename": "TypeError",
          "evalue": "ignored",
          "traceback": [
            "\u001b[0;31m---------------------------------------------------------------------------\u001b[0m",
            "\u001b[0;31mTypeError\u001b[0m                                 Traceback (most recent call last)",
            "\u001b[0;32m<ipython-input-277-9e5a1d869c86>\u001b[0m in \u001b[0;36m<module>\u001b[0;34m()\u001b[0m\n\u001b[0;32m----> 1\u001b[0;31m \u001b[0mm\u001b[0m \u001b[0;34m=\u001b[0m \u001b[0mfolium\u001b[0m\u001b[0;34m.\u001b[0m\u001b[0mMap\u001b[0m\u001b[0;34m(\u001b[0m\u001b[0mclouds\u001b[0m\u001b[0;34m,\u001b[0m\u001b[0mzoom_start\u001b[0m\u001b[0;34m=\u001b[0m\u001b[0;36m15\u001b[0m\u001b[0;34m)\u001b[0m\u001b[0;34m\u001b[0m\u001b[0;34m\u001b[0m\u001b[0m\n\u001b[0m",
            "\u001b[0;32m/usr/local/lib/python3.6/dist-packages/folium/folium.py\u001b[0m in \u001b[0;36m__init__\u001b[0;34m(self, location, width, height, left, top, position, tiles, API_key, max_zoom, min_zoom, max_native_zoom, zoom_start, world_copy_jump, no_wrap, attr, min_lat, max_lat, min_lon, max_lon, max_bounds, detect_retina, crs, control_scale, prefer_canvas, no_touch, disable_3d, subdomains, png_enabled, zoom_control)\u001b[0m\n\u001b[1;32m    237\u001b[0m             \u001b[0mself\u001b[0m\u001b[0;34m.\u001b[0m\u001b[0mzoom_start\u001b[0m \u001b[0;34m=\u001b[0m \u001b[0;36m1\u001b[0m\u001b[0;34m\u001b[0m\u001b[0;34m\u001b[0m\u001b[0m\n\u001b[1;32m    238\u001b[0m         \u001b[0;32melse\u001b[0m\u001b[0;34m:\u001b[0m\u001b[0;34m\u001b[0m\u001b[0;34m\u001b[0m\u001b[0m\n\u001b[0;32m--> 239\u001b[0;31m             \u001b[0mself\u001b[0m\u001b[0;34m.\u001b[0m\u001b[0mlocation\u001b[0m \u001b[0;34m=\u001b[0m \u001b[0m_validate_location\u001b[0m\u001b[0;34m(\u001b[0m\u001b[0mlocation\u001b[0m\u001b[0;34m)\u001b[0m\u001b[0;34m\u001b[0m\u001b[0;34m\u001b[0m\u001b[0m\n\u001b[0m\u001b[1;32m    240\u001b[0m             \u001b[0mself\u001b[0m\u001b[0;34m.\u001b[0m\u001b[0mzoom_start\u001b[0m \u001b[0;34m=\u001b[0m \u001b[0mzoom_start\u001b[0m\u001b[0;34m\u001b[0m\u001b[0;34m\u001b[0m\u001b[0m\n\u001b[1;32m    241\u001b[0m \u001b[0;34m\u001b[0m\u001b[0m\n",
            "\u001b[0;32m/usr/local/lib/python3.6/dist-packages/folium/utilities.py\u001b[0m in \u001b[0;36m_validate_location\u001b[0;34m(location)\u001b[0m\n\u001b[1;32m     37\u001b[0m     \u001b[0;32mif\u001b[0m \u001b[0;32mnot\u001b[0m \u001b[0m_is_sized_iterable\u001b[0m\u001b[0;34m(\u001b[0m\u001b[0mlocation\u001b[0m\u001b[0;34m)\u001b[0m\u001b[0;34m:\u001b[0m\u001b[0;34m\u001b[0m\u001b[0;34m\u001b[0m\u001b[0m\n\u001b[1;32m     38\u001b[0m         raise TypeError('Expected a collection object for location, got '\n\u001b[0;32m---> 39\u001b[0;31m                         '{!r}'.format(location))\n\u001b[0m\u001b[1;32m     40\u001b[0m     \u001b[0;32mif\u001b[0m \u001b[0mlen\u001b[0m\u001b[0;34m(\u001b[0m\u001b[0mlocation\u001b[0m\u001b[0;34m)\u001b[0m \u001b[0;34m!=\u001b[0m \u001b[0;36m2\u001b[0m\u001b[0;34m:\u001b[0m\u001b[0;34m\u001b[0m\u001b[0;34m\u001b[0m\u001b[0m\n\u001b[1;32m     41\u001b[0m         raise ValueError('Expected two values for location [lat, lon], '\n",
            "\u001b[0;31mTypeError\u001b[0m: Expected a collection object for location, got <ee.imagecollection.ImageCollection object at 0x7fb813de3390>"
          ]
        }
      ]
    },
    {
      "cell_type": "code",
      "metadata": {
        "id": "lnCeiJvGjFpM",
        "colab_type": "code",
        "colab": {}
      },
      "source": [
        "im  =  clouds.first()"
      ],
      "execution_count": 0,
      "outputs": []
    },
    {
      "cell_type": "code",
      "metadata": {
        "id": "Q2TcArxqEvol",
        "colab_type": "code",
        "colab": {}
      },
      "source": [
        "n = im.normalizedDifference(['B4','B5'])\n",
        "band_image = im.add(n)"
      ],
      "execution_count": 0,
      "outputs": []
    },
    {
      "cell_type": "code",
      "metadata": {
        "id": "rLvc7tBME3yW",
        "colab_type": "code",
        "outputId": "914022b4-d28f-42f5-b96b-9f68714c7d0b",
        "colab": {
          "base_uri": "https://localhost:8080/",
          "height": 34
        }
      },
      "source": [
        "display(band_image)"
      ],
      "execution_count": 34,
      "outputs": [
        {
          "output_type": "display_data",
          "data": {
            "text/plain": [
              "<ee.image.Image at 0x7fd26a0034a8>"
            ]
          },
          "metadata": {
            "tags": []
          }
        }
      ]
    },
    {
      "cell_type": "code",
      "metadata": {
        "id": "WDFj9ex3HSIM",
        "colab_type": "code",
        "colab": {}
      },
      "source": [
        "Image(,format='jpg')"
      ],
      "execution_count": 0,
      "outputs": []
    },
    {
      "cell_type": "code",
      "metadata": {
        "id": "CuEI2q3vHeqX",
        "colab_type": "code",
        "outputId": "bae7decd-13e5-4228-a706-a130c69fba58",
        "colab": {
          "base_uri": "https://localhost:8080/",
          "height": 34
        }
      },
      "source": [
        "NDVI(im)"
      ],
      "execution_count": 38,
      "outputs": [
        {
          "output_type": "execute_result",
          "data": {
            "text/plain": [
              "<ee.image.Image at 0x7fd26a0037f0>"
            ]
          },
          "metadata": {
            "tags": []
          },
          "execution_count": 38
        }
      ]
    },
    {
      "cell_type": "code",
      "metadata": {
        "id": "tWcuFojCIHBI",
        "colab_type": "code",
        "colab": {}
      },
      "source": [
        "import ee.mapclient"
      ],
      "execution_count": 0,
      "outputs": []
    },
    {
      "cell_type": "code",
      "metadata": {
        "id": "dC5LLN7u8YJ6",
        "colab_type": "code",
        "colab": {}
      },
      "source": [
        "map = ee.mapclient.centerMap(52,5,6)"
      ],
      "execution_count": 0,
      "outputs": []
    },
    {
      "cell_type": "code",
      "metadata": {
        "id": "zbQmEj-pAC0c",
        "colab_type": "code",
        "colab": {}
      },
      "source": [
        "imgndvi = clouds.first().normalizedDifference(['B5', 'B4']).rename('NDVI')"
      ],
      "execution_count": 0,
      "outputs": []
    },
    {
      "cell_type": "code",
      "metadata": {
        "id": "eEHj0oOtBgaK",
        "colab_type": "code",
        "colab": {}
      },
      "source": [
        "ndviParams = {min: -1, max: 1, 'palette': ['blue', 'white', 'green']};\n",
        "Map.addLayer(imgndvi, ndviParams);"
      ],
      "execution_count": 0,
      "outputs": []
    },
    {
      "cell_type": "code",
      "metadata": {
        "id": "Jwg2rV-rCLrN",
        "colab_type": "code",
        "colab": {
          "base_uri": "https://localhost:8080/",
          "height": 163
        },
        "outputId": "a9f6ddd9-f9aa-49ec-e2c3-55cda71489cf"
      },
      "source": [
        "dislay(map)"
      ],
      "execution_count": 28,
      "outputs": [
        {
          "output_type": "error",
          "ename": "NameError",
          "evalue": "ignored",
          "traceback": [
            "\u001b[0;31m---------------------------------------------------------------------------\u001b[0m",
            "\u001b[0;31mNameError\u001b[0m                                 Traceback (most recent call last)",
            "\u001b[0;32m<ipython-input-28-77caa8b9aa54>\u001b[0m in \u001b[0;36m<module>\u001b[0;34m()\u001b[0m\n\u001b[0;32m----> 1\u001b[0;31m \u001b[0mdislay\u001b[0m\u001b[0;34m(\u001b[0m\u001b[0mmap\u001b[0m\u001b[0;34m)\u001b[0m\u001b[0;34m\u001b[0m\u001b[0;34m\u001b[0m\u001b[0m\n\u001b[0m",
            "\u001b[0;31mNameError\u001b[0m: name 'dislay' is not defined"
          ]
        }
      ]
    },
    {
      "cell_type": "code",
      "metadata": {
        "id": "UinVrb2SIC2v",
        "colab_type": "code",
        "colab": {}
      },
      "source": [
        "Map = Map()"
      ],
      "execution_count": 0,
      "outputs": []
    },
    {
      "cell_type": "code",
      "metadata": {
        "id": "gAG9oQ-xkse5",
        "colab_type": "code",
        "colab": {}
      },
      "source": [
        "Map.addLayer"
      ],
      "execution_count": 0,
      "outputs": []
    }
  ]
}