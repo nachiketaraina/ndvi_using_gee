{
  "nbformat": 4,
  "nbformat_minor": 0,
  "metadata": {
    "colab": {
      "name": "test_project.ipynb",
      "provenance": [],
      "collapsed_sections": [],
      "toc_visible": true,
      "mount_file_id": "1RZAw5XPdlvEGB9JpKSwaLIpkYLtJ9jCM",
      "authorship_tag": "ABX9TyNyXvOY17PM5oC2dGTTPf4Q",
      "include_colab_link": true
    },
    "kernelspec": {
      "name": "python3",
      "display_name": "Python 3"
    }
  },
  "cells": [
    {
      "cell_type": "markdown",
      "metadata": {
        "id": "view-in-github",
        "colab_type": "text"
      },
      "source": [
        "<a href=\"https://colab.research.google.com/github/nachiketaraina/ndvi_using_gee/blob/master/test_project.ipynb\" target=\"_parent\"><img src=\"https://colab.research.google.com/assets/colab-badge.svg\" alt=\"Open In Colab\"/></a>"
      ]
    },
    {
      "cell_type": "code",
      "metadata": {
        "id": "KXCLqAVGZsBZ",
        "colab_type": "code",
        "colab": {}
      },
      "source": [
        "import ee\n",
        "ee.Initialize()\n",
        "import time\n",
        "#from ipygee import *\n",
        "#import  // ui ui has not been made available in python development enviroment as of yet\n",
        "from IPython.display import Image\n",
        "import folium\n",
        "#adding ee_layer to folium to display maps\n",
        "def add_ee_layer(self, ee_image_object, vis_params, name):\n",
        "  map_id_dict = ee.Image(ee_image_object).getMapId(vis_params)\n",
        "  folium.raster_layers.TileLayer(\n",
        "    tiles = map_id_dict['tile_fetcher'].url_format,\n",
        "    attr = 'Map Data &copy; <a href=\"https://earthengine.google.com/\">Google Earth Engine</a>',\n",
        "    name = name,\n",
        "    overlay = True,\n",
        "    control = True\n",
        "  ).add_to(self)\n",
        "\n",
        "folium.Map.add_ee_layer = add_ee_layer\n",
        "\n"
      ],
      "execution_count": 0,
      "outputs": []
    },
    {
      "cell_type": "code",
      "metadata": {
        "id": "IQnzb5c0Z3eZ",
        "colab_type": "code",
        "outputId": "934b28be-699f-4b5f-c7de-92c0ed8a5e6e",
        "colab": {
          "base_uri": "https://localhost:8080/",
          "height": 245
        }
      },
      "source": [
        "!earthengine authenticate"
      ],
      "execution_count": 36,
      "outputs": [
        {
          "output_type": "stream",
          "text": [
            "Running command using Cloud API.  Set --no-use_cloud_api to go back to using the API\n",
            "\n",
            "/usr/local/lib/python3.6/dist-packages/IPython/utils/traitlets.py:5: UserWarning: IPython.utils.traitlets has moved to a top-level traitlets package.\n",
            "  warn(\"IPython.utils.traitlets has moved to a top-level traitlets package.\")\n",
            "To authorize access needed by Earth Engine, open the following URL in a web browser and follow the instructions. If the web browser does not start automatically, please manually browse the URL below.\n",
            "\n",
            "    https://accounts.google.com/o/oauth2/auth?client_id=517222506229-vsmmajv00ul0bs7p89v5m89qs8eb9359.apps.googleusercontent.com&scope=https%3A%2F%2Fwww.googleapis.com%2Fauth%2Fearthengine+https%3A%2F%2Fwww.googleapis.com%2Fauth%2Fdevstorage.full_control&redirect_uri=urn%3Aietf%3Awg%3Aoauth%3A2.0%3Aoob&response_type=code&code_challenge=bhngYX_-zvB3zJl82b9iLW6OYbFnFxId0qWz6_60YcQ&code_challenge_method=S256\n",
            "\n",
            "The authorization workflow will generate a code, which you should paste in the box below. \n",
            "Enter verification code: 4/xwHtgNw9cqJDwSHZsrd5s4jj8EuGr_HSF7H6dRz8RoYsub3oV1uEpZs\n",
            "\n",
            "Successfully saved authorization token.\n"
          ],
          "name": "stdout"
        }
      ]
    },
    {
      "cell_type": "code",
      "metadata": {
        "id": "L2rDhAmGs0N1",
        "colab_type": "code",
        "outputId": "b9d32332-c9af-46b2-a09f-92b167bbeb26",
        "colab": {
          "base_uri": "https://localhost:8080/",
          "height": 34
        }
      },
      "source": [
        "from google.colab import drive\n",
        "drive.mount('/content/drive')"
      ],
      "execution_count": 0,
      "outputs": [
        {
          "output_type": "stream",
          "text": [
            "Drive already mounted at /content/drive; to attempt to forcibly remount, call drive.mount(\"/content/drive\", force_remount=True).\n"
          ],
          "name": "stdout"
        }
      ]
    },
    {
      "cell_type": "code",
      "metadata": {
        "id": "DWDyzDUotFfw",
        "colab_type": "code",
        "colab": {}
      },
      "source": [
        "\n",
        "from google.colab import auth\n",
        "auth.authenticate_user()"
      ],
      "execution_count": 0,
      "outputs": []
    },
    {
      "cell_type": "code",
      "metadata": {
        "id": "lAYjPMnVRl7H",
        "colab_type": "code",
        "colab": {}
      },
      "source": [
        "a1 = ee.Feature(ee.Geometry.Point(13.8463669499,52.9008472902),{'label':'a1'})#selecting a random region\n",
        "a2 = ee.Feature(ee.Geometry.Point(13.778028117,52.951728864),{'label ':'a2'})"
      ],
      "execution_count": 0,
      "outputs": []
    },
    {
      "cell_type": "code",
      "metadata": {
        "id": "pIzt8YVVSBHf",
        "colab_type": "code",
        "colab": {}
      },
      "source": [
        "cord = ee.FeatureCollection([a1,a2]) #making a feature collection"
      ],
      "execution_count": 0,
      "outputs": []
    },
    {
      "cell_type": "code",
      "metadata": {
        "id": "T8tnV9SjTty1",
        "colab_type": "code",
        "colab": {}
      },
      "source": [
        "#function for computing nvdi from red and near infrared bands\n",
        "\n",
        "def addNDVI2(image):\n",
        "  ndvi = image.normalizedDifference(['B5','B4']).rename('NDVI2')\n",
        "  return image.addBands(ndvi).float();\n"
      ],
      "execution_count": 0,
      "outputs": []
    },
    {
      "cell_type": "code",
      "metadata": {
        "id": "y7zcdn-l7vUi",
        "colab_type": "code",
        "colab": {}
      },
      "source": [
        "image_collection = ee.ImageCollection(\"LANDSAT/LC08/C01/T1_SR\")# ('Quearing imageset for landsat-8 images')"
      ],
      "execution_count": 0,
      "outputs": []
    },
    {
      "cell_type": "code",
      "metadata": {
        "id": "XrKYUgfu-kdd",
        "colab_type": "code",
        "colab": {}
      },
      "source": [
        "time_series = image_collection.filterDate('2016-01-01','2018-12-30') #time_series over 2 years \n",
        "time_series= time_series.sort('system:time_start')"
      ],
      "execution_count": 0,
      "outputs": []
    },
    {
      "cell_type": "code",
      "metadata": {
        "id": "s97Sraeq22zJ",
        "colab_type": "code",
        "colab": {}
      },
      "source": [
        " #selecting netherland as random location\n",
        "pathrow=time_series.filterBounds(cord)"
      ],
      "execution_count": 0,
      "outputs": []
    },
    {
      "cell_type": "code",
      "metadata": {
        "id": "FvcZF96I3O52",
        "colab_type": "code",
        "colab": {}
      },
      "source": [
        "clouds = pathrow.filter(ee.Filter.lt('CLOUD_COVER', 5))   #selecting images having less cloud cover than 5 percent"
      ],
      "execution_count": 0,
      "outputs": []
    },
    {
      "cell_type": "code",
      "metadata": {
        "id": "S8LBK_JU3VaC",
        "colab_type": "code",
        "outputId": "a01398c1-71e1-41f4-a371-959b9e5757c0",
        "colab": {
          "base_uri": "https://localhost:8080/",
          "height": 52
        }
      },
      "source": [
        "count = clouds.size()\n",
        "print('Count: ', str(count.getInfo())+'\\n')#size of collection of images"
      ],
      "execution_count": 49,
      "outputs": [
        {
          "output_type": "stream",
          "text": [
            "Count:  18\n",
            "\n"
          ],
          "name": "stdout"
        }
      ]
    },
    {
      "cell_type": "code",
      "metadata": {
        "id": "LXTZVFqOSXdi",
        "colab_type": "code",
        "colab": {}
      },
      "source": [
        "bands = clouds.select(['B4','B5'])"
      ],
      "execution_count": 0,
      "outputs": []
    },
    {
      "cell_type": "code",
      "metadata": {
        "id": "Us4dDmZXS6fw",
        "colab_type": "code",
        "colab": {}
      },
      "source": [
        "resultant_ndvi = bands.map(addNDVI2)\n"
      ],
      "execution_count": 0,
      "outputs": []
    },
    {
      "cell_type": "code",
      "metadata": {
        "id": "tvJTxkW70YSL",
        "colab_type": "code",
        "colab": {}
      },
      "source": [
        "def convert(image):\n",
        "  date = image.get('system:time_start')\n",
        "  mean = image.reduceRegion(\n",
        "  reducer = ee.Reducer.mean(),\n",
        "  geometry = cord,\n",
        "  scale=250\n",
        "\n",
        "  )\n",
        "  return ee.Feature(None,{'mean':mean.get('NDVI2'),'date':date})\n",
        "\n",
        "\n"
      ],
      "execution_count": 0,
      "outputs": []
    },
    {
      "cell_type": "code",
      "metadata": {
        "id": "GoQReX8oMcSG",
        "colab_type": "code",
        "colab": {}
      },
      "source": [
        "ts = resultant_ndvi.map(convert)"
      ],
      "execution_count": 0,
      "outputs": []
    },
    {
      "cell_type": "code",
      "metadata": {
        "id": "LW8_FiSM0egi",
        "colab_type": "code",
        "colab": {}
      },
      "source": [
        "out = ee.batch.Export.table.toDrive(\n",
        "  collection = ts,\n",
        "  description = 'geohack_2017_MODIS_NDVI_stats',\n",
        "  folder = 'GEE_geohackweek',\n",
        "  fileFormat= 'CSV'\n",
        "\n",
        ")"
      ],
      "execution_count": 0,
      "outputs": []
    },
    {
      "cell_type": "code",
      "metadata": {
        "id": "IiEgCsutrNZX",
        "colab_type": "code",
        "colab": {}
      },
      "source": [
        "out.start()\n"
      ],
      "execution_count": 0,
      "outputs": []
    },
    {
      "cell_type": "code",
      "metadata": {
        "id": "Ksd2gYXWNiyS",
        "colab_type": "code",
        "colab": {
          "base_uri": "https://localhost:8080/",
          "height": 173
        },
        "outputId": "a01be044-4a99-45ec-e077-2566304b07a1"
      },
      "source": [
        "out.status()"
      ],
      "execution_count": 71,
      "outputs": [
        {
          "output_type": "execute_result",
          "data": {
            "text/plain": [
              "{'creation_timestamp_ms': 1584897003982,\n",
              " 'description': 'geohack_2017_MODIS_NDVI_stats',\n",
              " 'destination_uris': ['https://drive.google.com/#folders/1Lcf6gKPc1K1AD4qEJKGgKVnQa1ql9LrN'],\n",
              " 'id': 'S5QZ6UA5NTO443J3QJPXPKH3',\n",
              " 'name': 'projects/earthengine-legacy/operations/S5QZ6UA5NTO443J3QJPXPKH3',\n",
              " 'start_timestamp_ms': 1584897029893,\n",
              " 'state': 'COMPLETED',\n",
              " 'task_type': 'EXPORT_FEATURES',\n",
              " 'update_timestamp_ms': 1584897035936}"
            ]
          },
          "metadata": {
            "tags": []
          },
          "execution_count": 71
        }
      ]
    },
    {
      "cell_type": "code",
      "metadata": {
        "id": "ESn2GIgXPmIy",
        "colab_type": "code",
        "colab": {}
      },
      "source": [
        "#importing the downloaded csv "
      ],
      "execution_count": 0,
      "outputs": []
    },
    {
      "cell_type": "code",
      "metadata": {
        "id": "8HMBk_VRP7Rx",
        "colab_type": "code",
        "colab": {}
      },
      "source": [
        "import pandas as pd\n",
        "data = pd.read_csv('/content/drive/My Drive/GEE_geohackweek/geohack_2017_MODIS_NDVI_stats (1).csv')\n",
        "from sklearn import preprocessing\n",
        "import matplotlib.pyplot as plt\n"
      ],
      "execution_count": 0,
      "outputs": []
    },
    {
      "cell_type": "code",
      "metadata": {
        "id": "sxmTPi38RDVo",
        "colab_type": "code",
        "colab": {
          "base_uri": "https://localhost:8080/",
          "height": 614
        },
        "outputId": "362cf174-7cc1-407d-9269-ff3aaf5d3324"
      },
      "source": [
        "data"
      ],
      "execution_count": 91,
      "outputs": [
        {
          "output_type": "execute_result",
          "data": {
            "text/html": [
              "<div>\n",
              "<style scoped>\n",
              "    .dataframe tbody tr th:only-of-type {\n",
              "        vertical-align: middle;\n",
              "    }\n",
              "\n",
              "    .dataframe tbody tr th {\n",
              "        vertical-align: top;\n",
              "    }\n",
              "\n",
              "    .dataframe thead th {\n",
              "        text-align: right;\n",
              "    }\n",
              "</style>\n",
              "<table border=\"1\" class=\"dataframe\">\n",
              "  <thead>\n",
              "    <tr style=\"text-align: right;\">\n",
              "      <th></th>\n",
              "      <th>system:index</th>\n",
              "      <th>date</th>\n",
              "      <th>mean</th>\n",
              "      <th>.geo</th>\n",
              "    </tr>\n",
              "  </thead>\n",
              "  <tbody>\n",
              "    <tr>\n",
              "      <th>0</th>\n",
              "      <td>LC08_192023_20160217</td>\n",
              "      <td>1.455703e+12</td>\n",
              "      <td>0.729414</td>\n",
              "      <td>NaN</td>\n",
              "    </tr>\n",
              "    <tr>\n",
              "      <th>1</th>\n",
              "      <td>LC08_192023_20160421</td>\n",
              "      <td>1.461233e+12</td>\n",
              "      <td>0.641695</td>\n",
              "      <td>NaN</td>\n",
              "    </tr>\n",
              "    <tr>\n",
              "      <th>2</th>\n",
              "      <td>LC08_192023_20160523</td>\n",
              "      <td>1.463997e+12</td>\n",
              "      <td>0.833872</td>\n",
              "      <td>NaN</td>\n",
              "    </tr>\n",
              "    <tr>\n",
              "      <th>3</th>\n",
              "      <td>LC08_192023_20160608</td>\n",
              "      <td>1.465380e+12</td>\n",
              "      <td>0.787869</td>\n",
              "      <td>NaN</td>\n",
              "    </tr>\n",
              "    <tr>\n",
              "      <th>4</th>\n",
              "      <td>LC08_192023_20160624</td>\n",
              "      <td>1.466762e+12</td>\n",
              "      <td>0.870213</td>\n",
              "      <td>NaN</td>\n",
              "    </tr>\n",
              "    <tr>\n",
              "      <th>5</th>\n",
              "      <td>LC08_192023_20160827</td>\n",
              "      <td>1.472292e+12</td>\n",
              "      <td>0.823453</td>\n",
              "      <td>NaN</td>\n",
              "    </tr>\n",
              "    <tr>\n",
              "      <th>6</th>\n",
              "      <td>LC08_192023_20160912</td>\n",
              "      <td>1.473674e+12</td>\n",
              "      <td>0.835341</td>\n",
              "      <td>NaN</td>\n",
              "    </tr>\n",
              "    <tr>\n",
              "      <th>7</th>\n",
              "      <td>LC08_193023_20170602</td>\n",
              "      <td>1.496398e+12</td>\n",
              "      <td>0.827639</td>\n",
              "      <td>NaN</td>\n",
              "    </tr>\n",
              "    <tr>\n",
              "      <th>8</th>\n",
              "      <td>LC08_192023_20170830</td>\n",
              "      <td>1.504087e+12</td>\n",
              "      <td>0.854739</td>\n",
              "      <td>NaN</td>\n",
              "    </tr>\n",
              "    <tr>\n",
              "      <th>9</th>\n",
              "      <td>LC08_193023_20180301</td>\n",
              "      <td>1.519899e+12</td>\n",
              "      <td>0.545936</td>\n",
              "      <td>NaN</td>\n",
              "    </tr>\n",
              "    <tr>\n",
              "      <th>10</th>\n",
              "      <td>LC08_193023_20180418</td>\n",
              "      <td>1.524046e+12</td>\n",
              "      <td>0.571491</td>\n",
              "      <td>NaN</td>\n",
              "    </tr>\n",
              "    <tr>\n",
              "      <th>11</th>\n",
              "      <td>LC08_193023_20180504</td>\n",
              "      <td>1.525428e+12</td>\n",
              "      <td>0.821631</td>\n",
              "      <td>NaN</td>\n",
              "    </tr>\n",
              "    <tr>\n",
              "      <th>12</th>\n",
              "      <td>LC08_192023_20180513</td>\n",
              "      <td>1.526205e+12</td>\n",
              "      <td>0.854249</td>\n",
              "      <td>NaN</td>\n",
              "    </tr>\n",
              "    <tr>\n",
              "      <th>13</th>\n",
              "      <td>LC08_193023_20180520</td>\n",
              "      <td>1.526810e+12</td>\n",
              "      <td>0.714581</td>\n",
              "      <td>NaN</td>\n",
              "    </tr>\n",
              "    <tr>\n",
              "      <th>14</th>\n",
              "      <td>LC08_192023_20180529</td>\n",
              "      <td>1.527588e+12</td>\n",
              "      <td>0.875730</td>\n",
              "      <td>NaN</td>\n",
              "    </tr>\n",
              "    <tr>\n",
              "      <th>15</th>\n",
              "      <td>LC08_192023_20180716</td>\n",
              "      <td>1.531735e+12</td>\n",
              "      <td>0.873552</td>\n",
              "      <td>NaN</td>\n",
              "    </tr>\n",
              "    <tr>\n",
              "      <th>16</th>\n",
              "      <td>LC08_193023_20181011</td>\n",
              "      <td>1.539252e+12</td>\n",
              "      <td>0.831466</td>\n",
              "      <td>NaN</td>\n",
              "    </tr>\n",
              "    <tr>\n",
              "      <th>17</th>\n",
              "      <td>LC08_193023_20181128</td>\n",
              "      <td>1.543399e+12</td>\n",
              "      <td>0.779702</td>\n",
              "      <td>NaN</td>\n",
              "    </tr>\n",
              "  </tbody>\n",
              "</table>\n",
              "</div>"
            ],
            "text/plain": [
              "            system:index          date      mean  .geo\n",
              "0   LC08_192023_20160217  1.455703e+12  0.729414   NaN\n",
              "1   LC08_192023_20160421  1.461233e+12  0.641695   NaN\n",
              "2   LC08_192023_20160523  1.463997e+12  0.833872   NaN\n",
              "3   LC08_192023_20160608  1.465380e+12  0.787869   NaN\n",
              "4   LC08_192023_20160624  1.466762e+12  0.870213   NaN\n",
              "5   LC08_192023_20160827  1.472292e+12  0.823453   NaN\n",
              "6   LC08_192023_20160912  1.473674e+12  0.835341   NaN\n",
              "7   LC08_193023_20170602  1.496398e+12  0.827639   NaN\n",
              "8   LC08_192023_20170830  1.504087e+12  0.854739   NaN\n",
              "9   LC08_193023_20180301  1.519899e+12  0.545936   NaN\n",
              "10  LC08_193023_20180418  1.524046e+12  0.571491   NaN\n",
              "11  LC08_193023_20180504  1.525428e+12  0.821631   NaN\n",
              "12  LC08_192023_20180513  1.526205e+12  0.854249   NaN\n",
              "13  LC08_193023_20180520  1.526810e+12  0.714581   NaN\n",
              "14  LC08_192023_20180529  1.527588e+12  0.875730   NaN\n",
              "15  LC08_192023_20180716  1.531735e+12  0.873552   NaN\n",
              "16  LC08_193023_20181011  1.539252e+12  0.831466   NaN\n",
              "17  LC08_193023_20181128  1.543399e+12  0.779702   NaN"
            ]
          },
          "metadata": {
            "tags": []
          },
          "execution_count": 91
        }
      ]
    },
    {
      "cell_type": "code",
      "metadata": {
        "id": "0detzaF6ROTx",
        "colab_type": "code",
        "colab": {}
      },
      "source": [
        "df = data[['date','mean']]"
      ],
      "execution_count": 0,
      "outputs": []
    },
    {
      "cell_type": "code",
      "metadata": {
        "id": "ss5Onj16Spwb",
        "colab_type": "code",
        "colab": {}
      },
      "source": [
        "x = df['date'].values.astype(float).reshape(-1,1)\n",
        "\n",
        "min_max_scaler = preprocessing.MinMaxScaler()\n",
        "\n",
        "\n",
        "x_scaled = min_max_scaler.fit_transform(x)\n",
        "\n",
        "\n",
        "df_normalized = pd.DataFrame(x_scaled)"
      ],
      "execution_count": 0,
      "outputs": []
    },
    {
      "cell_type": "code",
      "metadata": {
        "id": "Cfnpj2gXRp1L",
        "colab_type": "code",
        "colab": {}
      },
      "source": [
        "df_normalized['mean'] = data['mean']"
      ],
      "execution_count": 0,
      "outputs": []
    },
    {
      "cell_type": "code",
      "metadata": {
        "id": "C1ZRYZO9W5bD",
        "colab_type": "code",
        "colab": {}
      },
      "source": [
        "df_normalized.columns = ['date','mean']"
      ],
      "execution_count": 0,
      "outputs": []
    },
    {
      "cell_type": "code",
      "metadata": {
        "id": "19aCkrXGXZWQ",
        "colab_type": "code",
        "colab": {
          "base_uri": "https://localhost:8080/",
          "height": 614
        },
        "outputId": "8615588f-4520-4fab-ac6a-e8b03a4ed52e"
      },
      "source": [
        "df_normalized"
      ],
      "execution_count": 131,
      "outputs": [
        {
          "output_type": "execute_result",
          "data": {
            "text/html": [
              "<div>\n",
              "<style scoped>\n",
              "    .dataframe tbody tr th:only-of-type {\n",
              "        vertical-align: middle;\n",
              "    }\n",
              "\n",
              "    .dataframe tbody tr th {\n",
              "        vertical-align: top;\n",
              "    }\n",
              "\n",
              "    .dataframe thead th {\n",
              "        text-align: right;\n",
              "    }\n",
              "</style>\n",
              "<table border=\"1\" class=\"dataframe\">\n",
              "  <thead>\n",
              "    <tr style=\"text-align: right;\">\n",
              "      <th></th>\n",
              "      <th>date</th>\n",
              "      <th>mean</th>\n",
              "    </tr>\n",
              "  </thead>\n",
              "  <tbody>\n",
              "    <tr>\n",
              "      <th>0</th>\n",
              "      <td>0.000000</td>\n",
              "      <td>0.729414</td>\n",
              "    </tr>\n",
              "    <tr>\n",
              "      <th>1</th>\n",
              "      <td>0.063054</td>\n",
              "      <td>0.641695</td>\n",
              "    </tr>\n",
              "    <tr>\n",
              "      <th>2</th>\n",
              "      <td>0.094581</td>\n",
              "      <td>0.833872</td>\n",
              "    </tr>\n",
              "    <tr>\n",
              "      <th>3</th>\n",
              "      <td>0.110344</td>\n",
              "      <td>0.787869</td>\n",
              "    </tr>\n",
              "    <tr>\n",
              "      <th>4</th>\n",
              "      <td>0.126108</td>\n",
              "      <td>0.870213</td>\n",
              "    </tr>\n",
              "    <tr>\n",
              "      <th>5</th>\n",
              "      <td>0.189162</td>\n",
              "      <td>0.823453</td>\n",
              "    </tr>\n",
              "    <tr>\n",
              "      <th>6</th>\n",
              "      <td>0.204925</td>\n",
              "      <td>0.835341</td>\n",
              "    </tr>\n",
              "    <tr>\n",
              "      <th>7</th>\n",
              "      <td>0.464041</td>\n",
              "      <td>0.827639</td>\n",
              "    </tr>\n",
              "    <tr>\n",
              "      <th>8</th>\n",
              "      <td>0.551722</td>\n",
              "      <td>0.854739</td>\n",
              "    </tr>\n",
              "    <tr>\n",
              "      <th>9</th>\n",
              "      <td>0.732021</td>\n",
              "      <td>0.545936</td>\n",
              "    </tr>\n",
              "    <tr>\n",
              "      <th>10</th>\n",
              "      <td>0.779311</td>\n",
              "      <td>0.571491</td>\n",
              "    </tr>\n",
              "    <tr>\n",
              "      <th>11</th>\n",
              "      <td>0.795074</td>\n",
              "      <td>0.821631</td>\n",
              "    </tr>\n",
              "    <tr>\n",
              "      <th>12</th>\n",
              "      <td>0.803937</td>\n",
              "      <td>0.854249</td>\n",
              "    </tr>\n",
              "    <tr>\n",
              "      <th>13</th>\n",
              "      <td>0.810838</td>\n",
              "      <td>0.714581</td>\n",
              "    </tr>\n",
              "    <tr>\n",
              "      <th>14</th>\n",
              "      <td>0.819700</td>\n",
              "      <td>0.875730</td>\n",
              "    </tr>\n",
              "    <tr>\n",
              "      <th>15</th>\n",
              "      <td>0.866991</td>\n",
              "      <td>0.873552</td>\n",
              "    </tr>\n",
              "    <tr>\n",
              "      <th>16</th>\n",
              "      <td>0.952709</td>\n",
              "      <td>0.831466</td>\n",
              "    </tr>\n",
              "    <tr>\n",
              "      <th>17</th>\n",
              "      <td>1.000000</td>\n",
              "      <td>0.779702</td>\n",
              "    </tr>\n",
              "  </tbody>\n",
              "</table>\n",
              "</div>"
            ],
            "text/plain": [
              "        date      mean\n",
              "0   0.000000  0.729414\n",
              "1   0.063054  0.641695\n",
              "2   0.094581  0.833872\n",
              "3   0.110344  0.787869\n",
              "4   0.126108  0.870213\n",
              "5   0.189162  0.823453\n",
              "6   0.204925  0.835341\n",
              "7   0.464041  0.827639\n",
              "8   0.551722  0.854739\n",
              "9   0.732021  0.545936\n",
              "10  0.779311  0.571491\n",
              "11  0.795074  0.821631\n",
              "12  0.803937  0.854249\n",
              "13  0.810838  0.714581\n",
              "14  0.819700  0.875730\n",
              "15  0.866991  0.873552\n",
              "16  0.952709  0.831466\n",
              "17  1.000000  0.779702"
            ]
          },
          "metadata": {
            "tags": []
          },
          "execution_count": 131
        }
      ]
    },
    {
      "cell_type": "code",
      "metadata": {
        "id": "TvIZTiBFXb6k",
        "colab_type": "code",
        "colab": {
          "base_uri": "https://localhost:8080/",
          "height": 295
        },
        "outputId": "dd37cd15-054c-401a-da29-128d3a029fe4"
      },
      "source": [
        "plt.plot(df_normalized['date'],df_normalized['mean'])\n",
        "\n",
        "# Plot axes labels and show the plot\n",
        "plt.title('ndvi time series')\n",
        "plt.xlabel('date')\n",
        "plt.ylabel('ndvi-value')\n",
        "plt.show()"
      ],
      "execution_count": 133,
      "outputs": [
        {
          "output_type": "display_data",
          "data": {
            "image/png": "[encoded data removed]",
            "text/plain": [
              "<Figure size 432x288 with 1 Axes>"
            ]
          },
          "metadata": {
            "tags": []
          }
        }
      ]
    },
    {
      "cell_type": "code",
      "metadata": {
        "id": "yhy-Ju2YPGsr",
        "colab_type": "code",
        "colab": {}
      },
      "source": [
        "#please leave the below work as it is only done to explore gee with its api\n",
        "#will make a seperate notebook soon"
      ],
      "execution_count": 0,
      "outputs": []
    },
    {
      "cell_type": "code",
      "metadata": {
        "id": "Qi3VviD0XYlw",
        "colab_type": "code",
        "colab": {}
      },
      "source": [
        ""
      ],
      "execution_count": 0,
      "outputs": []
    },
    {
      "cell_type": "markdown",
      "metadata": {
        "id": "yUlO_opEskaf",
        "colab_type": "text"
      },
      "source": [
        "Below is some research work that i am looking on internet to find support for python api that is not exclusively supported"
      ]
    },
    {
      "cell_type": "code",
      "metadata": {
        "id": "UXbl7mO3slzA",
        "colab_type": "code",
        "outputId": "3f8b9c49-cfdc-47a5-edac-430a5071202c",
        "colab": {
          "base_uri": "https://localhost:8080/",
          "height": 34
        }
      },
      "source": [
        "type(resultant_ndvi)"
      ],
      "execution_count": 0,
      "outputs": [
        {
          "output_type": "execute_result",
          "data": {
            "text/plain": [
              "ee.imagecollection.ImageCollection"
            ]
          },
          "metadata": {
            "tags": []
          },
          "execution_count": 131
        }
      ]
    },
    {
      "cell_type": "code",
      "metadata": {
        "id": "sGvZJQOiJaI8",
        "colab_type": "code",
        "outputId": "258756ed-a4ad-4bcb-aeda-c4cf6db623f9",
        "colab": {
          "base_uri": "https://localhost:8080/",
          "height": 1000
        }
      },
      "source": [
        "print(ee.Number(fi.get(2)))"
      ],
      "execution_count": 0,
      "outputs": [
        {
          "output_type": "stream",
          "text": [
            "ee.Number({\n",
            "  \"type\": \"Invocation\",\n",
            "  \"arguments\": {\n",
            "    \"object\": {\n",
            "      \"type\": \"Invocation\",\n",
            "      \"arguments\": {\n",
            "        \"collection\": {\n",
            "          \"type\": \"Invocation\",\n",
            "          \"arguments\": {\n",
            "            \"collection\": {\n",
            "              \"type\": \"Invocation\",\n",
            "              \"arguments\": {\n",
            "                \"collection\": {\n",
            "                  \"type\": \"Invocation\",\n",
            "                  \"arguments\": {\n",
            "                    \"collection\": {\n",
            "                      \"type\": \"Invocation\",\n",
            "                      \"arguments\": {\n",
            "                        \"collection\": {\n",
            "                          \"type\": \"Invocation\",\n",
            "                          \"arguments\": {\n",
            "                            \"collection\": {\n",
            "                              \"type\": \"Invocation\",\n",
            "                              \"arguments\": {\n",
            "                                \"id\": \"LANDSAT/LC08/C01/T1_SR\"\n",
            "                              },\n",
            "                              \"functionName\": \"ImageCollection.load\"\n",
            "                            },\n",
            "                            \"filter\": {\n",
            "                              \"type\": \"Invocation\",\n",
            "                              \"arguments\": {\n",
            "                                \"rightField\": \"system:time_start\",\n",
            "                                \"leftValue\": {\n",
            "                                  \"type\": \"Invocation\",\n",
            "                                  \"arguments\": {\n",
            "                                    \"start\": \"2016-01-01\",\n",
            "                                    \"end\": \"2018-12-30\"\n",
            "                                  },\n",
            "                                  \"functionName\": \"DateRange\"\n",
            "                                }\n",
            "                              },\n",
            "                              \"functionName\": \"Filter.dateRangeContains\"\n",
            "                            }\n",
            "                          },\n",
            "                          \"functionName\": \"Collection.filter\"\n",
            "                        },\n",
            "                        \"filter\": {\n",
            "                          \"type\": \"Invocation\",\n",
            "                          \"arguments\": {\n",
            "                            \"leftField\": \".all\",\n",
            "                            \"rightValue\": {\n",
            "                              \"type\": \"Invocation\",\n",
            "                              \"arguments\": {\n",
            "                                \"geometry\": {\n",
            "                                  \"type\": \"Invocation\",\n",
            "                                  \"arguments\": {\n",
            "                                    \"collection\": {\n",
            "                                      \"type\": \"Invocation\",\n",
            "                                      \"arguments\": {\n",
            "                                        \"features\": [\n",
            "                                          {\n",
            "                                            \"type\": \"Invocation\",\n",
            "                                            \"arguments\": {\n",
            "                                              \"geometry\": {\n",
            "                                                \"type\": \"Point\",\n",
            "                                                \"coordinates\": [\n",
            "                                                  13.8463669499,\n",
            "                                                  52.9008472902\n",
            "                                                ]\n",
            "                                              },\n",
            "                                              \"metadata\": {\n",
            "                                                \"type\": \"Dictionary\",\n",
            "                                                \"value\": {\n",
            "                                                  \"label\": \"a1\"\n",
            "                                                }\n",
            "                                              }\n",
            "                                            },\n",
            "                                            \"functionName\": \"Feature\"\n",
            "                                          },\n",
            "                                          {\n",
            "                                            \"type\": \"Invocation\",\n",
            "                                            \"arguments\": {\n",
            "                                              \"geometry\": {\n",
            "                                                \"type\": \"Point\",\n",
            "                                                \"coordinates\": [\n",
            "                                                  13.778028117,\n",
            "                                                  52.951728864\n",
            "                                                ]\n",
            "                                              },\n",
            "                                              \"metadata\": {\n",
            "                                                \"type\": \"Dictionary\",\n",
            "                                                \"value\": {\n",
            "                                                  \"label \": \"a2\"\n",
            "                                                }\n",
            "                                              }\n",
            "                                            },\n",
            "                                            \"functionName\": \"Feature\"\n",
            "                                          }\n",
            "                                        ]\n",
            "                                      },\n",
            "                                      \"functionName\": \"Collection\"\n",
            "                                    }\n",
            "                                  },\n",
            "                                  \"functionName\": \"Collection.geometry\"\n",
            "                                }\n",
            "                              },\n",
            "                              \"functionName\": \"Feature\"\n",
            "                            }\n",
            "                          },\n",
            "                          \"functionName\": \"Filter.intersects\"\n",
            "                        }\n",
            "                      },\n",
            "                      \"functionName\": \"Collection.filter\"\n",
            "                    },\n",
            "                    \"filter\": {\n",
            "                      \"type\": \"Invocation\",\n",
            "                      \"arguments\": {\n",
            "                        \"leftField\": \"CLOUD_COVER\",\n",
            "                        \"rightValue\": 5\n",
            "                      },\n",
            "                      \"functionName\": \"Filter.lessThan\"\n",
            "                    }\n",
            "                  },\n",
            "                  \"functionName\": \"Collection.filter\"\n",
            "                },\n",
            "                \"baseAlgorithm\": {\n",
            "                  \"type\": \"Function\",\n",
            "                  \"argumentNames\": [\n",
            "                    \"_MAPPING_VAR_0_0\"\n",
            "                  ],\n",
            "                  \"body\": {\n",
            "                    \"type\": \"Invocation\",\n",
            "                    \"arguments\": {\n",
            "                      \"input\": {\n",
            "                        \"type\": \"ArgumentRef\",\n",
            "                        \"value\": \"_MAPPING_VAR_0_0\"\n",
            "                      },\n",
            "                      \"bandSelectors\": [\n",
            "                        \"B4\",\n",
            "                        \"B5\"\n",
            "                      ]\n",
            "                    },\n",
            "                    \"functionName\": \"Image.select\"\n",
            "                  }\n",
            "                }\n",
            "              },\n",
            "              \"functionName\": \"Collection.map\"\n",
            "            },\n",
            "            \"baseAlgorithm\": {\n",
            "              \"type\": \"Function\",\n",
            "              \"argumentNames\": [\n",
            "                \"_MAPPING_VAR_0_0\"\n",
            "              ],\n",
            "              \"body\": {\n",
            "                \"type\": \"Invocation\",\n",
            "                \"arguments\": {\n",
            "                  \"dstImg\": {\n",
            "                    \"type\": \"ArgumentRef\",\n",
            "                    \"value\": \"_MAPPING_VAR_0_0\"\n",
            "                  },\n",
            "                  \"srcImg\": {\n",
            "                    \"type\": \"Invocation\",\n",
            "                    \"arguments\": {\n",
            "                      \"input\": {\n",
            "                        \"type\": \"Invocation\",\n",
            "                        \"arguments\": {\n",
            "                          \"input\": {\n",
            "                            \"type\": \"ArgumentRef\",\n",
            "                            \"value\": \"_MAPPING_VAR_0_0\"\n",
            "                          },\n",
            "                          \"bandNames\": [\n",
            "                            \"B5\",\n",
            "                            \"B4\"\n",
            "                          ]\n",
            "                        },\n",
            "                        \"functionName\": \"Image.normalizedDifference\"\n",
            "                      },\n",
            "                      \"names\": [\n",
            "                        \"NDVI2\"\n",
            "                      ]\n",
            "                    },\n",
            "                    \"functionName\": \"Image.rename\"\n",
            "                  }\n",
            "                },\n",
            "                \"functionName\": \"Image.addBands\"\n",
            "              }\n",
            "            }\n",
            "          },\n",
            "          \"functionName\": \"Collection.map\"\n",
            "        }\n",
            "      },\n",
            "      \"functionName\": \"Collection.first\"\n",
            "    },\n",
            "    \"property\": 2\n",
            "  },\n",
            "  \"functionName\": \"Element.get\"\n",
            "})\n"
          ],
          "name": "stdout"
        }
      ]
    },
    {
      "cell_type": "code",
      "metadata": {
        "id": "nhps-cGH8MKk",
        "colab_type": "code",
        "outputId": "c6e8860c-f030-46b1-9353-0e4bbe6a4a7d",
        "colab": {
          "base_uri": "https://localhost:8080/",
          "height": 132
        }
      },
      "source": [
        "var myFeatures = ee.FeatureCollection(valuesList.map(function(el){\n",
        "el = ee.List(el) // cast every element of the list\n",
        "var geom = ee.Geometry.Point([ee.Number(el.get(0)), \n",
        "ee.Number(el.get(1))])\n",
        "return ee.Feature(geom, {'NDVI':ee.Number(el.get(2)), \n",
        "'SummaryQA':ee.Number(el.get(3))})\n",
        "\n",
        "}))\n"
      ],
      "execution_count": 0,
      "outputs": [
        {
          "output_type": "error",
          "ename": "SyntaxError",
          "evalue": "ignored",
          "traceback": [
            "\u001b[0;36m  File \u001b[0;32m\"<ipython-input-23-7e27fa8e4819>\"\u001b[0;36m, line \u001b[0;32m1\u001b[0m\n\u001b[0;31m    var myFeatures = ee.FeatureCollection(valuesList.map(function(el){\u001b[0m\n\u001b[0m                 ^\u001b[0m\n\u001b[0;31mSyntaxError\u001b[0m\u001b[0;31m:\u001b[0m invalid syntax\n"
          ]
        }
      ]
    },
    {
      "cell_type": "code",
      "metadata": {
        "id": "DReDDbo32LGe",
        "colab_type": "code",
        "colab": {}
      },
      "source": [
        "out = ee.batch.Export.table.toDrive({\n",
        "  ' collection ' : e,\n",
        "  ' description ' : 'exportTableExample',\n",
        "  ' fileFormat ': 'CSV'\n",
        "\n",
        "});\n"
      ],
      "execution_count": 0,
      "outputs": []
    },
    {
      "cell_type": "code",
      "metadata": {
        "id": "qkEfG0pL0XiM",
        "colab_type": "code",
        "outputId": "132e7fd3-d44f-4762-ae16-b178965dcce7",
        "colab": {
          "base_uri": "https://localhost:8080/",
          "height": 524
        }
      },
      "source": [
        "out.start()"
      ],
      "execution_count": 0,
      "outputs": [
        {
          "output_type": "error",
          "ename": "EEException",
          "evalue": "ignored",
          "traceback": [
            "\u001b[0;31m---------------------------------------------------------------------------\u001b[0m",
            "\u001b[0;31mHttpError\u001b[0m                                 Traceback (most recent call last)",
            "\u001b[0;32m/usr/local/lib/python3.6/dist-packages/ee/data.py\u001b[0m in \u001b[0;36m_execute_cloud_call\u001b[0;34m(call, num_retries)\u001b[0m\n\u001b[1;32m    337\u001b[0m   \u001b[0;32mtry\u001b[0m\u001b[0;34m:\u001b[0m\u001b[0;34m\u001b[0m\u001b[0;34m\u001b[0m\u001b[0m\n\u001b[0;32m--> 338\u001b[0;31m     \u001b[0;32mreturn\u001b[0m \u001b[0mcall\u001b[0m\u001b[0;34m.\u001b[0m\u001b[0mexecute\u001b[0m\u001b[0;34m(\u001b[0m\u001b[0mnum_retries\u001b[0m\u001b[0;34m=\u001b[0m\u001b[0mnum_retries\u001b[0m\u001b[0;34m)\u001b[0m\u001b[0;34m\u001b[0m\u001b[0;34m\u001b[0m\u001b[0m\n\u001b[0m\u001b[1;32m    339\u001b[0m   \u001b[0;32mexcept\u001b[0m \u001b[0mapiclient\u001b[0m\u001b[0;34m.\u001b[0m\u001b[0merrors\u001b[0m\u001b[0;34m.\u001b[0m\u001b[0mHttpError\u001b[0m \u001b[0;32mas\u001b[0m \u001b[0me\u001b[0m\u001b[0;34m:\u001b[0m\u001b[0;34m\u001b[0m\u001b[0;34m\u001b[0m\u001b[0m\n",
            "\u001b[0;32m/usr/local/lib/python3.6/dist-packages/googleapiclient/_helpers.py\u001b[0m in \u001b[0;36mpositional_wrapper\u001b[0;34m(*args, **kwargs)\u001b[0m\n\u001b[1;32m    133\u001b[0m                     \u001b[0mlogger\u001b[0m\u001b[0;34m.\u001b[0m\u001b[0mwarning\u001b[0m\u001b[0;34m(\u001b[0m\u001b[0mmessage\u001b[0m\u001b[0;34m)\u001b[0m\u001b[0;34m\u001b[0m\u001b[0;34m\u001b[0m\u001b[0m\n\u001b[0;32m--> 134\u001b[0;31m             \u001b[0;32mreturn\u001b[0m \u001b[0mwrapped\u001b[0m\u001b[0;34m(\u001b[0m\u001b[0;34m*\u001b[0m\u001b[0margs\u001b[0m\u001b[0;34m,\u001b[0m \u001b[0;34m**\u001b[0m\u001b[0mkwargs\u001b[0m\u001b[0;34m)\u001b[0m\u001b[0;34m\u001b[0m\u001b[0;34m\u001b[0m\u001b[0m\n\u001b[0m\u001b[1;32m    135\u001b[0m \u001b[0;34m\u001b[0m\u001b[0m\n",
            "\u001b[0;32m/usr/local/lib/python3.6/dist-packages/googleapiclient/http.py\u001b[0m in \u001b[0;36mexecute\u001b[0;34m(self, http, num_retries)\u001b[0m\n\u001b[1;32m    897\u001b[0m         \u001b[0;32mif\u001b[0m \u001b[0mresp\u001b[0m\u001b[0;34m.\u001b[0m\u001b[0mstatus\u001b[0m \u001b[0;34m>=\u001b[0m \u001b[0;36m300\u001b[0m\u001b[0;34m:\u001b[0m\u001b[0;34m\u001b[0m\u001b[0;34m\u001b[0m\u001b[0m\n\u001b[0;32m--> 898\u001b[0;31m             \u001b[0;32mraise\u001b[0m \u001b[0mHttpError\u001b[0m\u001b[0;34m(\u001b[0m\u001b[0mresp\u001b[0m\u001b[0;34m,\u001b[0m \u001b[0mcontent\u001b[0m\u001b[0;34m,\u001b[0m \u001b[0muri\u001b[0m\u001b[0;34m=\u001b[0m\u001b[0mself\u001b[0m\u001b[0;34m.\u001b[0m\u001b[0muri\u001b[0m\u001b[0;34m)\u001b[0m\u001b[0;34m\u001b[0m\u001b[0;34m\u001b[0m\u001b[0m\n\u001b[0m\u001b[1;32m    899\u001b[0m         \u001b[0;32mreturn\u001b[0m \u001b[0mself\u001b[0m\u001b[0;34m.\u001b[0m\u001b[0mpostproc\u001b[0m\u001b[0;34m(\u001b[0m\u001b[0mresp\u001b[0m\u001b[0;34m,\u001b[0m \u001b[0mcontent\u001b[0m\u001b[0;34m)\u001b[0m\u001b[0;34m\u001b[0m\u001b[0;34m\u001b[0m\u001b[0m\n",
            "\u001b[0;31mHttpError\u001b[0m: <HttpError 400 when requesting https://earthengine.googleapis.com/v1alpha/projects/earthengine-legacy/table:export?alt=json returned \"Invalid JSON payload received. Unknown name \" collection \" at 'expression': Cannot find field.\nInvalid JSON payload received. Unknown name \" description \" at 'expression': Cannot find field.\nInvalid JSON payload received. Unknown name \" fileFormat \" at 'expression': Cannot find field.\". Details: \"[{'@type': 'type.googleapis.com/google.rpc.BadRequest', 'fieldViolations': [{'field': 'expression', 'description': 'Invalid JSON payload received. Unknown name \" collection \" at \\'expression\\': Cannot find field.'}, {'field': 'expression', 'description': 'Invalid JSON payload received. Unknown name \" description \" at \\'expression\\': Cannot find field.'}, {'field': 'expression', 'description': 'Invalid JSON payload received. Unknown name \" fileFormat \" at \\'expression\\': Cannot find field.'}]}]\">",
            "\nDuring handling of the above exception, another exception occurred:\n",
            "\u001b[0;31mEEException\u001b[0m                               Traceback (most recent call last)",
            "\u001b[0;32m<ipython-input-54-5da02275fd3b>\u001b[0m in \u001b[0;36m<module>\u001b[0;34m()\u001b[0m\n\u001b[0;32m----> 1\u001b[0;31m \u001b[0mout\u001b[0m\u001b[0;34m.\u001b[0m\u001b[0mstart\u001b[0m\u001b[0;34m(\u001b[0m\u001b[0;34m)\u001b[0m\u001b[0;34m\u001b[0m\u001b[0;34m\u001b[0m\u001b[0m\n\u001b[0m",
            "\u001b[0;32m/usr/local/lib/python3.6/dist-packages/ee/batch.py\u001b[0m in \u001b[0;36mstart\u001b[0;34m(self)\u001b[0m\n\u001b[1;32m     85\u001b[0m       \u001b[0mresult\u001b[0m \u001b[0;34m=\u001b[0m \u001b[0mdata\u001b[0m\u001b[0;34m.\u001b[0m\u001b[0mexportMap\u001b[0m\u001b[0;34m(\u001b[0m\u001b[0mself\u001b[0m\u001b[0;34m.\u001b[0m\u001b[0m_request_id\u001b[0m\u001b[0;34m,\u001b[0m \u001b[0mself\u001b[0m\u001b[0;34m.\u001b[0m\u001b[0mconfig\u001b[0m\u001b[0;34m)\u001b[0m\u001b[0;34m\u001b[0m\u001b[0;34m\u001b[0m\u001b[0m\n\u001b[1;32m     86\u001b[0m     \u001b[0;32melif\u001b[0m \u001b[0mself\u001b[0m\u001b[0;34m.\u001b[0m\u001b[0mtask_type\u001b[0m \u001b[0;34m==\u001b[0m \u001b[0mTask\u001b[0m\u001b[0;34m.\u001b[0m\u001b[0mType\u001b[0m\u001b[0;34m.\u001b[0m\u001b[0mEXPORT_TABLE\u001b[0m\u001b[0;34m:\u001b[0m\u001b[0;34m\u001b[0m\u001b[0;34m\u001b[0m\u001b[0m\n\u001b[0;32m---> 87\u001b[0;31m       \u001b[0mresult\u001b[0m \u001b[0;34m=\u001b[0m \u001b[0mdata\u001b[0m\u001b[0;34m.\u001b[0m\u001b[0mexportTable\u001b[0m\u001b[0;34m(\u001b[0m\u001b[0mself\u001b[0m\u001b[0;34m.\u001b[0m\u001b[0m_request_id\u001b[0m\u001b[0;34m,\u001b[0m \u001b[0mself\u001b[0m\u001b[0;34m.\u001b[0m\u001b[0mconfig\u001b[0m\u001b[0;34m)\u001b[0m\u001b[0;34m\u001b[0m\u001b[0;34m\u001b[0m\u001b[0m\n\u001b[0m\u001b[1;32m     88\u001b[0m     \u001b[0;32melif\u001b[0m \u001b[0mself\u001b[0m\u001b[0;34m.\u001b[0m\u001b[0mtask_type\u001b[0m \u001b[0;34m==\u001b[0m \u001b[0mTask\u001b[0m\u001b[0;34m.\u001b[0m\u001b[0mType\u001b[0m\u001b[0;34m.\u001b[0m\u001b[0mEXPORT_VIDEO\u001b[0m\u001b[0;34m:\u001b[0m\u001b[0;34m\u001b[0m\u001b[0;34m\u001b[0m\u001b[0m\n\u001b[1;32m     89\u001b[0m       \u001b[0mresult\u001b[0m \u001b[0;34m=\u001b[0m \u001b[0mdata\u001b[0m\u001b[0;34m.\u001b[0m\u001b[0mexportVideo\u001b[0m\u001b[0;34m(\u001b[0m\u001b[0mself\u001b[0m\u001b[0;34m.\u001b[0m\u001b[0m_request_id\u001b[0m\u001b[0;34m,\u001b[0m \u001b[0mself\u001b[0m\u001b[0;34m.\u001b[0m\u001b[0mconfig\u001b[0m\u001b[0;34m)\u001b[0m\u001b[0;34m\u001b[0m\u001b[0;34m\u001b[0m\u001b[0m\n",
            "\u001b[0;32m/usr/local/lib/python3.6/dist-packages/ee/data.py\u001b[0m in \u001b[0;36mexportTable\u001b[0;34m(request_id, params)\u001b[0m\n\u001b[1;32m   1353\u001b[0m   \u001b[0;32mif\u001b[0m \u001b[0m_use_cloud_api\u001b[0m\u001b[0;34m:\u001b[0m\u001b[0;34m\u001b[0m\u001b[0;34m\u001b[0m\u001b[0m\n\u001b[1;32m   1354\u001b[0m     return _prepare_and_run_export(\n\u001b[0;32m-> 1355\u001b[0;31m         request_id, params, _cloud_api_resource.projects().table().export)\n\u001b[0m\u001b[1;32m   1356\u001b[0m   \u001b[0mparams\u001b[0m\u001b[0;34m[\u001b[0m\u001b[0;34m'type'\u001b[0m\u001b[0;34m]\u001b[0m \u001b[0;34m=\u001b[0m \u001b[0;34m'EXPORT_FEATURES'\u001b[0m\u001b[0;34m\u001b[0m\u001b[0;34m\u001b[0m\u001b[0m\n\u001b[1;32m   1357\u001b[0m   \u001b[0;32mreturn\u001b[0m \u001b[0mstartProcessing\u001b[0m\u001b[0;34m(\u001b[0m\u001b[0mrequest_id\u001b[0m\u001b[0;34m,\u001b[0m \u001b[0mparams\u001b[0m\u001b[0;34m)\u001b[0m\u001b[0;34m\u001b[0m\u001b[0;34m\u001b[0m\u001b[0m\n",
            "\u001b[0;32m/usr/local/lib/python3.6/dist-packages/ee/data.py\u001b[0m in \u001b[0;36m_prepare_and_run_export\u001b[0;34m(request_id, params, export_endpoint)\u001b[0m\n\u001b[1;32m   1449\u001b[0m   return _execute_cloud_call(\n\u001b[1;32m   1450\u001b[0m       \u001b[0mexport_endpoint\u001b[0m\u001b[0;34m(\u001b[0m\u001b[0mproject\u001b[0m\u001b[0;34m=\u001b[0m\u001b[0m_get_projects_path\u001b[0m\u001b[0;34m(\u001b[0m\u001b[0;34m)\u001b[0m\u001b[0;34m,\u001b[0m \u001b[0mbody\u001b[0m\u001b[0;34m=\u001b[0m\u001b[0mparams\u001b[0m\u001b[0;34m)\u001b[0m\u001b[0;34m,\u001b[0m\u001b[0;34m\u001b[0m\u001b[0;34m\u001b[0m\u001b[0m\n\u001b[0;32m-> 1451\u001b[0;31m       num_retries=num_retries)\n\u001b[0m\u001b[1;32m   1452\u001b[0m \u001b[0;34m\u001b[0m\u001b[0m\n\u001b[1;32m   1453\u001b[0m \u001b[0;34m\u001b[0m\u001b[0m\n",
            "\u001b[0;32m/usr/local/lib/python3.6/dist-packages/ee/data.py\u001b[0m in \u001b[0;36m_execute_cloud_call\u001b[0;34m(call, num_retries)\u001b[0m\n\u001b[1;32m    338\u001b[0m     \u001b[0;32mreturn\u001b[0m \u001b[0mcall\u001b[0m\u001b[0;34m.\u001b[0m\u001b[0mexecute\u001b[0m\u001b[0;34m(\u001b[0m\u001b[0mnum_retries\u001b[0m\u001b[0;34m=\u001b[0m\u001b[0mnum_retries\u001b[0m\u001b[0;34m)\u001b[0m\u001b[0;34m\u001b[0m\u001b[0;34m\u001b[0m\u001b[0m\n\u001b[1;32m    339\u001b[0m   \u001b[0;32mexcept\u001b[0m \u001b[0mapiclient\u001b[0m\u001b[0;34m.\u001b[0m\u001b[0merrors\u001b[0m\u001b[0;34m.\u001b[0m\u001b[0mHttpError\u001b[0m \u001b[0;32mas\u001b[0m \u001b[0me\u001b[0m\u001b[0;34m:\u001b[0m\u001b[0;34m\u001b[0m\u001b[0;34m\u001b[0m\u001b[0m\n\u001b[0;32m--> 340\u001b[0;31m     \u001b[0;32mraise\u001b[0m \u001b[0m_translate_cloud_exception\u001b[0m\u001b[0;34m(\u001b[0m\u001b[0me\u001b[0m\u001b[0;34m)\u001b[0m\u001b[0;34m\u001b[0m\u001b[0;34m\u001b[0m\u001b[0m\n\u001b[0m\u001b[1;32m    341\u001b[0m \u001b[0;34m\u001b[0m\u001b[0m\n\u001b[1;32m    342\u001b[0m \u001b[0;34m\u001b[0m\u001b[0m\n",
            "\u001b[0;31mEEException\u001b[0m: Invalid JSON payload received. Unknown name \" collection \" at 'expression': Cannot find field.\nInvalid JSON payload received. Unknown name \" description \" at 'expression': Cannot find field.\nInvalid JSON payload received. Unknown name \" fileFormat \" at 'expression': Cannot find field."
          ]
        }
      ]
    },
    {
      "cell_type": "code",
      "metadata": {
        "id": "UyMd7JIKah76",
        "colab_type": "code",
        "outputId": "26435167-b88e-4f5b-c9f3-9efc7b2f2355",
        "colab": {
          "base_uri": "https://localhost:8080/",
          "height": 1000
        }
      },
      "source": [
        "composite = resultant_ndvi.qualityMosaic('NDVI').clip(cord);\n",
        "print(composite);\n",
        "\n",
        "ndviPalette = ['FFFFFF', 'CE7E45', 'DF923D', 'F1B555', 'FCD163', '99B718',\n",
        "               '74A901', '66A000', '529400', '3E8601', '207401', '056201',\n",
        "               '004C00', '023B01', '012E01', '011D01', '011301'];\n",
        "Map.addLayer(composite.select('NDVI'),\n",
        "            {min:0, max: 1,' palette': ndviPalette});"
      ],
      "execution_count": 0,
      "outputs": [
        {
          "output_type": "stream",
          "text": [
            "ee.Image({\n",
            "  \"type\": \"Invocation\",\n",
            "  \"arguments\": {\n",
            "    \"input\": {\n",
            "      \"type\": \"Invocation\",\n",
            "      \"arguments\": {\n",
            "        \"collection\": {\n",
            "          \"type\": \"Invocation\",\n",
            "          \"arguments\": {\n",
            "            \"collection\": {\n",
            "              \"type\": \"Invocation\",\n",
            "              \"arguments\": {\n",
            "                \"collection\": {\n",
            "                  \"type\": \"Invocation\",\n",
            "                  \"arguments\": {\n",
            "                    \"collection\": {\n",
            "                      \"type\": \"Invocation\",\n",
            "                      \"arguments\": {\n",
            "                        \"collection\": {\n",
            "                          \"type\": \"Invocation\",\n",
            "                          \"arguments\": {\n",
            "                            \"collection\": {\n",
            "                              \"type\": \"Invocation\",\n",
            "                              \"arguments\": {\n",
            "                                \"collection\": {\n",
            "                                  \"type\": \"Invocation\",\n",
            "                                  \"arguments\": {\n",
            "                                    \"id\": \"LANDSAT/LC08/C01/T1_SR\"\n",
            "                                  },\n",
            "                                  \"functionName\": \"ImageCollection.load\"\n",
            "                                },\n",
            "                                \"filter\": {\n",
            "                                  \"type\": \"Invocation\",\n",
            "                                  \"arguments\": {\n",
            "                                    \"rightField\": \"system:time_start\",\n",
            "                                    \"leftValue\": {\n",
            "                                      \"type\": \"Invocation\",\n",
            "                                      \"arguments\": {\n",
            "                                        \"start\": \"2016-01-01\",\n",
            "                                        \"end\": \"2018-12-30\"\n",
            "                                      },\n",
            "                                      \"functionName\": \"DateRange\"\n",
            "                                    }\n",
            "                                  },\n",
            "                                  \"functionName\": \"Filter.dateRangeContains\"\n",
            "                                }\n",
            "                              },\n",
            "                              \"functionName\": \"Collection.filter\"\n",
            "                            },\n",
            "                            \"filter\": {\n",
            "                              \"type\": \"Invocation\",\n",
            "                              \"arguments\": {\n",
            "                                \"leftField\": \".all\",\n",
            "                                \"rightValue\": {\n",
            "                                  \"type\": \"Invocation\",\n",
            "                                  \"arguments\": {\n",
            "                                    \"geometry\": {\n",
            "                                      \"type\": \"Invocation\",\n",
            "                                      \"arguments\": {\n",
            "                                        \"collection\": {\n",
            "                                          \"type\": \"Invocation\",\n",
            "                                          \"arguments\": {\n",
            "                                            \"features\": [\n",
            "                                              {\n",
            "                                                \"type\": \"Invocation\",\n",
            "                                                \"arguments\": {\n",
            "                                                  \"geometry\": {\n",
            "                                                    \"type\": \"Point\",\n",
            "                                                    \"coordinates\": [\n",
            "                                                      13.8463669499,\n",
            "                                                      52.9008472902\n",
            "                                                    ]\n",
            "                                                  },\n",
            "                                                  \"metadata\": {\n",
            "                                                    \"type\": \"Dictionary\",\n",
            "                                                    \"value\": {\n",
            "                                                      \"label\": \"a1\"\n",
            "                                                    }\n",
            "                                                  }\n",
            "                                                },\n",
            "                                                \"functionName\": \"Feature\"\n",
            "                                              },\n",
            "                                              {\n",
            "                                                \"type\": \"Invocation\",\n",
            "                                                \"arguments\": {\n",
            "                                                  \"geometry\": {\n",
            "                                                    \"type\": \"Point\",\n",
            "                                                    \"coordinates\": [\n",
            "                                                      13.778028117,\n",
            "                                                      52.951728864\n",
            "                                                    ]\n",
            "                                                  },\n",
            "                                                  \"metadata\": {\n",
            "                                                    \"type\": \"Dictionary\",\n",
            "                                                    \"value\": {\n",
            "                                                      \"label \": \"a1\"\n",
            "                                                    }\n",
            "                                                  }\n",
            "                                                },\n",
            "                                                \"functionName\": \"Feature\"\n",
            "                                              }\n",
            "                                            ]\n",
            "                                          },\n",
            "                                          \"functionName\": \"Collection\"\n",
            "                                        }\n",
            "                                      },\n",
            "                                      \"functionName\": \"Collection.geometry\"\n",
            "                                    }\n",
            "                                  },\n",
            "                                  \"functionName\": \"Feature\"\n",
            "                                }\n",
            "                              },\n",
            "                              \"functionName\": \"Filter.intersects\"\n",
            "                            }\n",
            "                          },\n",
            "                          \"functionName\": \"Collection.filter\"\n",
            "                        },\n",
            "                        \"filter\": {\n",
            "                          \"type\": \"Invocation\",\n",
            "                          \"arguments\": {\n",
            "                            \"leftField\": \"CLOUD_COVER\",\n",
            "                            \"rightValue\": 5\n",
            "                          },\n",
            "                          \"functionName\": \"Filter.lessThan\"\n",
            "                        }\n",
            "                      },\n",
            "                      \"functionName\": \"Collection.filter\"\n",
            "                    },\n",
            "                    \"baseAlgorithm\": {\n",
            "                      \"type\": \"Function\",\n",
            "                      \"argumentNames\": [\n",
            "                        \"_MAPPING_VAR_0_0\"\n",
            "                      ],\n",
            "                      \"body\": {\n",
            "                        \"type\": \"Invocation\",\n",
            "                        \"arguments\": {\n",
            "                          \"input\": {\n",
            "                            \"type\": \"ArgumentRef\",\n",
            "                            \"value\": \"_MAPPING_VAR_0_0\"\n",
            "                          },\n",
            "                          \"bandSelectors\": [\n",
            "                            \"B4\",\n",
            "                            \"B5\"\n",
            "                          ]\n",
            "                        },\n",
            "                        \"functionName\": \"Image.select\"\n",
            "                      }\n",
            "                    }\n",
            "                  },\n",
            "                  \"functionName\": \"Collection.map\"\n",
            "                },\n",
            "                \"baseAlgorithm\": {\n",
            "                  \"type\": \"Function\",\n",
            "                  \"argumentNames\": [\n",
            "                    \"_MAPPING_VAR_0_0\"\n",
            "                  ],\n",
            "                  \"body\": {\n",
            "                    \"type\": \"Invocation\",\n",
            "                    \"arguments\": {\n",
            "                      \"image\": {\n",
            "                        \"type\": \"ArgumentRef\",\n",
            "                        \"value\": \"_MAPPING_VAR_0_0\"\n",
            "                      },\n",
            "                      \"mask\": {\n",
            "                        \"type\": \"Invocation\",\n",
            "                        \"arguments\": {\n",
            "                          \"image1\": {\n",
            "                            \"type\": \"Invocation\",\n",
            "                            \"arguments\": {\n",
            "                              \"input\": {\n",
            "                                \"type\": \"ArgumentRef\",\n",
            "                                \"value\": \"_MAPPING_VAR_0_0\"\n",
            "                              },\n",
            "                              \"bandSelectors\": [\n",
            "                                \"fmask\"\n",
            "                              ]\n",
            "                            },\n",
            "                            \"functionName\": \"Image.select\"\n",
            "                          },\n",
            "                          \"image2\": {\n",
            "                            \"type\": \"Invocation\",\n",
            "                            \"arguments\": {\n",
            "                              \"value\": 4\n",
            "                            },\n",
            "                            \"functionName\": \"Image.constant\"\n",
            "                          }\n",
            "                        },\n",
            "                        \"functionName\": \"Image.neq\"\n",
            "                      }\n",
            "                    },\n",
            "                    \"functionName\": \"Image.updateMask\"\n",
            "                  }\n",
            "                }\n",
            "              },\n",
            "              \"functionName\": \"Collection.map\"\n",
            "            },\n",
            "            \"baseAlgorithm\": {\n",
            "              \"type\": \"Function\",\n",
            "              \"argumentNames\": [\n",
            "                \"_MAPPING_VAR_0_0\"\n",
            "              ],\n",
            "              \"body\": {\n",
            "                \"type\": \"Invocation\",\n",
            "                \"arguments\": {\n",
            "                  \"dstImg\": {\n",
            "                    \"type\": \"ArgumentRef\",\n",
            "                    \"value\": \"_MAPPING_VAR_0_0\"\n",
            "                  },\n",
            "                  \"srcImg\": {\n",
            "                    \"type\": \"Invocation\",\n",
            "                    \"arguments\": {\n",
            "                      \"input\": {\n",
            "                        \"type\": \"Invocation\",\n",
            "                        \"arguments\": {\n",
            "                          \"input\": {\n",
            "                            \"type\": \"ArgumentRef\",\n",
            "                            \"value\": \"_MAPPING_VAR_0_0\"\n",
            "                          },\n",
            "                          \"bandNames\": [\n",
            "                            \"B5\",\n",
            "                            \"B4\"\n",
            "                          ]\n",
            "                        },\n",
            "                        \"functionName\": \"Image.normalizedDifference\"\n",
            "                      },\n",
            "                      \"names\": [\n",
            "                        \"NDVI2\"\n",
            "                      ]\n",
            "                    },\n",
            "                    \"functionName\": \"Image.rename\"\n",
            "                  }\n",
            "                },\n",
            "                \"functionName\": \"Image.addBands\"\n",
            "              }\n",
            "            }\n",
            "          },\n",
            "          \"functionName\": \"Collection.map\"\n",
            "        },\n",
            "        \"qualityBand\": \"NDVI\"\n",
            "      },\n",
            "      \"functionName\": \"ImageCollection.qualityMosaic\"\n",
            "    },\n",
            "    \"geometry\": {\n",
            "      \"type\": \"Invocation\",\n",
            "      \"arguments\": {\n",
            "        \"features\": [\n",
            "          {\n",
            "            \"type\": \"Invocation\",\n",
            "            \"arguments\": {\n",
            "              \"geometry\": {\n",
            "                \"type\": \"Point\",\n",
            "                \"coordinates\": [\n",
            "                  13.8463669499,\n",
            "                  52.9008472902\n",
            "                ]\n",
            "              },\n",
            "              \"metadata\": {\n",
            "                \"type\": \"Dictionary\",\n",
            "                \"value\": {\n",
            "                  \"label\": \"a1\"\n",
            "                }\n",
            "              }\n",
            "            },\n",
            "            \"functionName\": \"Feature\"\n",
            "          },\n",
            "          {\n",
            "            \"type\": \"Invocation\",\n",
            "            \"arguments\": {\n",
            "              \"geometry\": {\n",
            "                \"type\": \"Point\",\n",
            "                \"coordinates\": [\n",
            "                  13.778028117,\n",
            "                  52.951728864\n",
            "                ]\n",
            "              },\n",
            "              \"metadata\": {\n",
            "                \"type\": \"Dictionary\",\n",
            "                \"value\": {\n",
            "                  \"label \": \"a1\"\n",
            "                }\n",
            "              }\n",
            "            },\n",
            "            \"functionName\": \"Feature\"\n",
            "          }\n",
            "        ]\n",
            "      },\n",
            "      \"functionName\": \"Collection\"\n",
            "    }\n",
            "  },\n",
            "  \"functionName\": \"Image.clip\"\n",
            "})\n"
          ],
          "name": "stdout"
        },
        {
          "output_type": "error",
          "ename": "EEException",
          "evalue": "ignored",
          "traceback": [
            "\u001b[0;31m---------------------------------------------------------------------------\u001b[0m",
            "\u001b[0;31mHttpError\u001b[0m                                 Traceback (most recent call last)",
            "\u001b[0;32m/usr/local/lib/python3.6/dist-packages/ee/data.py\u001b[0m in \u001b[0;36m_execute_cloud_call\u001b[0;34m(call, num_retries)\u001b[0m\n\u001b[1;32m    337\u001b[0m   \u001b[0;32mtry\u001b[0m\u001b[0;34m:\u001b[0m\u001b[0;34m\u001b[0m\u001b[0;34m\u001b[0m\u001b[0m\n\u001b[0;32m--> 338\u001b[0;31m     \u001b[0;32mreturn\u001b[0m \u001b[0mcall\u001b[0m\u001b[0;34m.\u001b[0m\u001b[0mexecute\u001b[0m\u001b[0;34m(\u001b[0m\u001b[0mnum_retries\u001b[0m\u001b[0;34m=\u001b[0m\u001b[0mnum_retries\u001b[0m\u001b[0;34m)\u001b[0m\u001b[0;34m\u001b[0m\u001b[0;34m\u001b[0m\u001b[0m\n\u001b[0m\u001b[1;32m    339\u001b[0m   \u001b[0;32mexcept\u001b[0m \u001b[0mapiclient\u001b[0m\u001b[0;34m.\u001b[0m\u001b[0merrors\u001b[0m\u001b[0;34m.\u001b[0m\u001b[0mHttpError\u001b[0m \u001b[0;32mas\u001b[0m \u001b[0me\u001b[0m\u001b[0;34m:\u001b[0m\u001b[0;34m\u001b[0m\u001b[0;34m\u001b[0m\u001b[0m\n",
            "\u001b[0;32m/usr/local/lib/python3.6/dist-packages/googleapiclient/_helpers.py\u001b[0m in \u001b[0;36mpositional_wrapper\u001b[0;34m(*args, **kwargs)\u001b[0m\n\u001b[1;32m    129\u001b[0m                     \u001b[0mlogger\u001b[0m\u001b[0;34m.\u001b[0m\u001b[0mwarning\u001b[0m\u001b[0;34m(\u001b[0m\u001b[0mmessage\u001b[0m\u001b[0;34m)\u001b[0m\u001b[0;34m\u001b[0m\u001b[0;34m\u001b[0m\u001b[0m\n\u001b[0;32m--> 130\u001b[0;31m             \u001b[0;32mreturn\u001b[0m \u001b[0mwrapped\u001b[0m\u001b[0;34m(\u001b[0m\u001b[0;34m*\u001b[0m\u001b[0margs\u001b[0m\u001b[0;34m,\u001b[0m \u001b[0;34m**\u001b[0m\u001b[0mkwargs\u001b[0m\u001b[0;34m)\u001b[0m\u001b[0;34m\u001b[0m\u001b[0;34m\u001b[0m\u001b[0m\n\u001b[0m\u001b[1;32m    131\u001b[0m         \u001b[0;32mreturn\u001b[0m \u001b[0mpositional_wrapper\u001b[0m\u001b[0;34m\u001b[0m\u001b[0;34m\u001b[0m\u001b[0m\n",
            "\u001b[0;32m/usr/local/lib/python3.6/dist-packages/googleapiclient/http.py\u001b[0m in \u001b[0;36mexecute\u001b[0;34m(self, http, num_retries)\u001b[0m\n\u001b[1;32m    855\u001b[0m     \u001b[0;32mif\u001b[0m \u001b[0mresp\u001b[0m\u001b[0;34m.\u001b[0m\u001b[0mstatus\u001b[0m \u001b[0;34m>=\u001b[0m \u001b[0;36m300\u001b[0m\u001b[0;34m:\u001b[0m\u001b[0;34m\u001b[0m\u001b[0;34m\u001b[0m\u001b[0m\n\u001b[0;32m--> 856\u001b[0;31m       \u001b[0;32mraise\u001b[0m \u001b[0mHttpError\u001b[0m\u001b[0;34m(\u001b[0m\u001b[0mresp\u001b[0m\u001b[0;34m,\u001b[0m \u001b[0mcontent\u001b[0m\u001b[0;34m,\u001b[0m \u001b[0muri\u001b[0m\u001b[0;34m=\u001b[0m\u001b[0mself\u001b[0m\u001b[0;34m.\u001b[0m\u001b[0muri\u001b[0m\u001b[0;34m)\u001b[0m\u001b[0;34m\u001b[0m\u001b[0;34m\u001b[0m\u001b[0m\n\u001b[0m\u001b[1;32m    857\u001b[0m     \u001b[0;32mreturn\u001b[0m \u001b[0mself\u001b[0m\u001b[0;34m.\u001b[0m\u001b[0mpostproc\u001b[0m\u001b[0;34m(\u001b[0m\u001b[0mresp\u001b[0m\u001b[0;34m,\u001b[0m \u001b[0mcontent\u001b[0m\u001b[0;34m)\u001b[0m\u001b[0;34m\u001b[0m\u001b[0;34m\u001b[0m\u001b[0m\n",
            "\u001b[0;31mHttpError\u001b[0m: <HttpError 400 when requesting https://earthengine.googleapis.com/v1alpha/projects/earthengine-legacy/value:compute?prettyPrint=false&alt=json returned \"ImageCollection.qualityMosaic: Error in map(ID=LC08_192023_20160217):\nImage.select: Pattern 'fmask' did not match any bands.\">",
            "\nDuring handling of the above exception, another exception occurred:\n",
            "\u001b[0;31mEEException\u001b[0m                               Traceback (most recent call last)",
            "\u001b[0;32m<ipython-input-30-817f34aabe3c>\u001b[0m in \u001b[0;36m<module>\u001b[0;34m()\u001b[0m\n\u001b[1;32m      6\u001b[0m                '004C00', '023B01', '012E01', '011D01', '011301'];\n\u001b[1;32m      7\u001b[0m Map.addLayer(composite.select('NDVI'),\n\u001b[0;32m----> 8\u001b[0;31m             {min:0, max: 1,' palette': ndviPalette});\n\u001b[0m",
            "\u001b[0;32m/usr/local/lib/python3.6/dist-packages/ipygee/map.py\u001b[0m in \u001b[0;36maddLayer\u001b[0;34m(self, eeObject, visParams, name, show, opacity, replace, **kwargs)\u001b[0m\n\u001b[1;32m    537\u001b[0m             EELayer = self.addImage(eeObject, visParams=visParams,\n\u001b[1;32m    538\u001b[0m                                     \u001b[0mname\u001b[0m\u001b[0;34m=\u001b[0m\u001b[0mimage_name\u001b[0m\u001b[0;34m,\u001b[0m \u001b[0mshow\u001b[0m\u001b[0;34m=\u001b[0m\u001b[0mshow\u001b[0m\u001b[0;34m,\u001b[0m\u001b[0;34m\u001b[0m\u001b[0;34m\u001b[0m\u001b[0m\n\u001b[0;32m--> 539\u001b[0;31m                                     opacity=opacity, replace=replace)\n\u001b[0m\u001b[1;32m    540\u001b[0m \u001b[0;34m\u001b[0m\u001b[0m\n\u001b[1;32m    541\u001b[0m             \u001b[0mself\u001b[0m\u001b[0;34m.\u001b[0m\u001b[0m_add_EELayer\u001b[0m\u001b[0;34m(\u001b[0m\u001b[0mimage_name\u001b[0m\u001b[0;34m,\u001b[0m \u001b[0mEELayer\u001b[0m\u001b[0;34m)\u001b[0m\u001b[0;34m\u001b[0m\u001b[0;34m\u001b[0m\u001b[0m\n",
            "\u001b[0;32m/usr/local/lib/python3.6/dist-packages/ipygee/map.py\u001b[0m in \u001b[0;36maddImage\u001b[0;34m(self, image, visParams, name, show, opacity, replace)\u001b[0m\n\u001b[1;32m    298\u001b[0m         \u001b[0;32melse\u001b[0m\u001b[0;34m:\u001b[0m\u001b[0;34m\u001b[0m\u001b[0;34m\u001b[0m\u001b[0m\n\u001b[1;32m    299\u001b[0m             \u001b[0;31m# Get URL, attribution & vis params\u001b[0m\u001b[0;34m\u001b[0m\u001b[0;34m\u001b[0m\u001b[0;34m\u001b[0m\u001b[0m\n\u001b[0;32m--> 300\u001b[0;31m             \u001b[0mparams\u001b[0m \u001b[0;34m=\u001b[0m \u001b[0mgetImageTile\u001b[0m\u001b[0;34m(\u001b[0m\u001b[0mimage\u001b[0m\u001b[0;34m,\u001b[0m \u001b[0mvisParams\u001b[0m\u001b[0;34m,\u001b[0m \u001b[0mshow\u001b[0m\u001b[0;34m,\u001b[0m \u001b[0mopacity\u001b[0m\u001b[0;34m)\u001b[0m\u001b[0;34m\u001b[0m\u001b[0;34m\u001b[0m\u001b[0m\n\u001b[0m\u001b[1;32m    301\u001b[0m \u001b[0;34m\u001b[0m\u001b[0m\n\u001b[1;32m    302\u001b[0m         layer = ipyleaflet.TileLayer(url=params['url'],\n",
            "\u001b[0;32m/usr/local/lib/python3.6/dist-packages/ipygee/maptools.py\u001b[0m in \u001b[0;36mgetImageTile\u001b[0;34m(image, visParams, show, opacity, overlay)\u001b[0m\n\u001b[1;32m    163\u001b[0m             \u001b[0mbands\u001b[0m \u001b[0;34m=\u001b[0m \u001b[0;34m[\u001b[0m\u001b[0mbandnames\u001b[0m\u001b[0;34m[\u001b[0m\u001b[0;36m0\u001b[0m\u001b[0;34m]\u001b[0m\u001b[0;34m,\u001b[0m \u001b[0mbandnames\u001b[0m\u001b[0;34m[\u001b[0m\u001b[0;36m1\u001b[0m\u001b[0;34m]\u001b[0m\u001b[0;34m,\u001b[0m \u001b[0mbandnames\u001b[0m\u001b[0;34m[\u001b[0m\u001b[0;36m2\u001b[0m\u001b[0;34m]\u001b[0m\u001b[0;34m]\u001b[0m\u001b[0;34m\u001b[0m\u001b[0;34m\u001b[0m\u001b[0m\n\u001b[1;32m    164\u001b[0m         \u001b[0;32mreturn\u001b[0m \u001b[0mbands\u001b[0m\u001b[0;34m\u001b[0m\u001b[0;34m\u001b[0m\u001b[0m\n\u001b[0;32m--> 165\u001b[0;31m     \u001b[0mbands\u001b[0m \u001b[0;34m=\u001b[0m \u001b[0mparams\u001b[0m\u001b[0;34m.\u001b[0m\u001b[0mget\u001b[0m\u001b[0;34m(\u001b[0m\u001b[0;34m'bands'\u001b[0m\u001b[0;34m)\u001b[0m \u001b[0;32mif\u001b[0m \u001b[0;34m'bands'\u001b[0m \u001b[0;32min\u001b[0m \u001b[0mparams\u001b[0m \u001b[0;32melse\u001b[0m \u001b[0mdefault_bands\u001b[0m\u001b[0;34m(\u001b[0m\u001b[0mimage\u001b[0m\u001b[0;34m)\u001b[0m\u001b[0;34m\u001b[0m\u001b[0;34m\u001b[0m\u001b[0m\n\u001b[0m\u001b[1;32m    166\u001b[0m \u001b[0;34m\u001b[0m\u001b[0m\n\u001b[1;32m    167\u001b[0m     \u001b[0;31m# if the passed bands is a string formatted like required by GEE, get the\u001b[0m\u001b[0;34m\u001b[0m\u001b[0;34m\u001b[0m\u001b[0;34m\u001b[0m\u001b[0m\n",
            "\u001b[0;32m/usr/local/lib/python3.6/dist-packages/ipygee/maptools.py\u001b[0m in \u001b[0;36mdefault_bands\u001b[0;34m(image)\u001b[0m\n\u001b[1;32m    157\u001b[0m     \u001b[0;31m# BANDS #############\u001b[0m\u001b[0;34m\u001b[0m\u001b[0;34m\u001b[0m\u001b[0;34m\u001b[0m\u001b[0m\n\u001b[1;32m    158\u001b[0m     \u001b[0;32mdef\u001b[0m \u001b[0mdefault_bands\u001b[0m\u001b[0;34m(\u001b[0m\u001b[0mimage\u001b[0m\u001b[0;34m)\u001b[0m\u001b[0;34m:\u001b[0m\u001b[0;34m\u001b[0m\u001b[0;34m\u001b[0m\u001b[0m\n\u001b[0;32m--> 159\u001b[0;31m         \u001b[0mbandnames\u001b[0m \u001b[0;34m=\u001b[0m \u001b[0mimage\u001b[0m\u001b[0;34m.\u001b[0m\u001b[0mbandNames\u001b[0m\u001b[0;34m(\u001b[0m\u001b[0;34m)\u001b[0m\u001b[0;34m.\u001b[0m\u001b[0mgetInfo\u001b[0m\u001b[0;34m(\u001b[0m\u001b[0;34m)\u001b[0m\u001b[0;34m\u001b[0m\u001b[0;34m\u001b[0m\u001b[0m\n\u001b[0m\u001b[1;32m    160\u001b[0m         \u001b[0;32mif\u001b[0m \u001b[0mlen\u001b[0m\u001b[0;34m(\u001b[0m\u001b[0mbandnames\u001b[0m\u001b[0;34m)\u001b[0m \u001b[0;34m<\u001b[0m \u001b[0;36m3\u001b[0m\u001b[0;34m:\u001b[0m\u001b[0;34m\u001b[0m\u001b[0;34m\u001b[0m\u001b[0m\n\u001b[1;32m    161\u001b[0m             \u001b[0mbands\u001b[0m \u001b[0;34m=\u001b[0m \u001b[0;34m[\u001b[0m\u001b[0mbandnames\u001b[0m\u001b[0;34m[\u001b[0m\u001b[0;36m0\u001b[0m\u001b[0;34m]\u001b[0m\u001b[0;34m]\u001b[0m\u001b[0;34m\u001b[0m\u001b[0;34m\u001b[0m\u001b[0m\n",
            "\u001b[0;32m/usr/local/lib/python3.6/dist-packages/ee/computedobject.py\u001b[0m in \u001b[0;36mgetInfo\u001b[0;34m(self)\u001b[0m\n\u001b[1;32m     93\u001b[0m       \u001b[0mThe\u001b[0m \u001b[0mobject\u001b[0m \u001b[0mcan\u001b[0m \u001b[0mevaluate\u001b[0m \u001b[0mto\u001b[0m \u001b[0manything\u001b[0m\u001b[0;34m.\u001b[0m\u001b[0;34m\u001b[0m\u001b[0;34m\u001b[0m\u001b[0m\n\u001b[1;32m     94\u001b[0m     \"\"\"\n\u001b[0;32m---> 95\u001b[0;31m     \u001b[0;32mreturn\u001b[0m \u001b[0mdata\u001b[0m\u001b[0;34m.\u001b[0m\u001b[0mcomputeValue\u001b[0m\u001b[0;34m(\u001b[0m\u001b[0mself\u001b[0m\u001b[0;34m)\u001b[0m\u001b[0;34m\u001b[0m\u001b[0;34m\u001b[0m\u001b[0m\n\u001b[0m\u001b[1;32m     96\u001b[0m \u001b[0;34m\u001b[0m\u001b[0m\n\u001b[1;32m     97\u001b[0m   \u001b[0;32mdef\u001b[0m \u001b[0mencode\u001b[0m\u001b[0;34m(\u001b[0m\u001b[0mself\u001b[0m\u001b[0;34m,\u001b[0m \u001b[0mencoder\u001b[0m\u001b[0;34m)\u001b[0m\u001b[0;34m:\u001b[0m\u001b[0;34m\u001b[0m\u001b[0;34m\u001b[0m\u001b[0m\n",
            "\u001b[0;32m/usr/local/lib/python3.6/dist-packages/ee/data.py\u001b[0m in \u001b[0;36mcomputeValue\u001b[0;34m(obj)\u001b[0m\n\u001b[1;32m    715\u001b[0m         \u001b[0mbody\u001b[0m\u001b[0;34m=\u001b[0m\u001b[0;34m{\u001b[0m\u001b[0;34m'expression'\u001b[0m\u001b[0;34m:\u001b[0m \u001b[0mserializer\u001b[0m\u001b[0;34m.\u001b[0m\u001b[0mencode\u001b[0m\u001b[0;34m(\u001b[0m\u001b[0mobj\u001b[0m\u001b[0;34m,\u001b[0m \u001b[0mfor_cloud_api\u001b[0m\u001b[0;34m=\u001b[0m\u001b[0;32mTrue\u001b[0m\u001b[0;34m)\u001b[0m\u001b[0;34m}\u001b[0m\u001b[0;34m,\u001b[0m\u001b[0;34m\u001b[0m\u001b[0;34m\u001b[0m\u001b[0m\n\u001b[1;32m    716\u001b[0m         \u001b[0mproject\u001b[0m\u001b[0;34m=\u001b[0m\u001b[0m_get_projects_path\u001b[0m\u001b[0;34m(\u001b[0m\u001b[0;34m)\u001b[0m\u001b[0;34m,\u001b[0m\u001b[0;34m\u001b[0m\u001b[0;34m\u001b[0m\u001b[0m\n\u001b[0;32m--> 717\u001b[0;31m         prettyPrint=False))['result']\n\u001b[0m\u001b[1;32m    718\u001b[0m   \u001b[0;32mreturn\u001b[0m \u001b[0msend_\u001b[0m\u001b[0;34m(\u001b[0m\u001b[0;34m'/value'\u001b[0m\u001b[0;34m,\u001b[0m \u001b[0;34m(\u001b[0m\u001b[0;34m{\u001b[0m\u001b[0;34m'json'\u001b[0m\u001b[0;34m:\u001b[0m \u001b[0mobj\u001b[0m\u001b[0;34m.\u001b[0m\u001b[0mserialize\u001b[0m\u001b[0;34m(\u001b[0m\u001b[0;34m)\u001b[0m\u001b[0;34m,\u001b[0m \u001b[0;34m'json_format'\u001b[0m\u001b[0;34m:\u001b[0m \u001b[0;34m'v2'\u001b[0m\u001b[0;34m}\u001b[0m\u001b[0;34m)\u001b[0m\u001b[0;34m)\u001b[0m\u001b[0;34m\u001b[0m\u001b[0;34m\u001b[0m\u001b[0m\n\u001b[1;32m    719\u001b[0m \u001b[0;34m\u001b[0m\u001b[0m\n",
            "\u001b[0;32m/usr/local/lib/python3.6/dist-packages/ee/data.py\u001b[0m in \u001b[0;36m_execute_cloud_call\u001b[0;34m(call, num_retries)\u001b[0m\n\u001b[1;32m    338\u001b[0m     \u001b[0;32mreturn\u001b[0m \u001b[0mcall\u001b[0m\u001b[0;34m.\u001b[0m\u001b[0mexecute\u001b[0m\u001b[0;34m(\u001b[0m\u001b[0mnum_retries\u001b[0m\u001b[0;34m=\u001b[0m\u001b[0mnum_retries\u001b[0m\u001b[0;34m)\u001b[0m\u001b[0;34m\u001b[0m\u001b[0;34m\u001b[0m\u001b[0m\n\u001b[1;32m    339\u001b[0m   \u001b[0;32mexcept\u001b[0m \u001b[0mapiclient\u001b[0m\u001b[0;34m.\u001b[0m\u001b[0merrors\u001b[0m\u001b[0;34m.\u001b[0m\u001b[0mHttpError\u001b[0m \u001b[0;32mas\u001b[0m \u001b[0me\u001b[0m\u001b[0;34m:\u001b[0m\u001b[0;34m\u001b[0m\u001b[0;34m\u001b[0m\u001b[0m\n\u001b[0;32m--> 340\u001b[0;31m     \u001b[0;32mraise\u001b[0m \u001b[0m_translate_cloud_exception\u001b[0m\u001b[0;34m(\u001b[0m\u001b[0me\u001b[0m\u001b[0;34m)\u001b[0m\u001b[0;34m\u001b[0m\u001b[0;34m\u001b[0m\u001b[0m\n\u001b[0m\u001b[1;32m    341\u001b[0m \u001b[0;34m\u001b[0m\u001b[0m\n\u001b[1;32m    342\u001b[0m \u001b[0;34m\u001b[0m\u001b[0m\n",
            "\u001b[0;31mEEException\u001b[0m: ImageCollection.qualityMosaic: Error in map(ID=LC08_192023_20160217):\nImage.select: Pattern 'fmask' did not match any bands."
          ]
        }
      ]
    },
    {
      "cell_type": "code",
      "metadata": {
        "id": "Uc-Y_Nvh0WXG",
        "colab_type": "code",
        "colab": {}
      },
      "source": [
        ""
      ],
      "execution_count": 0,
      "outputs": []
    },
    {
      "cell_type": "code",
      "metadata": {
        "id": "tF7mXyVgnPzB",
        "colab_type": "code",
        "outputId": "ecc54fc6-9cfb-4881-da6e-451a7e437816",
        "colab": {
          "base_uri": "https://localhost:8080/",
          "height": 277
        }
      },
      "source": [
        "\n",
        "dem = ee.Image('USGS/SRTMGL1_003')\n",
        "\n",
        "Image(url = clouds.median().updateMask(clouds.median())\n",
        "  .getThumbUrl({'min': 0, 'max': 2000, 'dimensions': 512,\n",
        "             }))"
      ],
      "execution_count": 0,
      "outputs": [
        {
          "output_type": "execute_result",
          "data": {
            "text/html": [
              "<img src=\"https://earthengine.googleapis.com/v1alpha/projects/earthengine-legacy/thumbnails/81de61b4541e17c82120f991f8109259-6bdda4e351f3f919e0fc7b27f3d58e4b:getPixels\"/>"
            ],
            "text/plain": [
              "<IPython.core.display.Image object>"
            ]
          },
          "metadata": {
            "tags": []
          },
          "execution_count": 16
        }
      ]
    },
    {
      "cell_type": "code",
      "metadata": {
        "id": "aDvzO_7oESkj",
        "colab_type": "code",
        "outputId": "1553f696-69fb-4bce-a564-a5d8fd781c5b",
        "colab": {
          "base_uri": "https://localhost:8080/",
          "height": 583
        }
      },
      "source": [
        "import google\n",
        "\n",
        "ndviParams = {min: -1, max: 1}\n",
        "my_map = folium.Map(location = [52,5],height=500,zoom_start  = 3)\n",
        "my_map.add_ee_layer(im.updateMask(im), ndviParams, 'DEM')\n",
        "\n",
        "# Add a layer control panel to the map.\n",
        "my_map.add_child(folium.LayerControl())\n",
        "\n",
        "# Display the map.\n",
        "display(my_map)"
      ],
      "execution_count": 0,
      "outputs": [
        {
          "output_type": "display_data",
          "data": {
            "text/html": [
              "<div style=\"width:100%;\"><div style=\"position:relative;width:100%;height:0;padding-bottom:60%;\"><iframe src=\"about:blank\" style=\"position:absolute;width:100%;height:100%;left:0;top:0;border:none !important;\" data-html=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 onload=\"this.contentDocument.open();this.contentDocument.write(atob(this.getAttribute('data-html')));this.contentDocument.close();\" allowfullscreen webkitallowfullscreen mozallowfullscreen></iframe></div></div>"
            ],
            "text/plain": [
              "<folium.folium.Map at 0x7f9fdc3a9b38>"
            ]
          },
          "metadata": {
            "tags": []
          }
        }
      ]
    },
    {
      "cell_type": "code",
      "metadata": {
        "id": "nZWMqBzwxfpk",
        "colab_type": "code",
        "colab": {}
      },
      "source": [
        "folium.Map.add_ee_layer()"
      ],
      "execution_count": 0,
      "outputs": []
    },
    {
      "cell_type": "code",
      "metadata": {
        "id": "nVKYNCJnxuYh",
        "colab_type": "code",
        "outputId": "c8989f9b-3c53-4d49-9b2d-1f7381723d36",
        "colab": {
          "base_uri": "https://localhost:8080/",
          "height": 51
        }
      },
      "source": [
        "pip install paver"
      ],
      "execution_count": 0,
      "outputs": [
        {
          "output_type": "stream",
          "text": [
            "Requirement already satisfied: paver in /usr/local/lib/python3.6/dist-packages (1.3.4)\n",
            "Requirement already satisfied: six in /usr/local/lib/python3.6/dist-packages (from paver) (1.12.0)\n"
          ],
          "name": "stdout"
        }
      ]
    },
    {
      "cell_type": "code",
      "metadata": {
        "id": "MaNHZ3Ffs2D4",
        "colab_type": "code",
        "outputId": "ebf4b90d-0c54-483f-d0f7-d46ad0eb193a",
        "colab": {
          "base_uri": "https://localhost:8080/",
          "height": 34
        }
      },
      "source": [
        "!paver.tasks.help\n"
      ],
      "execution_count": 0,
      "outputs": [
        {
          "output_type": "stream",
          "text": [
            "/bin/bash: paver.tasks.help: command not found\n"
          ],
          "name": "stdout"
        }
      ]
    },
    {
      "cell_type": "markdown",
      "metadata": {
        "id": "ut2K_AY2hPRS",
        "colab_type": "text"
      },
      "source": [
        ""
      ]
    },
    {
      "cell_type": "code",
      "metadata": {
        "id": "lPmdxIOoIrMI",
        "colab_type": "code",
        "colab": {}
      },
      "source": [
        "image_list = clouds.toList(clouds.size())"
      ],
      "execution_count": 0,
      "outputs": []
    },
    {
      "cell_type": "code",
      "metadata": {
        "id": "IN31I6bNRM1y",
        "colab_type": "code",
        "outputId": "230bb1be-4502-4abf-8266-886dc73a14a7",
        "colab": {
          "base_uri": "https://localhost:8080/",
          "height": 1000
        }
      },
      "source": [
        "print(cord.get(a1))"
      ],
      "execution_count": 0,
      "outputs": [
        {
          "output_type": "stream",
          "text": [
            "ee.ComputedObject({\n",
            "  \"type\": \"Invocation\",\n",
            "  \"arguments\": {\n",
            "    \"object\": {\n",
            "      \"type\": \"Invocation\",\n",
            "      \"arguments\": {\n",
            "        \"features\": [\n",
            "          {\n",
            "            \"type\": \"Invocation\",\n",
            "            \"arguments\": {\n",
            "              \"geometry\": {\n",
            "                \"type\": \"Point\",\n",
            "                \"coordinates\": [\n",
            "                  13.8463669499,\n",
            "                  52.9008472902\n",
            "                ]\n",
            "              },\n",
            "              \"metadata\": {\n",
            "                \"type\": \"Dictionary\",\n",
            "                \"value\": {\n",
            "                  \"label\": \"a1\"\n",
            "                }\n",
            "              }\n",
            "            },\n",
            "            \"functionName\": \"Feature\"\n",
            "          },\n",
            "          {\n",
            "            \"type\": \"Invocation\",\n",
            "            \"arguments\": {\n",
            "              \"geometry\": {\n",
            "                \"type\": \"Point\",\n",
            "                \"coordinates\": [\n",
            "                  13.778028117,\n",
            "                  52.951728864\n",
            "                ]\n",
            "              },\n",
            "              \"metadata\": {\n",
            "                \"type\": \"Dictionary\",\n",
            "                \"value\": {\n",
            "                  \"label \": \"a2\"\n",
            "                }\n",
            "              }\n",
            "            },\n",
            "            \"functionName\": \"Feature\"\n",
            "          }\n",
            "        ]\n",
            "      },\n",
            "      \"functionName\": \"Collection\"\n",
            "    },\n",
            "    \"property\": {\n",
            "      \"type\": \"Invocation\",\n",
            "      \"arguments\": {\n",
            "        \"geometry\": {\n",
            "          \"type\": \"Point\",\n",
            "          \"coordinates\": [\n",
            "            13.8463669499,\n",
            "            52.9008472902\n",
            "          ]\n",
            "        },\n",
            "        \"metadata\": {\n",
            "          \"type\": \"Dictionary\",\n",
            "          \"value\": {\n",
            "            \"label\": \"a1\"\n",
            "          }\n",
            "        }\n",
            "      },\n",
            "      \"functionName\": \"Feature\"\n",
            "    }\n",
            "  },\n",
            "  \"functionName\": \"Element.get\"\n",
            "})\n"
          ],
          "name": "stdout"
        }
      ]
    },
    {
      "cell_type": "markdown",
      "metadata": {
        "id": "_FrJBMouZwC5",
        "colab_type": "text"
      },
      "source": [
        ""
      ]
    },
    {
      "cell_type": "code",
      "metadata": {
        "id": "NkVnaE0RhmAz",
        "colab_type": "code",
        "outputId": "e25ecb77-12b7-4149-99b2-e9cb0b66204f",
        "colab": {
          "base_uri": "https://localhost:8080/",
          "height": 68
        }
      },
      "source": [
        "while out.active():\n",
        "  print('Polling for task (id: {}).'.format(out.id))\n",
        "  time.sleep(5)"
      ],
      "execution_count": 0,
      "outputs": [
        {
          "output_type": "stream",
          "text": [
            "Polling for task (id: WUYX4K6V5GVUBGR43R4KNH2V).\n",
            "Polling for task (id: WUYX4K6V5GVUBGR43R4KNH2V).\n",
            "Polling for task (id: WUYX4K6V5GVUBGR43R4KNH2V).\n"
          ],
          "name": "stdout"
        }
      ]
    },
    {
      "cell_type": "code",
      "metadata": {
        "id": "jtuH0ibHaUkT",
        "colab_type": "code",
        "colab": {}
      },
      "source": [
        "out.start()"
      ],
      "execution_count": 0,
      "outputs": []
    },
    {
      "cell_type": "code",
      "metadata": {
        "id": "oKnCeTLe59_F",
        "colab_type": "code",
        "colab": {}
      },
      "source": [
        "geometry = ee.Geometry.Rectangle([116.2621, 39.8412, 116.4849, 40.01236])"
      ],
      "execution_count": 0,
      "outputs": []
    },
    {
      "cell_type": "code",
      "metadata": {
        "id": "cP3gfZu37LrV",
        "colab_type": "code",
        "colab": {}
      },
      "source": [
        "out  = ee.batch.Export.image.toDrive(clouds,folder = 'aa')"
      ],
      "execution_count": 0,
      "outputs": []
    },
    {
      "cell_type": "code",
      "metadata": {
        "id": "o3c7AcmEe6-g",
        "colab_type": "code",
        "colab": {}
      },
      "source": [
        "out = ee.batch.Export.image.toDrive(image = band_image,folder = 'aa',maxPixels=3784216672400,region=roi)"
      ],
      "execution_count": 0,
      "outputs": []
    },
    {
      "cell_type": "code",
      "metadata": {
        "id": "Ya-Z1bE0e8e2",
        "colab_type": "code",
        "outputId": "5d516028-18f5-44de-b812-8b325b39749e",
        "colab": {
          "base_uri": "https://localhost:8080/",
          "height": 190
        }
      },
      "source": [
        "out.status()"
      ],
      "execution_count": 0,
      "outputs": [
        {
          "output_type": "execute_result",
          "data": {
            "text/plain": [
              "{'creation_timestamp_ms': 1584543777937,\n",
              " 'description': 'myExportImageTask',\n",
              " 'destination_uris': ['https://drive.google.com/#folders/1gIa7nL2cHDdVM4jZeM0vcrHhrNCVSMUF'],\n",
              " 'id': 'EV2NC43UHOCKMJ7U42HTCKQA',\n",
              " 'name': 'projects/earthengine-legacy/operations/EV2NC43UHOCKMJ7U42HTCKQA',\n",
              " 'start_timestamp_ms': 1584543787901,\n",
              " 'state': 'COMPLETED',\n",
              " 'task_type': 'EXPORT_IMAGE',\n",
              " 'update_timestamp_ms': 1584544379693}"
            ]
          },
          "metadata": {
            "tags": []
          },
          "execution_count": 340
        }
      ]
    },
    {
      "cell_type": "code",
      "metadata": {
        "id": "tXc0gZ-20CZZ",
        "colab_type": "code",
        "colab": {}
      },
      "source": [
        "im = clouds.first()"
      ],
      "execution_count": 0,
      "outputs": []
    },
    {
      "cell_type": "code",
      "metadata": {
        "id": "PPYSqbDI-810",
        "colab_type": "code",
        "colab": {}
      },
      "source": [
        "roi=ee.Feature(clouds.first()).geometry().bounds().getInfo()['coordinates']"
      ],
      "execution_count": 0,
      "outputs": []
    },
    {
      "cell_type": "code",
      "metadata": {
        "id": "GlwCnW-V_Quq",
        "colab_type": "code",
        "outputId": "5ff2e377-74ee-4e35-ff05-1ac177a42a3e",
        "colab": {
          "base_uri": "https://localhost:8080/",
          "height": 104
        }
      },
      "source": [
        "roi"
      ],
      "execution_count": 0,
      "outputs": [
        {
          "output_type": "execute_result",
          "data": {
            "text/plain": [
              "[[[13.296061712688171, 52.01734592815415],\n",
              "  [16.789039403250097, 52.01734592815415],\n",
              "  [16.789039403250097, 54.17227239140574],\n",
              "  [13.296061712688171, 54.17227239140574],\n",
              "  [13.296061712688171, 52.01734592815415]]]"
            ]
          },
          "metadata": {
            "tags": []
          },
          "execution_count": 26
        }
      ]
    },
    {
      "cell_type": "code",
      "metadata": {
        "id": "lnCeiJvGjFpM",
        "colab_type": "code",
        "colab": {}
      },
      "source": [
        "im  =  clouds.first()"
      ],
      "execution_count": 0,
      "outputs": []
    },
    {
      "cell_type": "code",
      "metadata": {
        "id": "Q2TcArxqEvol",
        "colab_type": "code",
        "colab": {}
      },
      "source": [
        "n = im.normalizedDifference(['B4','B5'])\n",
        "band_image = im.add(n)"
      ],
      "execution_count": 0,
      "outputs": []
    },
    {
      "cell_type": "code",
      "metadata": {
        "id": "rLvc7tBME3yW",
        "colab_type": "code",
        "outputId": "914022b4-d28f-42f5-b96b-9f68714c7d0b",
        "colab": {
          "base_uri": "https://localhost:8080/",
          "height": 34
        }
      },
      "source": [
        "display(band_image)"
      ],
      "execution_count": 0,
      "outputs": [
        {
          "output_type": "display_data",
          "data": {
            "text/plain": [
              "<ee.image.Image at 0x7fd26a0034a8>"
            ]
          },
          "metadata": {
            "tags": []
          }
        }
      ]
    },
    {
      "cell_type": "code",
      "metadata": {
        "id": "WDFj9ex3HSIM",
        "colab_type": "code",
        "colab": {}
      },
      "source": [
        "Image(,format='jpg')"
      ],
      "execution_count": 0,
      "outputs": []
    },
    {
      "cell_type": "code",
      "metadata": {
        "id": "CuEI2q3vHeqX",
        "colab_type": "code",
        "outputId": "bae7decd-13e5-4228-a706-a130c69fba58",
        "colab": {
          "base_uri": "https://localhost:8080/",
          "height": 34
        }
      },
      "source": [
        "NDVI(im)"
      ],
      "execution_count": 0,
      "outputs": [
        {
          "output_type": "execute_result",
          "data": {
            "text/plain": [
              "<ee.image.Image at 0x7fd26a0037f0>"
            ]
          },
          "metadata": {
            "tags": []
          },
          "execution_count": 38
        }
      ]
    },
    {
      "cell_type": "code",
      "metadata": {
        "id": "tWcuFojCIHBI",
        "colab_type": "code",
        "colab": {}
      },
      "source": [
        "import ee.mapclient"
      ],
      "execution_count": 0,
      "outputs": []
    },
    {
      "cell_type": "code",
      "metadata": {
        "id": "dC5LLN7u8YJ6",
        "colab_type": "code",
        "colab": {}
      },
      "source": [
        "map = ee.mapclient.centerMap(52,5,6)"
      ],
      "execution_count": 0,
      "outputs": []
    },
    {
      "cell_type": "code",
      "metadata": {
        "id": "zbQmEj-pAC0c",
        "colab_type": "code",
        "colab": {}
      },
      "source": [
        "imgndvi = clouds.first().normalizedDifference(['B5', 'B4']).rename('NDVI')"
      ],
      "execution_count": 0,
      "outputs": []
    },
    {
      "cell_type": "code",
      "metadata": {
        "id": "eEHj0oOtBgaK",
        "colab_type": "code",
        "colab": {}
      },
      "source": [
        "ndviParams = {min: -1, max: 1, 'palette': ['blue', 'white', 'green']};\n",
        "Map.addLayer(imgndvi, ndviParams);"
      ],
      "execution_count": 0,
      "outputs": []
    },
    {
      "cell_type": "code",
      "metadata": {
        "id": "Jwg2rV-rCLrN",
        "colab_type": "code",
        "outputId": "a9f6ddd9-f9aa-49ec-e2c3-55cda71489cf",
        "colab": {
          "base_uri": "https://localhost:8080/",
          "height": 163
        }
      },
      "source": [
        "dislay(map)"
      ],
      "execution_count": 0,
      "outputs": [
        {
          "output_type": "error",
          "ename": "NameError",
          "evalue": "ignored",
          "traceback": [
            "\u001b[0;31m---------------------------------------------------------------------------\u001b[0m",
            "\u001b[0;31mNameError\u001b[0m                                 Traceback (most recent call last)",
            "\u001b[0;32m<ipython-input-28-77caa8b9aa54>\u001b[0m in \u001b[0;36m<module>\u001b[0;34m()\u001b[0m\n\u001b[0;32m----> 1\u001b[0;31m \u001b[0mdislay\u001b[0m\u001b[0;34m(\u001b[0m\u001b[0mmap\u001b[0m\u001b[0;34m)\u001b[0m\u001b[0;34m\u001b[0m\u001b[0;34m\u001b[0m\u001b[0m\n\u001b[0m",
            "\u001b[0;31mNameError\u001b[0m: name 'dislay' is not defined"
          ]
        }
      ]
    },
    {
      "cell_type": "code",
      "metadata": {
        "id": "UinVrb2SIC2v",
        "colab_type": "code",
        "colab": {}
      },
      "source": [
        "Map = Map()"
      ],
      "execution_count": 0,
      "outputs": []
    },
    {
      "cell_type": "code",
      "metadata": {
        "id": "lgc91VZsnCk-",
        "colab_type": "code",
        "outputId": "adb060ba-b43a-453f-d55b-5ef2034bb4c4",
        "colab": {
          "base_uri": "https://localhost:8080/",
          "height": 486
        }
      },
      "source": [
        "!pip install geetools"
      ],
      "execution_count": 0,
      "outputs": [
        {
          "output_type": "stream",
          "text": [
            "Collecting geetools\n",
            "\u001b[?25l  Downloading https://files.pythonhosted.org/packages/9e/01/5fa97297cd790820539e56958d364385b882f7be19986f3a4bb7f9be43e5/geetools-0.4.15.tar.gz (76kB)\n",
            "\u001b[K     |████████████████████████████████| 81kB 2.6MB/s \n",
            "\u001b[?25hRequirement already satisfied: requests in /usr/local/lib/python3.6/dist-packages (from geetools) (2.21.0)\n",
            "Requirement already satisfied: Pillow in /usr/local/lib/python3.6/dist-packages (from geetools) (7.0.0)\n",
            "Collecting pyshp\n",
            "\u001b[?25l  Downloading https://files.pythonhosted.org/packages/27/16/3bf15aa864fb77845fab8007eda22c2bd67bd6c1fd13496df452c8c43621/pyshp-2.1.0.tar.gz (215kB)\n",
            "\u001b[K     |████████████████████████████████| 225kB 8.4MB/s \n",
            "\u001b[?25hRequirement already satisfied: pandas in /usr/local/lib/python3.6/dist-packages (from geetools) (0.25.3)\n",
            "Requirement already satisfied: urllib3<1.25,>=1.21.1 in /usr/local/lib/python3.6/dist-packages (from requests->geetools) (1.24.3)\n",
            "Requirement already satisfied: idna<2.9,>=2.5 in /usr/local/lib/python3.6/dist-packages (from requests->geetools) (2.8)\n",
            "Requirement already satisfied: chardet<3.1.0,>=3.0.2 in /usr/local/lib/python3.6/dist-packages (from requests->geetools) (3.0.4)\n",
            "Requirement already satisfied: certifi>=2017.4.17 in /usr/local/lib/python3.6/dist-packages (from requests->geetools) (2019.11.28)\n",
            "Requirement already satisfied: pytz>=2017.2 in /usr/local/lib/python3.6/dist-packages (from pandas->geetools) (2018.9)\n",
            "Requirement already satisfied: python-dateutil>=2.6.1 in /usr/local/lib/python3.6/dist-packages (from pandas->geetools) (2.8.1)\n",
            "Requirement already satisfied: numpy>=1.13.3 in /usr/local/lib/python3.6/dist-packages (from pandas->geetools) (1.18.2)\n",
            "Requirement already satisfied: six>=1.5 in /usr/local/lib/python3.6/dist-packages (from python-dateutil>=2.6.1->pandas->geetools) (1.12.0)\n",
            "Building wheels for collected packages: geetools, pyshp\n",
            "  Building wheel for geetools (setup.py) ... \u001b[?25l\u001b[?25hdone\n",
            "  Created wheel for geetools: filename=geetools-0.4.15-cp36-none-any.whl size=98234 sha256=7228c50bd98c416085f55fb3596a13f18e9ccc2f58ee8a577adaba1145196c12\n",
            "  Stored in directory: /root/.cache/pip/wheels/a9/29/4b/8b23d7a814fd5b03acab81a0a721c4dc0d782fed28760b636a\n",
            "  Building wheel for pyshp (setup.py) ... \u001b[?25l\u001b[?25hdone\n",
            "  Created wheel for pyshp: filename=pyshp-2.1.0-cp36-none-any.whl size=32609 sha256=18a99afa9aea78874dda4f655cc2cf7028a4989ebe02403d6031f1e6d1e31372\n",
            "  Stored in directory: /root/.cache/pip/wheels/a6/0c/de/321b5192ad416b328975a2f0385f72c64db4656501eba7cc1a\n",
            "Successfully built geetools pyshp\n",
            "Installing collected packages: pyshp, geetools\n",
            "Successfully installed geetools-0.4.15 pyshp-2.1.0\n"
          ],
          "name": "stdout"
        }
      ]
    },
    {
      "cell_type": "code",
      "metadata": {
        "id": "vIUFRCw8nEam",
        "colab_type": "code",
        "outputId": "4dcf5037-55f0-4c1a-f5c6-5470dfd4c372",
        "colab": {
          "base_uri": "https://localhost:8080/",
          "height": 243
        }
      },
      "source": [
        "pip install --upgrade geetools\n"
      ],
      "execution_count": 0,
      "outputs": [
        {
          "output_type": "stream",
          "text": [
            "Requirement already up-to-date: geetools in /usr/local/lib/python3.6/dist-packages (0.4.15)\n",
            "Requirement already satisfied, skipping upgrade: requests in /usr/local/lib/python3.6/dist-packages (from geetools) (2.21.0)\n",
            "Requirement already satisfied, skipping upgrade: pyshp in /usr/local/lib/python3.6/dist-packages (from geetools) (2.1.0)\n",
            "Requirement already satisfied, skipping upgrade: pandas in /usr/local/lib/python3.6/dist-packages (from geetools) (0.25.3)\n",
            "Requirement already satisfied, skipping upgrade: Pillow in /usr/local/lib/python3.6/dist-packages (from geetools) (7.0.0)\n",
            "Requirement already satisfied, skipping upgrade: chardet<3.1.0,>=3.0.2 in /usr/local/lib/python3.6/dist-packages (from requests->geetools) (3.0.4)\n",
            "Requirement already satisfied, skipping upgrade: idna<2.9,>=2.5 in /usr/local/lib/python3.6/dist-packages (from requests->geetools) (2.8)\n",
            "Requirement already satisfied, skipping upgrade: urllib3<1.25,>=1.21.1 in /usr/local/lib/python3.6/dist-packages (from requests->geetools) (1.24.3)\n",
            "Requirement already satisfied, skipping upgrade: certifi>=2017.4.17 in /usr/local/lib/python3.6/dist-packages (from requests->geetools) (2019.11.28)\n",
            "Requirement already satisfied, skipping upgrade: numpy>=1.13.3 in /usr/local/lib/python3.6/dist-packages (from pandas->geetools) (1.18.2)\n",
            "Requirement already satisfied, skipping upgrade: python-dateutil>=2.6.1 in /usr/local/lib/python3.6/dist-packages (from pandas->geetools) (2.8.1)\n",
            "Requirement already satisfied, skipping upgrade: pytz>=2017.2 in /usr/local/lib/python3.6/dist-packages (from pandas->geetools) (2018.9)\n",
            "Requirement already satisfied, skipping upgrade: six>=1.5 in /usr/local/lib/python3.6/dist-packages (from python-dateutil>=2.6.1->pandas->geetools) (1.12.0)\n"
          ],
          "name": "stdout"
        }
      ]
    },
    {
      "cell_type": "code",
      "metadata": {
        "id": "8veuDrfVnWPg",
        "colab_type": "code",
        "colab": {}
      },
      "source": [
        "from geetools import *"
      ],
      "execution_count": 0,
      "outputs": []
    },
    {
      "cell_type": "code",
      "metadata": {
        "id": "12tYbm_OncE6",
        "colab_type": "code",
        "colab": {}
      },
      "source": [
        "import geetoolvar myFeatures = ee.FeatureCollection(valuesList.map(function(el){\n",
        "el = ee.List(el) // cast every element of the list\n",
        "var geom = ee.Geometry.Point([ee.Number(el.get(0)), \n",
        "ee.Number(el.get(1))])\n",
        "return ee.Feature(geom, {'NDVI':ee.Number(el.get(2)), \n",
        "'SummaryQA':ee.Number(el.get(3))})\n",
        "\n",
        "}))\n"
      ],
      "execution_count": 0,
      "outputs": []
    },
    {
      "cell_type": "code",
      "metadata": {
        "id": "x0p41Uuvnm9I",
        "colab_type": "code",
        "outputId": "f1e7012b-d094-4992-bf45-dab81f660270",
        "colab": {
          "base_uri": "https://localhost:8080/",
          "height": 402
        }
      },
      "source": [
        "allBandMosaic = ee.ImageCollection('LANDSAT/LC08/C01/T1_TOA').filterDate('2016-03-01', '2016-11-30').select('B[0-7]').median();\n",
        "\n",
        "#Var geometry = ee.Geometry.Rectangle([77, 17, 135, 56]);\n",
        "\n",
        "#// Use the normalizedDifference(A, B) to compute (A - B) / (A + B)\n",
        "ndvi = allBandMosaic.normalizedDifference(['B5', 'B4']);\n",
        "\n",
        "palette = ['FFFFFF', 'CE7E45', 'DF923D', 'F1B555', 'FCD163', '99B718',\n",
        "               '74A901', '66A000', '529400', '3E8601', '207401', '056201',\n",
        "               '004C00', '023B01', '012E01', '011D01', '011301'];\n",
        "\n",
        "\n",
        "#// Center the map\n",
        "#Map.setCenter(103.16, 34.82, 8);\n",
        "\n",
        "#// Display the input image and the NDVI derived from it.\n",
        "#Map.addLayer(ndvi, {min: 0, max: 1, palette: palette}, 'NDVI');\n",
        "\n",
        "#// Export the image, specifying scale and region.\n",
        "#//Export.image.toDrive({\n",
        "#//  image: ndvi,\n",
        "#//  description: 'ndviToDriveExample',\n",
        "#//  scale: 30,\n",
        "#//  region: geometry\n",
        "#//});\n",
        "fc = ee.FeatureCollection('users/qiangsun/shengjie').filter(ee.Filter.stringContains('ENAME', 'Gansu'));\n",
        "#Map.addLayer(fc,{color:'FF0000'},'shenjie');\n",
        "\n",
        "means = ndvi.reduceRegions({\n",
        "  'collection': fc,\n",
        "  'reducer': ee.Reducer.mean(),\n",
        "  'scale': 30,\n",
        "});\n",
        "means = means.get('ndvi')\n",
        "print('gansu',means);"
      ],
      "execution_count": 0,
      "outputs": [
        {
          "output_type": "error",
          "ename": "EEException",
          "evalue": "ignored",
          "traceback": [
            "\u001b[0;31m---------------------------------------------------------------------------\u001b[0m",
            "\u001b[0;31mEEException\u001b[0m                               Traceback (most recent call last)",
            "\u001b[0;32m<ipython-input-33-b8046dc3d50d>\u001b[0m in \u001b[0;36m<module>\u001b[0;34m()\u001b[0m\n\u001b[1;32m     30\u001b[0m   \u001b[0;34m'collection'\u001b[0m\u001b[0;34m:\u001b[0m \u001b[0mfc\u001b[0m\u001b[0;34m,\u001b[0m\u001b[0;34m\u001b[0m\u001b[0;34m\u001b[0m\u001b[0m\n\u001b[1;32m     31\u001b[0m   \u001b[0;34m'reducer'\u001b[0m\u001b[0;34m:\u001b[0m \u001b[0mee\u001b[0m\u001b[0;34m.\u001b[0m\u001b[0mReducer\u001b[0m\u001b[0;34m.\u001b[0m\u001b[0mmean\u001b[0m\u001b[0;34m(\u001b[0m\u001b[0;34m)\u001b[0m\u001b[0;34m,\u001b[0m\u001b[0;34m\u001b[0m\u001b[0;34m\u001b[0m\u001b[0m\n\u001b[0;32m---> 32\u001b[0;31m   \u001b[0;34m'scale'\u001b[0m\u001b[0;34m:\u001b[0m \u001b[0;36m30\u001b[0m\u001b[0;34m,\u001b[0m\u001b[0;34m\u001b[0m\u001b[0;34m\u001b[0m\u001b[0m\n\u001b[0m\u001b[1;32m     33\u001b[0m });\n\u001b[1;32m     34\u001b[0m \u001b[0mmeans\u001b[0m \u001b[0;34m=\u001b[0m \u001b[0mmeans\u001b[0m\u001b[0;34m.\u001b[0m\u001b[0mget\u001b[0m\u001b[0;34m(\u001b[0m\u001b[0;34m'ndvi'\u001b[0m\u001b[0;34m)\u001b[0m\u001b[0;34m\u001b[0m\u001b[0;34m\u001b[0m\u001b[0m\n",
            "\u001b[0;32m/usr/local/lib/python3.6/dist-packages/ee/apifunction.py\u001b[0m in \u001b[0;36m<lambda>\u001b[0;34m(*args, **kwargs)\u001b[0m\n\u001b[1;32m    203\u001b[0m         \u001b[0;32mdef\u001b[0m \u001b[0mMakeBoundFunction\u001b[0m\u001b[0;34m(\u001b[0m\u001b[0mfunc\u001b[0m\u001b[0;34m)\u001b[0m\u001b[0;34m:\u001b[0m\u001b[0;34m\u001b[0m\u001b[0;34m\u001b[0m\u001b[0m\n\u001b[1;32m    204\u001b[0m           \u001b[0;31m# We need the lambda to capture \"func\" from the enclosing scope.\u001b[0m\u001b[0;34m\u001b[0m\u001b[0;34m\u001b[0m\u001b[0;34m\u001b[0m\u001b[0m\n\u001b[0;32m--> 205\u001b[0;31m           \u001b[0;32mreturn\u001b[0m \u001b[0;32mlambda\u001b[0m \u001b[0;34m*\u001b[0m\u001b[0margs\u001b[0m\u001b[0;34m,\u001b[0m \u001b[0;34m**\u001b[0m\u001b[0mkwargs\u001b[0m\u001b[0;34m:\u001b[0m \u001b[0mfunc\u001b[0m\u001b[0;34m.\u001b[0m\u001b[0mcall\u001b[0m\u001b[0;34m(\u001b[0m\u001b[0;34m*\u001b[0m\u001b[0margs\u001b[0m\u001b[0;34m,\u001b[0m \u001b[0;34m**\u001b[0m\u001b[0mkwargs\u001b[0m\u001b[0;34m)\u001b[0m  \u001b[0;31m# pylint: disable=unnecessary-lambda\u001b[0m\u001b[0;34m\u001b[0m\u001b[0;34m\u001b[0m\u001b[0m\n\u001b[0m\u001b[1;32m    206\u001b[0m         \u001b[0mbound_function\u001b[0m \u001b[0;34m=\u001b[0m \u001b[0mMakeBoundFunction\u001b[0m\u001b[0;34m(\u001b[0m\u001b[0mapi_func\u001b[0m\u001b[0;34m)\u001b[0m\u001b[0;34m\u001b[0m\u001b[0;34m\u001b[0m\u001b[0m\n\u001b[1;32m    207\u001b[0m \u001b[0;34m\u001b[0m\u001b[0m\n",
            "\u001b[0;32m/usr/local/lib/python3.6/dist-packages/ee/function.py\u001b[0m in \u001b[0;36mcall\u001b[0;34m(self, *args, **kwargs)\u001b[0m\n\u001b[1;32m     65\u001b[0m       \u001b[0mto\u001b[0m \u001b[0mthat\u001b[0m \u001b[0mtype\u001b[0m\u001b[0;34m.\u001b[0m\u001b[0;34m\u001b[0m\u001b[0;34m\u001b[0m\u001b[0m\n\u001b[1;32m     66\u001b[0m     \"\"\"\n\u001b[0;32m---> 67\u001b[0;31m     \u001b[0;32mreturn\u001b[0m \u001b[0mself\u001b[0m\u001b[0;34m.\u001b[0m\u001b[0mapply\u001b[0m\u001b[0;34m(\u001b[0m\u001b[0mself\u001b[0m\u001b[0;34m.\u001b[0m\u001b[0mnameArgs\u001b[0m\u001b[0;34m(\u001b[0m\u001b[0margs\u001b[0m\u001b[0;34m,\u001b[0m \u001b[0mkwargs\u001b[0m\u001b[0;34m)\u001b[0m\u001b[0;34m)\u001b[0m\u001b[0;34m\u001b[0m\u001b[0;34m\u001b[0m\u001b[0m\n\u001b[0m\u001b[1;32m     68\u001b[0m \u001b[0;34m\u001b[0m\u001b[0m\n\u001b[1;32m     69\u001b[0m   \u001b[0;32mdef\u001b[0m \u001b[0mapply\u001b[0m\u001b[0;34m(\u001b[0m\u001b[0mself\u001b[0m\u001b[0;34m,\u001b[0m \u001b[0mnamed_args\u001b[0m\u001b[0;34m)\u001b[0m\u001b[0;34m:\u001b[0m\u001b[0;34m\u001b[0m\u001b[0;34m\u001b[0m\u001b[0m\n",
            "\u001b[0;32m/usr/local/lib/python3.6/dist-packages/ee/function.py\u001b[0m in \u001b[0;36mapply\u001b[0;34m(self, named_args)\u001b[0m\n\u001b[1;32m     78\u001b[0m       \u001b[0mto\u001b[0m \u001b[0mthat\u001b[0m \u001b[0mtype\u001b[0m\u001b[0;34m.\u001b[0m\u001b[0;34m\u001b[0m\u001b[0;34m\u001b[0m\u001b[0m\n\u001b[1;32m     79\u001b[0m     \"\"\"\n\u001b[0;32m---> 80\u001b[0;31m     \u001b[0mresult\u001b[0m \u001b[0;34m=\u001b[0m \u001b[0mcomputedobject\u001b[0m\u001b[0;34m.\u001b[0m\u001b[0mComputedObject\u001b[0m\u001b[0;34m(\u001b[0m\u001b[0mself\u001b[0m\u001b[0;34m,\u001b[0m \u001b[0mself\u001b[0m\u001b[0;34m.\u001b[0m\u001b[0mpromoteArgs\u001b[0m\u001b[0;34m(\u001b[0m\u001b[0mnamed_args\u001b[0m\u001b[0;34m)\u001b[0m\u001b[0;34m)\u001b[0m\u001b[0;34m\u001b[0m\u001b[0;34m\u001b[0m\u001b[0m\n\u001b[0m\u001b[1;32m     81\u001b[0m     \u001b[0;32mreturn\u001b[0m \u001b[0mFunction\u001b[0m\u001b[0;34m.\u001b[0m\u001b[0m_promoter\u001b[0m\u001b[0;34m(\u001b[0m\u001b[0mresult\u001b[0m\u001b[0;34m,\u001b[0m \u001b[0mself\u001b[0m\u001b[0;34m.\u001b[0m\u001b[0mgetReturnType\u001b[0m\u001b[0;34m(\u001b[0m\u001b[0;34m)\u001b[0m\u001b[0;34m)\u001b[0m\u001b[0;34m\u001b[0m\u001b[0;34m\u001b[0m\u001b[0m\n\u001b[1;32m     82\u001b[0m \u001b[0;34m\u001b[0m\u001b[0m\n",
            "\u001b[0;32m/usr/local/lib/python3.6/dist-packages/ee/function.py\u001b[0m in \u001b[0;36mpromoteArgs\u001b[0;34m(self, args)\u001b[0m\n\u001b[1;32m    105\u001b[0m       \u001b[0mname\u001b[0m \u001b[0;34m=\u001b[0m \u001b[0mspec\u001b[0m\u001b[0;34m[\u001b[0m\u001b[0;34m'name'\u001b[0m\u001b[0;34m]\u001b[0m\u001b[0;34m\u001b[0m\u001b[0;34m\u001b[0m\u001b[0m\n\u001b[1;32m    106\u001b[0m       \u001b[0;32mif\u001b[0m \u001b[0mname\u001b[0m \u001b[0;32min\u001b[0m \u001b[0margs\u001b[0m\u001b[0;34m:\u001b[0m\u001b[0;34m\u001b[0m\u001b[0;34m\u001b[0m\u001b[0m\n\u001b[0;32m--> 107\u001b[0;31m         \u001b[0mpromoted_args\u001b[0m\u001b[0;34m[\u001b[0m\u001b[0mname\u001b[0m\u001b[0;34m]\u001b[0m \u001b[0;34m=\u001b[0m \u001b[0mFunction\u001b[0m\u001b[0;34m.\u001b[0m\u001b[0m_promoter\u001b[0m\u001b[0;34m(\u001b[0m\u001b[0margs\u001b[0m\u001b[0;34m[\u001b[0m\u001b[0mname\u001b[0m\u001b[0;34m]\u001b[0m\u001b[0;34m,\u001b[0m \u001b[0mspec\u001b[0m\u001b[0;34m[\u001b[0m\u001b[0;34m'type'\u001b[0m\u001b[0;34m]\u001b[0m\u001b[0;34m)\u001b[0m\u001b[0;34m\u001b[0m\u001b[0;34m\u001b[0m\u001b[0m\n\u001b[0m\u001b[1;32m    108\u001b[0m       \u001b[0;32melif\u001b[0m \u001b[0;32mnot\u001b[0m \u001b[0mspec\u001b[0m\u001b[0;34m.\u001b[0m\u001b[0mget\u001b[0m\u001b[0;34m(\u001b[0m\u001b[0;34m'optional'\u001b[0m\u001b[0;34m)\u001b[0m\u001b[0;34m:\u001b[0m\u001b[0;34m\u001b[0m\u001b[0;34m\u001b[0m\u001b[0m\n\u001b[1;32m    109\u001b[0m         raise ee_exception.EEException(\n",
            "\u001b[0;32m/usr/local/lib/python3.6/dist-packages/ee/__init__.py\u001b[0m in \u001b[0;36m_Promote\u001b[0;34m(arg, klass)\u001b[0m\n\u001b[1;32m    228\u001b[0m       \u001b[0;32mreturn\u001b[0m \u001b[0marg\u001b[0m\u001b[0;34m\u001b[0m\u001b[0;34m\u001b[0m\u001b[0m\n\u001b[1;32m    229\u001b[0m     \u001b[0;32melse\u001b[0m\u001b[0;34m:\u001b[0m\u001b[0;34m\u001b[0m\u001b[0;34m\u001b[0m\u001b[0m\n\u001b[0;32m--> 230\u001b[0;31m       \u001b[0;32mreturn\u001b[0m \u001b[0mFeatureCollection\u001b[0m\u001b[0;34m(\u001b[0m\u001b[0marg\u001b[0m\u001b[0;34m)\u001b[0m\u001b[0;34m\u001b[0m\u001b[0;34m\u001b[0m\u001b[0m\n\u001b[0m\u001b[1;32m    231\u001b[0m   \u001b[0;32melif\u001b[0m \u001b[0mklass\u001b[0m \u001b[0;34m==\u001b[0m \u001b[0;34m'ImageCollection'\u001b[0m\u001b[0;34m:\u001b[0m\u001b[0;34m\u001b[0m\u001b[0;34m\u001b[0m\u001b[0m\n\u001b[1;32m    232\u001b[0m     \u001b[0;32mreturn\u001b[0m \u001b[0mImageCollection\u001b[0m\u001b[0;34m(\u001b[0m\u001b[0marg\u001b[0m\u001b[0;34m)\u001b[0m\u001b[0;34m\u001b[0m\u001b[0;34m\u001b[0m\u001b[0m\n",
            "\u001b[0;32m/usr/local/lib/python3.6/dist-packages/ee/computedobject.py\u001b[0m in \u001b[0;36m__call__\u001b[0;34m(cls, *args, **kwargs)\u001b[0m\n\u001b[1;32m     30\u001b[0m       \u001b[0;32mreturn\u001b[0m \u001b[0margs\u001b[0m\u001b[0;34m[\u001b[0m\u001b[0;36m0\u001b[0m\u001b[0;34m]\u001b[0m\u001b[0;34m\u001b[0m\u001b[0;34m\u001b[0m\u001b[0m\n\u001b[1;32m     31\u001b[0m     \u001b[0;32melse\u001b[0m\u001b[0;34m:\u001b[0m\u001b[0;34m\u001b[0m\u001b[0;34m\u001b[0m\u001b[0m\n\u001b[0;32m---> 32\u001b[0;31m       \u001b[0;32mreturn\u001b[0m \u001b[0mtype\u001b[0m\u001b[0;34m.\u001b[0m\u001b[0m__call__\u001b[0m\u001b[0;34m(\u001b[0m\u001b[0mcls\u001b[0m\u001b[0;34m,\u001b[0m \u001b[0;34m*\u001b[0m\u001b[0margs\u001b[0m\u001b[0;34m,\u001b[0m \u001b[0;34m**\u001b[0m\u001b[0mkwargs\u001b[0m\u001b[0;34m)\u001b[0m\u001b[0;34m\u001b[0m\u001b[0;34m\u001b[0m\u001b[0m\n\u001b[0m\u001b[1;32m     33\u001b[0m \u001b[0;34m\u001b[0m\u001b[0m\n\u001b[1;32m     34\u001b[0m \u001b[0;34m\u001b[0m\u001b[0m\n",
            "\u001b[0;32m/usr/local/lib/python3.6/dist-packages/ee/featurecollection.py\u001b[0m in \u001b[0;36m__init__\u001b[0;34m(self, args, opt_column)\u001b[0m\n\u001b[1;32m     77\u001b[0m       raise ee_exception.EEException(\n\u001b[1;32m     78\u001b[0m           \u001b[0;34m'Unrecognized argument type to convert to a FeatureCollection: %s'\u001b[0m \u001b[0;34m%\u001b[0m\u001b[0;34m\u001b[0m\u001b[0;34m\u001b[0m\u001b[0m\n\u001b[0;32m---> 79\u001b[0;31m           args)\n\u001b[0m\u001b[1;32m     80\u001b[0m \u001b[0;34m\u001b[0m\u001b[0m\n\u001b[1;32m     81\u001b[0m   \u001b[0;34m@\u001b[0m\u001b[0mclassmethod\u001b[0m\u001b[0;34m\u001b[0m\u001b[0;34m\u001b[0m\u001b[0m\n",
            "\u001b[0;31mEEException\u001b[0m: Unrecognized argument type to convert to a FeatureCollection: {'collection': <ee.featurecollection.FeatureCollection object at 0x7fbfe3ed60b8>, 'reducer': <ee.Reducer object at 0x7fbfe3ed60f0>, 'scale': 30}"
          ]
        }
      ]
    },
    {
      "cell_type": "code",
      "metadata": {
        "id": "lJONSG_EnZTc",
        "colab_type": "code",
        "colab": {}
      },
      "source": [
        "import geetools\n",
        "import folium"
      ],
      "execution_count": 0,
      "outputs": []
    },
    {
      "cell_type": "code",
      "metadata": {
        "id": "LNg2MCnYwZ96",
        "colab_type": "code",
        "colab": {}
      },
      "source": [
        "geetools.Download"
      ],
      "execution_count": 0,
      "outputs": []
    },
    {
      "cell_type": "code",
      "metadata": {
        "id": "6YPnr7Vzwwu2",
        "colab_type": "code",
        "colab": {}
      },
      "source": [
        "var ts = modis.map(function(image){\n",
        "  var date = image.get('system:time_start');\n",
        "  var mean = image.reduceRegion({\n",
        "    reducer: ee.Reducer.mean(),\n",
        "    geometry: watershed,\n",
        "    scale: 250\n",
        "  });\n",
        "  // and return a feature with 'null' geometry with properties (dictionary)  \n",
        "  return ee.Feature(null, {'mean': mean.get('NDVI'),\n",
        "                            'date': date})\n",
        "});"
      ],
      "execution_count": 0,
      "outputs": []
    },
    {
      "cell_type": "code",
      "metadata": {
        "id": "_ZD2bUMUHPvI",
        "colab_type": "code",
        "colab": {}
      },
      "source": [
        "def tab_convert(image):\n",
        "  date = image.get('system:time_start')\n",
        "  mean = image.reduceRegion(reducer = ee.Reducer.mean(),maxPixels = 1e13,geometry = geometry)\n",
        "  return ee.Feature(null, {'mean': mean.get('NDVI2'),\n",
        "                            'date': date})"
      ],
      "execution_count": 0,
      "outputs": []
    },
    {
      "cell_type": "code",
      "metadata": {
        "id": "ANU54znfI7DY",
        "colab_type": "code",
        "outputId": "8d01dc08-70ca-49bb-c763-d68f9fd74c31",
        "colab": {
          "base_uri": "https://localhost:8080/",
          "height": 313
        }
      },
      "source": [
        "ts=clouds.map(tab_convert)"
      ],
      "execution_count": 0,
      "outputs": [
        {
          "output_type": "error",
          "ename": "EEException",
          "evalue": "ignored",
          "traceback": [
            "\u001b[0;31m---------------------------------------------------------------------------\u001b[0m",
            "\u001b[0;31mEEException\u001b[0m                               Traceback (most recent call last)",
            "\u001b[0;32m<ipython-input-36-5d2719b9671d>\u001b[0m in \u001b[0;36m<module>\u001b[0;34m()\u001b[0m\n\u001b[0;32m----> 1\u001b[0;31m \u001b[0mts\u001b[0m\u001b[0;34m=\u001b[0m\u001b[0mclouds\u001b[0m\u001b[0;34m.\u001b[0m\u001b[0mmap\u001b[0m\u001b[0;34m(\u001b[0m\u001b[0mtab_convert\u001b[0m\u001b[0;34m)\u001b[0m\u001b[0;34m\u001b[0m\u001b[0;34m\u001b[0m\u001b[0m\n\u001b[0m",
            "\u001b[0;32m/usr/local/lib/python3.6/dist-packages/ee/collection.py\u001b[0m in \u001b[0;36mmap\u001b[0;34m(self, algorithm, opt_dropNulls)\u001b[0m\n\u001b[1;32m    197\u001b[0m     \u001b[0mwith_cast\u001b[0m \u001b[0;34m=\u001b[0m \u001b[0;32mlambda\u001b[0m \u001b[0me\u001b[0m\u001b[0;34m:\u001b[0m \u001b[0malgorithm\u001b[0m\u001b[0;34m(\u001b[0m\u001b[0melement_type\u001b[0m\u001b[0;34m(\u001b[0m\u001b[0me\u001b[0m\u001b[0;34m)\u001b[0m\u001b[0;34m)\u001b[0m\u001b[0;34m\u001b[0m\u001b[0;34m\u001b[0m\u001b[0m\n\u001b[1;32m    198\u001b[0m     return self._cast(apifunction.ApiFunction.call_(\n\u001b[0;32m--> 199\u001b[0;31m         'Collection.map', self, with_cast, opt_dropNulls))\n\u001b[0m\u001b[1;32m    200\u001b[0m \u001b[0;34m\u001b[0m\u001b[0m\n\u001b[1;32m    201\u001b[0m   \u001b[0;32mdef\u001b[0m \u001b[0miterate\u001b[0m\u001b[0;34m(\u001b[0m\u001b[0mself\u001b[0m\u001b[0;34m,\u001b[0m \u001b[0malgorithm\u001b[0m\u001b[0;34m,\u001b[0m \u001b[0mfirst\u001b[0m\u001b[0;34m=\u001b[0m\u001b[0;32mNone\u001b[0m\u001b[0;34m)\u001b[0m\u001b[0;34m:\u001b[0m\u001b[0;34m\u001b[0m\u001b[0;34m\u001b[0m\u001b[0m\n",
            "\u001b[0;32m/usr/local/lib/python3.6/dist-packages/ee/apifunction.py\u001b[0m in \u001b[0;36mcall_\u001b[0;34m(cls, name, *args, **kwargs)\u001b[0m\n\u001b[1;32m     79\u001b[0m       \u001b[0ma\u001b[0m \u001b[0mrecognized\u001b[0m \u001b[0;32mreturn\u001b[0m \u001b[0mtype\u001b[0m\u001b[0;34m,\u001b[0m \u001b[0mthe\u001b[0m \u001b[0mreturned\u001b[0m \u001b[0mvalue\u001b[0m \u001b[0mwill\u001b[0m \u001b[0mbe\u001b[0m \u001b[0mcast\u001b[0m \u001b[0mto\u001b[0m \u001b[0mthat\u001b[0m \u001b[0mtype\u001b[0m\u001b[0;34m.\u001b[0m\u001b[0;34m\u001b[0m\u001b[0;34m\u001b[0m\u001b[0m\n\u001b[1;32m     80\u001b[0m     \"\"\"\n\u001b[0;32m---> 81\u001b[0;31m     \u001b[0;32mreturn\u001b[0m \u001b[0mcls\u001b[0m\u001b[0;34m.\u001b[0m\u001b[0mlookup\u001b[0m\u001b[0;34m(\u001b[0m\u001b[0mname\u001b[0m\u001b[0;34m)\u001b[0m\u001b[0;34m.\u001b[0m\u001b[0mcall\u001b[0m\u001b[0;34m(\u001b[0m\u001b[0;34m*\u001b[0m\u001b[0margs\u001b[0m\u001b[0;34m,\u001b[0m \u001b[0;34m**\u001b[0m\u001b[0mkwargs\u001b[0m\u001b[0;34m)\u001b[0m\u001b[0;34m\u001b[0m\u001b[0;34m\u001b[0m\u001b[0m\n\u001b[0m\u001b[1;32m     82\u001b[0m \u001b[0;34m\u001b[0m\u001b[0m\n\u001b[1;32m     83\u001b[0m   \u001b[0;34m@\u001b[0m\u001b[0mclassmethod\u001b[0m\u001b[0;34m\u001b[0m\u001b[0;34m\u001b[0m\u001b[0m\n",
            "\u001b[0;32m/usr/local/lib/python3.6/dist-packages/ee/function.py\u001b[0m in \u001b[0;36mcall\u001b[0;34m(self, *args, **kwargs)\u001b[0m\n\u001b[1;32m     65\u001b[0m       \u001b[0mto\u001b[0m \u001b[0mthat\u001b[0m \u001b[0mtype\u001b[0m\u001b[0;34m.\u001b[0m\u001b[0;34m\u001b[0m\u001b[0;34m\u001b[0m\u001b[0m\n\u001b[1;32m     66\u001b[0m     \"\"\"\n\u001b[0;32m---> 67\u001b[0;31m     \u001b[0;32mreturn\u001b[0m \u001b[0mself\u001b[0m\u001b[0;34m.\u001b[0m\u001b[0mapply\u001b[0m\u001b[0;34m(\u001b[0m\u001b[0mself\u001b[0m\u001b[0;34m.\u001b[0m\u001b[0mnameArgs\u001b[0m\u001b[0;34m(\u001b[0m\u001b[0margs\u001b[0m\u001b[0;34m,\u001b[0m \u001b[0mkwargs\u001b[0m\u001b[0;34m)\u001b[0m\u001b[0;34m)\u001b[0m\u001b[0;34m\u001b[0m\u001b[0;34m\u001b[0m\u001b[0m\n\u001b[0m\u001b[1;32m     68\u001b[0m \u001b[0;34m\u001b[0m\u001b[0m\n\u001b[1;32m     69\u001b[0m   \u001b[0;32mdef\u001b[0m \u001b[0mapply\u001b[0m\u001b[0;34m(\u001b[0m\u001b[0mself\u001b[0m\u001b[0;34m,\u001b[0m \u001b[0mnamed_args\u001b[0m\u001b[0;34m)\u001b[0m\u001b[0;34m:\u001b[0m\u001b[0;34m\u001b[0m\u001b[0;34m\u001b[0m\u001b[0m\n",
            "\u001b[0;32m/usr/local/lib/python3.6/dist-packages/ee/function.py\u001b[0m in \u001b[0;36mapply\u001b[0;34m(self, named_args)\u001b[0m\n\u001b[1;32m     78\u001b[0m       \u001b[0mto\u001b[0m \u001b[0mthat\u001b[0m \u001b[0mtype\u001b[0m\u001b[0;34m.\u001b[0m\u001b[0;34m\u001b[0m\u001b[0;34m\u001b[0m\u001b[0m\n\u001b[1;32m     79\u001b[0m     \"\"\"\n\u001b[0;32m---> 80\u001b[0;31m     \u001b[0mresult\u001b[0m \u001b[0;34m=\u001b[0m \u001b[0mcomputedobject\u001b[0m\u001b[0;34m.\u001b[0m\u001b[0mComputedObject\u001b[0m\u001b[0;34m(\u001b[0m\u001b[0mself\u001b[0m\u001b[0;34m,\u001b[0m \u001b[0mself\u001b[0m\u001b[0;34m.\u001b[0m\u001b[0mpromoteArgs\u001b[0m\u001b[0;34m(\u001b[0m\u001b[0mnamed_args\u001b[0m\u001b[0;34m)\u001b[0m\u001b[0;34m)\u001b[0m\u001b[0;34m\u001b[0m\u001b[0;34m\u001b[0m\u001b[0m\n\u001b[0m\u001b[1;32m     81\u001b[0m     \u001b[0;32mreturn\u001b[0m \u001b[0mFunction\u001b[0m\u001b[0;34m.\u001b[0m\u001b[0m_promoter\u001b[0m\u001b[0;34m(\u001b[0m\u001b[0mresult\u001b[0m\u001b[0;34m,\u001b[0m \u001b[0mself\u001b[0m\u001b[0;34m.\u001b[0m\u001b[0mgetReturnType\u001b[0m\u001b[0;34m(\u001b[0m\u001b[0;34m)\u001b[0m\u001b[0;34m)\u001b[0m\u001b[0;34m\u001b[0m\u001b[0;34m\u001b[0m\u001b[0m\n\u001b[1;32m     82\u001b[0m \u001b[0;34m\u001b[0m\u001b[0m\n",
            "\u001b[0;32m/usr/local/lib/python3.6/dist-packages/ee/function.py\u001b[0m in \u001b[0;36mpromoteArgs\u001b[0;34m(self, args)\u001b[0m\n\u001b[1;32m    105\u001b[0m       \u001b[0mname\u001b[0m \u001b[0;34m=\u001b[0m \u001b[0mspec\u001b[0m\u001b[0;34m[\u001b[0m\u001b[0;34m'name'\u001b[0m\u001b[0;34m]\u001b[0m\u001b[0;34m\u001b[0m\u001b[0;34m\u001b[0m\u001b[0m\n\u001b[1;32m    106\u001b[0m       \u001b[0;32mif\u001b[0m \u001b[0mname\u001b[0m \u001b[0;32min\u001b[0m \u001b[0margs\u001b[0m\u001b[0;34m:\u001b[0m\u001b[0;34m\u001b[0m\u001b[0;34m\u001b[0m\u001b[0m\n\u001b[0;32m--> 107\u001b[0;31m         \u001b[0mpromoted_args\u001b[0m\u001b[0;34m[\u001b[0m\u001b[0mname\u001b[0m\u001b[0;34m]\u001b[0m \u001b[0;34m=\u001b[0m \u001b[0mFunction\u001b[0m\u001b[0;34m.\u001b[0m\u001b[0m_promoter\u001b[0m\u001b[0;34m(\u001b[0m\u001b[0margs\u001b[0m\u001b[0;34m[\u001b[0m\u001b[0mname\u001b[0m\u001b[0;34m]\u001b[0m\u001b[0;34m,\u001b[0m \u001b[0mspec\u001b[0m\u001b[0;34m[\u001b[0m\u001b[0;34m'type'\u001b[0m\u001b[0;34m]\u001b[0m\u001b[0;34m)\u001b[0m\u001b[0;34m\u001b[0m\u001b[0;34m\u001b[0m\u001b[0m\n\u001b[0m\u001b[1;32m    108\u001b[0m       \u001b[0;32melif\u001b[0m \u001b[0;32mnot\u001b[0m \u001b[0mspec\u001b[0m\u001b[0;34m.\u001b[0m\u001b[0mget\u001b[0m\u001b[0;34m(\u001b[0m\u001b[0;34m'optional'\u001b[0m\u001b[0;34m)\u001b[0m\u001b[0;34m:\u001b[0m\u001b[0;34m\u001b[0m\u001b[0;34m\u001b[0m\u001b[0m\n\u001b[1;32m    109\u001b[0m         raise ee_exception.EEException(\n",
            "\u001b[0;32m/usr/local/lib/python3.6/dist-packages/ee/__init__.py\u001b[0m in \u001b[0;36m_Promote\u001b[0;34m(arg, klass)\u001b[0m\n\u001b[1;32m    240\u001b[0m       \u001b[0;31m# A native function that needs to be wrapped.\u001b[0m\u001b[0;34m\u001b[0m\u001b[0;34m\u001b[0m\u001b[0;34m\u001b[0m\u001b[0m\n\u001b[1;32m    241\u001b[0m       \u001b[0margs_count\u001b[0m \u001b[0;34m=\u001b[0m \u001b[0mlen\u001b[0m\u001b[0;34m(\u001b[0m\u001b[0minspect\u001b[0m\u001b[0;34m.\u001b[0m\u001b[0mgetargspec\u001b[0m\u001b[0;34m(\u001b[0m\u001b[0marg\u001b[0m\u001b[0;34m)\u001b[0m\u001b[0;34m.\u001b[0m\u001b[0margs\u001b[0m\u001b[0;34m)\u001b[0m\u001b[0;34m\u001b[0m\u001b[0;34m\u001b[0m\u001b[0m\n\u001b[0;32m--> 242\u001b[0;31m       \u001b[0;32mreturn\u001b[0m \u001b[0mCustomFunction\u001b[0m\u001b[0;34m.\u001b[0m\u001b[0mcreate\u001b[0m\u001b[0;34m(\u001b[0m\u001b[0marg\u001b[0m\u001b[0;34m,\u001b[0m \u001b[0;34m'Object'\u001b[0m\u001b[0;34m,\u001b[0m \u001b[0;34m[\u001b[0m\u001b[0;34m'Object'\u001b[0m\u001b[0;34m]\u001b[0m \u001b[0;34m*\u001b[0m \u001b[0margs_count\u001b[0m\u001b[0;34m)\u001b[0m\u001b[0;34m\u001b[0m\u001b[0;34m\u001b[0m\u001b[0m\n\u001b[0m\u001b[1;32m    243\u001b[0m     \u001b[0;32melif\u001b[0m \u001b[0misinstance\u001b[0m\u001b[0;34m(\u001b[0m\u001b[0marg\u001b[0m\u001b[0;34m,\u001b[0m \u001b[0mEncodable\u001b[0m\u001b[0;34m)\u001b[0m\u001b[0;34m:\u001b[0m\u001b[0;34m\u001b[0m\u001b[0;34m\u001b[0m\u001b[0m\n\u001b[1;32m    244\u001b[0m       \u001b[0;31m# An ee.Function or a computed function like the return value of\u001b[0m\u001b[0;34m\u001b[0m\u001b[0;34m\u001b[0m\u001b[0;34m\u001b[0m\u001b[0m\n",
            "\u001b[0;32m/usr/local/lib/python3.6/dist-packages/ee/customfunction.py\u001b[0m in \u001b[0;36mcreate\u001b[0;34m(func, return_type, arg_types)\u001b[0m\n\u001b[1;32m    119\u001b[0m         \u001b[0;34m'args'\u001b[0m\u001b[0;34m:\u001b[0m \u001b[0margs\u001b[0m\u001b[0;34m\u001b[0m\u001b[0;34m\u001b[0m\u001b[0m\n\u001b[1;32m    120\u001b[0m     }\n\u001b[0;32m--> 121\u001b[0;31m     \u001b[0;32mreturn\u001b[0m \u001b[0mCustomFunction\u001b[0m\u001b[0;34m(\u001b[0m\u001b[0msignature\u001b[0m\u001b[0;34m,\u001b[0m \u001b[0mfunc\u001b[0m\u001b[0;34m)\u001b[0m\u001b[0;34m\u001b[0m\u001b[0;34m\u001b[0m\u001b[0m\n\u001b[0m\u001b[1;32m    122\u001b[0m \u001b[0;34m\u001b[0m\u001b[0m\n\u001b[1;32m    123\u001b[0m   \u001b[0;34m@\u001b[0m\u001b[0mstaticmethod\u001b[0m\u001b[0;34m\u001b[0m\u001b[0;34m\u001b[0m\u001b[0m\n",
            "\u001b[0;32m/usr/local/lib/python3.6/dist-packages/ee/customfunction.py\u001b[0m in \u001b[0;36m__init__\u001b[0;34m(self, signature, body)\u001b[0m\n\u001b[1;32m     42\u001b[0m     \u001b[0;31m# The signature of the function.\u001b[0m\u001b[0;34m\u001b[0m\u001b[0;34m\u001b[0m\u001b[0;34m\u001b[0m\u001b[0m\n\u001b[1;32m     43\u001b[0m     self._signature = CustomFunction._resolveNamelessArgs(\n\u001b[0;32m---> 44\u001b[0;31m         signature, variables, body)\n\u001b[0m\u001b[1;32m     45\u001b[0m \u001b[0;34m\u001b[0m\u001b[0m\n\u001b[1;32m     46\u001b[0m     \u001b[0;31m# The expression to evaluate.\u001b[0m\u001b[0;34m\u001b[0m\u001b[0;34m\u001b[0m\u001b[0;34m\u001b[0m\u001b[0m\n",
            "\u001b[0;32m/usr/local/lib/python3.6/dist-packages/ee/customfunction.py\u001b[0m in \u001b[0;36m_resolveNamelessArgs\u001b[0;34m(signature, variables, body)\u001b[0m\n\u001b[1;32m    163\u001b[0m           \u001b[0mcount\u001b[0m \u001b[0;34m+=\u001b[0m \u001b[0mCountFunctions\u001b[0m\u001b[0;34m(\u001b[0m\u001b[0msub_expression\u001b[0m\u001b[0;34m)\u001b[0m\u001b[0;34m\u001b[0m\u001b[0;34m\u001b[0m\u001b[0m\n\u001b[1;32m    164\u001b[0m       \u001b[0;32mreturn\u001b[0m \u001b[0mcount\u001b[0m\u001b[0;34m\u001b[0m\u001b[0;34m\u001b[0m\u001b[0m\n\u001b[0;32m--> 165\u001b[0;31m     \u001b[0mserialized_body\u001b[0m \u001b[0;34m=\u001b[0m \u001b[0mserializer\u001b[0m\u001b[0;34m.\u001b[0m\u001b[0mencode\u001b[0m\u001b[0;34m(\u001b[0m\u001b[0mbody\u001b[0m\u001b[0;34m(\u001b[0m\u001b[0;34m*\u001b[0m\u001b[0mvariables\u001b[0m\u001b[0;34m)\u001b[0m\u001b[0;34m)\u001b[0m\u001b[0;34m\u001b[0m\u001b[0;34m\u001b[0m\u001b[0m\n\u001b[0m\u001b[1;32m    166\u001b[0m     \u001b[0mbase_name\u001b[0m \u001b[0;34m=\u001b[0m \u001b[0;34m'_MAPPING_VAR_%d_'\u001b[0m \u001b[0;34m%\u001b[0m \u001b[0mCountFunctions\u001b[0m\u001b[0;34m(\u001b[0m\u001b[0mserialized_body\u001b[0m\u001b[0;34m)\u001b[0m\u001b[0;34m\u001b[0m\u001b[0;34m\u001b[0m\u001b[0m\n\u001b[1;32m    167\u001b[0m \u001b[0;34m\u001b[0m\u001b[0m\n",
            "\u001b[0;32m/usr/local/lib/python3.6/dist-packages/ee/collection.py\u001b[0m in \u001b[0;36m<lambda>\u001b[0;34m(e)\u001b[0m\n\u001b[1;32m    195\u001b[0m     \"\"\"\n\u001b[1;32m    196\u001b[0m     \u001b[0melement_type\u001b[0m \u001b[0;34m=\u001b[0m \u001b[0mself\u001b[0m\u001b[0;34m.\u001b[0m\u001b[0melementType\u001b[0m\u001b[0;34m(\u001b[0m\u001b[0;34m)\u001b[0m\u001b[0;34m\u001b[0m\u001b[0;34m\u001b[0m\u001b[0m\n\u001b[0;32m--> 197\u001b[0;31m     \u001b[0mwith_cast\u001b[0m \u001b[0;34m=\u001b[0m \u001b[0;32mlambda\u001b[0m \u001b[0me\u001b[0m\u001b[0;34m:\u001b[0m \u001b[0malgorithm\u001b[0m\u001b[0;34m(\u001b[0m\u001b[0melement_type\u001b[0m\u001b[0;34m(\u001b[0m\u001b[0me\u001b[0m\u001b[0;34m)\u001b[0m\u001b[0;34m)\u001b[0m\u001b[0;34m\u001b[0m\u001b[0;34m\u001b[0m\u001b[0m\n\u001b[0m\u001b[1;32m    198\u001b[0m     return self._cast(apifunction.ApiFunction.call_(\n\u001b[1;32m    199\u001b[0m         'Collection.map', self, with_cast, opt_dropNulls))\n",
            "\u001b[0;32m<ipython-input-35-85d0317e93a8>\u001b[0m in \u001b[0;36mtab_convert\u001b[0;34m(image)\u001b[0m\n\u001b[1;32m      3\u001b[0m   \u001b[0mmean\u001b[0m \u001b[0;34m=\u001b[0m \u001b[0mimage\u001b[0m\u001b[0;34m.\u001b[0m\u001b[0mreduceRegion\u001b[0m\u001b[0;34m(\u001b[0m\u001b[0mreducer\u001b[0m \u001b[0;34m=\u001b[0m \u001b[0mee\u001b[0m\u001b[0;34m.\u001b[0m\u001b[0mReducer\u001b[0m\u001b[0;34m.\u001b[0m\u001b[0mmean\u001b[0m\u001b[0;34m(\u001b[0m\u001b[0;34m)\u001b[0m\u001b[0;34m,\u001b[0m\u001b[0mmaxPixels\u001b[0m \u001b[0;34m=\u001b[0m \u001b[0;36m1e13\u001b[0m\u001b[0;34m,\u001b[0m\u001b[0mgeometry\u001b[0m \u001b[0;34m=\u001b[0m \u001b[0mgeometry\u001b[0m\u001b[0;34m)\u001b[0m\u001b[0;34m\u001b[0m\u001b[0;34m\u001b[0m\u001b[0m\n\u001b[1;32m      4\u001b[0m   return ee.Feature('null', {'mean': mean.get('NDVI2'),\n\u001b[0;32m----> 5\u001b[0;31m                             'date': date})\n\u001b[0m",
            "\u001b[0;32m/usr/local/lib/python3.6/dist-packages/ee/computedobject.py\u001b[0m in \u001b[0;36m__call__\u001b[0;34m(cls, *args, **kwargs)\u001b[0m\n\u001b[1;32m     30\u001b[0m       \u001b[0;32mreturn\u001b[0m \u001b[0margs\u001b[0m\u001b[0;34m[\u001b[0m\u001b[0;36m0\u001b[0m\u001b[0;34m]\u001b[0m\u001b[0;34m\u001b[0m\u001b[0;34m\u001b[0m\u001b[0m\n\u001b[1;32m     31\u001b[0m     \u001b[0;32melse\u001b[0m\u001b[0;34m:\u001b[0m\u001b[0;34m\u001b[0m\u001b[0;34m\u001b[0m\u001b[0m\n\u001b[0;32m---> 32\u001b[0;31m       \u001b[0;32mreturn\u001b[0m \u001b[0mtype\u001b[0m\u001b[0;34m.\u001b[0m\u001b[0m__call__\u001b[0m\u001b[0;34m(\u001b[0m\u001b[0mcls\u001b[0m\u001b[0;34m,\u001b[0m \u001b[0;34m*\u001b[0m\u001b[0margs\u001b[0m\u001b[0;34m,\u001b[0m \u001b[0;34m**\u001b[0m\u001b[0mkwargs\u001b[0m\u001b[0;34m)\u001b[0m\u001b[0;34m\u001b[0m\u001b[0;34m\u001b[0m\u001b[0m\n\u001b[0m\u001b[1;32m     33\u001b[0m \u001b[0;34m\u001b[0m\u001b[0m\n\u001b[1;32m     34\u001b[0m \u001b[0;34m\u001b[0m\u001b[0m\n",
            "\u001b[0;32m/usr/local/lib/python3.6/dist-packages/ee/feature.py\u001b[0m in \u001b[0;36m__init__\u001b[0;34m(self, geom, opt_properties)\u001b[0m\n\u001b[1;32m     75\u001b[0m       \u001b[0;31m# turning out to be GeoJSON.\u001b[0m\u001b[0;34m\u001b[0m\u001b[0;34m\u001b[0m\u001b[0;34m\u001b[0m\u001b[0m\n\u001b[1;32m     76\u001b[0m       super(Feature, self).__init__(feature_constructor, {\n\u001b[0;32m---> 77\u001b[0;31m           \u001b[0;34m'geometry'\u001b[0m\u001b[0;34m:\u001b[0m \u001b[0mgeometry\u001b[0m\u001b[0;34m.\u001b[0m\u001b[0mGeometry\u001b[0m\u001b[0;34m(\u001b[0m\u001b[0mgeom\u001b[0m\u001b[0;34m)\u001b[0m\u001b[0;34m,\u001b[0m\u001b[0;34m\u001b[0m\u001b[0;34m\u001b[0m\u001b[0m\n\u001b[0m\u001b[1;32m     78\u001b[0m           \u001b[0;34m'metadata'\u001b[0m\u001b[0;34m:\u001b[0m \u001b[0mopt_properties\u001b[0m \u001b[0;32mor\u001b[0m \u001b[0;32mNone\u001b[0m\u001b[0;34m\u001b[0m\u001b[0;34m\u001b[0m\u001b[0m\n\u001b[1;32m     79\u001b[0m       })\n",
            "\u001b[0;32m/usr/local/lib/python3.6/dist-packages/ee/computedobject.py\u001b[0m in \u001b[0;36m__call__\u001b[0;34m(cls, *args, **kwargs)\u001b[0m\n\u001b[1;32m     30\u001b[0m       \u001b[0;32mreturn\u001b[0m \u001b[0margs\u001b[0m\u001b[0;34m[\u001b[0m\u001b[0;36m0\u001b[0m\u001b[0;34m]\u001b[0m\u001b[0;34m\u001b[0m\u001b[0;34m\u001b[0m\u001b[0m\n\u001b[1;32m     31\u001b[0m     \u001b[0;32melse\u001b[0m\u001b[0;34m:\u001b[0m\u001b[0;34m\u001b[0m\u001b[0;34m\u001b[0m\u001b[0m\n\u001b[0;32m---> 32\u001b[0;31m       \u001b[0;32mreturn\u001b[0m \u001b[0mtype\u001b[0m\u001b[0;34m.\u001b[0m\u001b[0m__call__\u001b[0m\u001b[0;34m(\u001b[0m\u001b[0mcls\u001b[0m\u001b[0;34m,\u001b[0m \u001b[0;34m*\u001b[0m\u001b[0margs\u001b[0m\u001b[0;34m,\u001b[0m \u001b[0;34m**\u001b[0m\u001b[0mkwargs\u001b[0m\u001b[0;34m)\u001b[0m\u001b[0;34m\u001b[0m\u001b[0;34m\u001b[0m\u001b[0m\n\u001b[0m\u001b[1;32m     33\u001b[0m \u001b[0;34m\u001b[0m\u001b[0m\n\u001b[1;32m     34\u001b[0m \u001b[0;34m\u001b[0m\u001b[0m\n",
            "\u001b[0;32m/usr/local/lib/python3.6/dist-packages/ee/geometry.py\u001b[0m in \u001b[0;36m__init__\u001b[0;34m(self, geo_json, opt_proj, opt_geodesic, opt_evenOdd)\u001b[0m\n\u001b[1;32m     81\u001b[0m \u001b[0;34m\u001b[0m\u001b[0m\n\u001b[1;32m     82\u001b[0m     \u001b[0;32mif\u001b[0m \u001b[0;32mnot\u001b[0m \u001b[0mGeometry\u001b[0m\u001b[0;34m.\u001b[0m\u001b[0m_isValidGeometry\u001b[0m\u001b[0;34m(\u001b[0m\u001b[0mgeo_json\u001b[0m\u001b[0;34m)\u001b[0m\u001b[0;34m:\u001b[0m\u001b[0;34m\u001b[0m\u001b[0;34m\u001b[0m\u001b[0m\n\u001b[0;32m---> 83\u001b[0;31m       \u001b[0;32mraise\u001b[0m \u001b[0mee_exception\u001b[0m\u001b[0;34m.\u001b[0m\u001b[0mEEException\u001b[0m\u001b[0;34m(\u001b[0m\u001b[0;34m'Invalid GeoJSON geometry.'\u001b[0m\u001b[0;34m)\u001b[0m\u001b[0;34m\u001b[0m\u001b[0;34m\u001b[0m\u001b[0m\n\u001b[0m\u001b[1;32m     84\u001b[0m \u001b[0;34m\u001b[0m\u001b[0m\n\u001b[1;32m     85\u001b[0m     \u001b[0msuper\u001b[0m\u001b[0;34m(\u001b[0m\u001b[0mGeometry\u001b[0m\u001b[0;34m,\u001b[0m \u001b[0mself\u001b[0m\u001b[0;34m)\u001b[0m\u001b[0;34m.\u001b[0m\u001b[0m__init__\u001b[0m\u001b[0;34m(\u001b[0m\u001b[0;32mNone\u001b[0m\u001b[0;34m,\u001b[0m \u001b[0;32mNone\u001b[0m\u001b[0;34m)\u001b[0m\u001b[0;34m\u001b[0m\u001b[0;34m\u001b[0m\u001b[0m\n",
            "\u001b[0;31mEEException\u001b[0m: Invalid GeoJSON geometry."
          ]
        }
      ]
    },
    {
      "cell_type": "code",
      "metadata": {
        "id": "LeDho0-TJI48",
        "colab_type": "code",
        "colab": {}
      },
      "source": [
        "i  = clouds.first()"
      ],
      "execution_count": 0,
      "outputs": []
    },
    {
      "cell_type": "code",
      "metadata": {
        "id": "9udGN_zPJZGb",
        "colab_type": "code",
        "outputId": "869effa4-781f-4e30-e55f-b1eb5b5a84c9",
        "colab": {
          "base_uri": "https://localhost:8080/",
          "height": 167
        }
      },
      "source": [
        "mean = i.reduceRegion(reducer = ee.Reducer.mean(),scale = 3,maxPixels = 1e13,geometry = geometry)"
      ],
      "execution_count": 0,
      "outputs": [
        {
          "output_type": "error",
          "ename": "NameError",
          "evalue": "ignored",
          "traceback": [
            "\u001b[0;31m---------------------------------------------------------------------------\u001b[0m",
            "\u001b[0;31mNameError\u001b[0m                                 Traceback (most recent call last)",
            "\u001b[0;32m<ipython-input-30-83f0266ee228>\u001b[0m in \u001b[0;36m<module>\u001b[0;34m()\u001b[0m\n\u001b[0;32m----> 1\u001b[0;31m \u001b[0mmean\u001b[0m \u001b[0;34m=\u001b[0m \u001b[0mi\u001b[0m\u001b[0;34m.\u001b[0m\u001b[0mreduceRegion\u001b[0m\u001b[0;34m(\u001b[0m\u001b[0mreducer\u001b[0m \u001b[0;34m=\u001b[0m \u001b[0mee\u001b[0m\u001b[0;34m.\u001b[0m\u001b[0mReducer\u001b[0m\u001b[0;34m.\u001b[0m\u001b[0mmean\u001b[0m\u001b[0;34m(\u001b[0m\u001b[0;34m)\u001b[0m\u001b[0;34m,\u001b[0m\u001b[0mscale\u001b[0m \u001b[0;34m=\u001b[0m \u001b[0;36m3\u001b[0m\u001b[0;34m,\u001b[0m\u001b[0mmaxPixels\u001b[0m \u001b[0;34m=\u001b[0m \u001b[0;36m1e13\u001b[0m\u001b[0;34m,\u001b[0m\u001b[0mgeometry\u001b[0m \u001b[0;34m=\u001b[0m \u001b[0mgeometry\u001b[0m\u001b[0;34m)\u001b[0m\u001b[0;34m\u001b[0m\u001b[0;34m\u001b[0m\u001b[0m\n\u001b[0m",
            "\u001b[0;31mNameError\u001b[0m: name 'geometry' is not defined"
          ]
        }
      ]
    },
    {
      "cell_type": "code",
      "metadata": {
        "id": "GacrC-MpNjn2",
        "colab_type": "code",
        "outputId": "8a756ebe-b747-40d7-935e-e533fd7aa5c2",
        "colab": {
          "base_uri": "https://localhost:8080/",
          "height": 34
        }
      },
      "source": [
        "i.clip(cord)"
      ],
      "execution_count": 0,
      "outputs": [
        {
          "output_type": "execute_result",
          "data": {
            "text/plain": [
              "<ee.image.Image at 0x7f5e9bd17e48>"
            ]
          },
          "metadata": {
            "tags": []
          },
          "execution_count": 102
        }
      ]
    },
    {
      "cell_type": "code",
      "metadata": {
        "id": "__Q6K4ElPu9N",
        "colab_type": "code",
        "colab": {}
      },
      "source": [
        "out = mean.get('NDVI2')"
      ],
      "execution_count": 0,
      "outputs": []
    },
    {
      "cell_type": "code",
      "metadata": {
        "id": "LBalg0yPP0Je",
        "colab_type": "code",
        "colab": {}
      },
      "source": [
        "f = ee.Feature(out)"
      ],
      "execution_count": 0,
      "outputs": []
    },
    {
      "cell_type": "code",
      "metadata": {
        "id": "r6N6udm4P_Pt",
        "colab_type": "code",
        "colab": {}
      },
      "source": [
        "task = ee.batch.Export.table.toDrive(collection=f,fileFormat='CSV')"
      ],
      "execution_count": 0,
      "outputs": []
    },
    {
      "cell_type": "code",
      "metadata": {
        "id": "C4gBf24MQKXK",
        "colab_type": "code",
        "colab": {}
      },
      "source": [
        "task.start()\n"
      ],
      "execution_count": 0,
      "outputs": []
    },
    {
      "cell_type": "code",
      "metadata": {
        "id": "J4LO3SE8RH_k",
        "colab_type": "code",
        "outputId": "bba25287-86c2-41b9-b24d-b8f4f5892278",
        "colab": {
          "base_uri": "https://localhost:8080/",
          "height": 173
        }
      },
      "source": [
        "task.status()"
      ],
      "execution_count": 0,
      "outputs": [
        {
          "output_type": "execute_result",
          "data": {
            "text/plain": [
              "{'creation_timestamp_ms': 1584868248432,\n",
              " 'description': 'myExportTableTask',\n",
              " 'error_message': 'Dictionary.get: Dictionary does not contain key: NDVI2.',\n",
              " 'id': '7M7WR2ZQMQGUDKSOESPMD45J',\n",
              " 'name': 'projects/earthengine-legacy/operations/7M7WR2ZQMQGUDKSOESPMD45J',\n",
              " 'start_timestamp_ms': 1584868261121,\n",
              " 'state': 'FAILED',\n",
              " 'task_type': 'EXPORT_FEATURES',\n",
              " 'update_timestamp_ms': 1584868261650}"
            ]
          },
          "metadata": {
            "tags": []
          },
          "execution_count": 51
        }
      ]
    },
    {
      "cell_type": "code",
      "metadata": {
        "id": "Nzk0oBbZRPGz",
        "colab_type": "code",
        "outputId": "70e33a18-c2a2-46e0-81ea-d36bbb95414c",
        "colab": {
          "base_uri": "https://localhost:8080/",
          "height": 132
        }
      },
      "source": [
        "\n",
        "var ft_col = onlyPrecipitation.map(function(img) {\n",
        "    var date = img.get('system:time_start')\n",
        "    var mean = img.reduceRegion({\n",
        "        reducer: ee.Reducer.mean(),\n",
        "        geometry: geometry,\n",
        "        maxPixels: 1e13\n",
        "    }).get('precipitation')\n",
        "    return ee.Feature(null, { precipitation: mean, 'system:time_start': date })\n",
        "})"
      ],
      "execution_count": 0,
      "outputs": [
        {
          "output_type": "error",
          "ename": "SyntaxError",
          "evalue": "ignored",
          "traceback": [
            "\u001b[0;36m  File \u001b[0;32m\"<ipython-input-47-322a9f01fff6>\"\u001b[0;36m, line \u001b[0;32m2\u001b[0m\n\u001b[0;31m    var ft_col = onlyPrecipitation.map(function(img) {\u001b[0m\n\u001b[0m             ^\u001b[0m\n\u001b[0;31mSyntaxError\u001b[0m\u001b[0;31m:\u001b[0m invalid syntax\n"
          ]
        }
      ]
    },
    {
      "cell_type": "code",
      "metadata": {
        "id": "ioJOyw6OglZG",
        "colab_type": "code",
        "colab": {}
      },
      "source": [
        ""
      ],
      "execution_count": 0,
      "outputs": []
    }
  ]
}